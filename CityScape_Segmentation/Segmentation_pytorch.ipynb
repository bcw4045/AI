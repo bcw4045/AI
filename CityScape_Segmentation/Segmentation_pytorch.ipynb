{
  "cells": [
    {
      "cell_type": "markdown",
      "source": [
        "# 라이브러리 임포트"
      ],
      "metadata": {
        "id": "FMkJgifzsCJy"
      },
      "id": "FMkJgifzsCJy"
    },
    {
      "cell_type": "code",
      "execution_count": null,
      "id": "ca10be27",
      "metadata": {
        "id": "ca10be27"
      },
      "outputs": [],
      "source": [
        "import torch\n",
        "import torch.nn as nn\n",
        "import torch.nn.functional as F\n",
        "import torch.optim as optim\n",
        "from torch.utils.data import Dataset, DataLoader\n",
        "from torchvision import transforms\n",
        "from torchvision.datasets import Cityscapes\n",
        "\n",
        "from PIL import Image\n",
        "import numpy as np\n",
        "import pandas as pd\n",
        "import matplotlib.pyplot as plt\n",
        "import albumentations as A"
      ]
    },
    {
      "cell_type": "markdown",
      "source": [
        "# CUDA 설정"
      ],
      "metadata": {
        "id": "wJ5E3K3LsFtk"
      },
      "id": "wJ5E3K3LsFtk"
    },
    {
      "cell_type": "code",
      "execution_count": null,
      "id": "d0206029",
      "metadata": {
        "id": "d0206029",
        "outputId": "58a040f3-273b-4052-fa37-27402794fc06"
      },
      "outputs": [
        {
          "data": {
            "text/plain": [
              "<torch._C.Generator at 0x7f8fcc168770>"
            ]
          },
          "execution_count": 115,
          "metadata": {},
          "output_type": "execute_result"
        }
      ],
      "source": [
        "torch.manual_seed(777)"
      ]
    },
    {
      "cell_type": "code",
      "execution_count": null,
      "id": "db55ab85",
      "metadata": {
        "id": "db55ab85"
      },
      "outputs": [],
      "source": [
        "torch.cuda.manual_seed_all(777)"
      ]
    },
    {
      "cell_type": "code",
      "execution_count": null,
      "id": "861c84f2",
      "metadata": {
        "id": "861c84f2",
        "outputId": "5072397c-5f29-40f0-a313-b6762e439711"
      },
      "outputs": [
        {
          "name": "stdout",
          "output_type": "stream",
          "text": [
            "cuda:0\n"
          ]
        }
      ],
      "source": [
        "device = \"cuda:0\" if torch.cuda.is_available() else \"cpu\"\n",
        "device = torch.device(device)\n",
        "print(device)"
      ]
    },
    {
      "cell_type": "markdown",
      "source": [
        "# 데이터 전처리"
      ],
      "metadata": {
        "id": "nw8p4YcbsIZV"
      },
      "id": "nw8p4YcbsIZV"
    },
    {
      "cell_type": "code",
      "execution_count": null,
      "id": "5da2c7cc",
      "metadata": {
        "id": "5da2c7cc"
      },
      "outputs": [],
      "source": [
        "mapping_9 = { \n",
        "        0: 0,\n",
        "        1: 0,\n",
        "        2: 0,\n",
        "        3: 0,\n",
        "        4: 8,\n",
        "        5: 8,\n",
        "        6: 8,\n",
        "        7: 1,\n",
        "        8: 1,\n",
        "        9: 1,\n",
        "        10: 1,\n",
        "        11: 4,\n",
        "        12: 4,\n",
        "        13: 4,\n",
        "        14: 4,\n",
        "        15: 4,\n",
        "        16: 4,\n",
        "        17: 5,\n",
        "        18: 5,\n",
        "        19: 5,\n",
        "        20: 5,\n",
        "        21: 6,\n",
        "        22: 6,\n",
        "        23: 7,\n",
        "        24: 2,\n",
        "        25: 2,\n",
        "        26: 3,\n",
        "        27: 3,\n",
        "        28: 3,\n",
        "        29: 3,\n",
        "        30: 3,\n",
        "        31: 3,\n",
        "        32: 3,\n",
        "        33: 3,\n",
        "        -1: 0\n",
        "    }"
      ]
    },
    {
      "cell_type": "code",
      "execution_count": null,
      "id": "e41d3565",
      "metadata": {
        "id": "e41d3565"
      },
      "outputs": [],
      "source": [
        "def encode_labels(mask):\n",
        "    label_mask = np.zeros_like(mask)\n",
        "    for k in mapping_9:\n",
        "        label_mask[mask == k] = mapping_9[k]\n",
        "    return torch.LongTensor(label_mask)"
      ]
    },
    {
      "cell_type": "markdown",
      "source": [
        "# Custom Dataset"
      ],
      "metadata": {
        "id": "3MW2wCaasKMJ"
      },
      "id": "3MW2wCaasKMJ"
    },
    {
      "cell_type": "code",
      "execution_count": null,
      "id": "6c74957c",
      "metadata": {
        "id": "6c74957c"
      },
      "outputs": [],
      "source": [
        "class Customdataset(nn.Module):\n",
        "    def __init__(self, mode='train'):\n",
        "        self.train_trans = transforms.Compose([\n",
        "            transforms.Resize((128, 256)),\n",
        "            transforms.ToTensor(),\n",
        "        ])\n",
        "        \n",
        "        self.target_trans = transforms.Compose([\n",
        "            transforms.Resize((128, 256)),\n",
        "        ])\n",
        "        \n",
        "        self.mode = mode\n",
        "        \n",
        "        \n",
        "        self.train_dataset = Cityscapes(root='/data/Segdata2', split=mode, \n",
        "                     mode='fine', target_type='semantic', transform=self.train_trans,\n",
        "                                       target_transform=self.target_trans)\n",
        "\n",
        "    def __len__(self):\n",
        "        return len(self.train_dataset)\n",
        "    \n",
        "    def __getitem__(self, idx):\n",
        "        data, target = self.train_dataset[idx]\n",
        "        if self.mode=='train':\n",
        "            data = np.array(data)\n",
        "            data = torch.Tensor(data)\n",
        "            target = encode_labels(np.array(target))\n",
        "        else:\n",
        "            target = encode_labels(np.array(target))\n",
        "            \n",
        "        return data, target"
      ]
    },
    {
      "cell_type": "code",
      "execution_count": null,
      "id": "762265e4",
      "metadata": {
        "id": "762265e4"
      },
      "outputs": [],
      "source": [
        "train_dataset = Customdataset()\n",
        "val_dataset = Customdataset('val')\n",
        "test_dataset = Customdataset('test')"
      ]
    },
    {
      "cell_type": "code",
      "execution_count": null,
      "id": "f5a80fe1",
      "metadata": {
        "id": "f5a80fe1"
      },
      "outputs": [],
      "source": [
        "batch_size = 4\n",
        "train_load = DataLoader(train_dataset, batch_size, num_workers=8, shuffle=True)\n",
        "val_load = DataLoader(val_dataset, batch_size, num_workers=8, shuffle=True)\n",
        "test_load = DataLoader(test_dataset, batch_size, num_workers=8, shuffle=True)"
      ]
    },
    {
      "cell_type": "markdown",
      "source": [
        "# Model"
      ],
      "metadata": {
        "id": "15TYZbIwsAMx"
      },
      "id": "15TYZbIwsAMx"
    },
    {
      "cell_type": "markdown",
      "id": "d01514ce",
      "metadata": {
        "id": "d01514ce"
      },
      "source": [
        "## unet with resnet backbone(convtranspose2d)"
      ]
    },
    {
      "cell_type": "code",
      "execution_count": null,
      "id": "c7021c94",
      "metadata": {
        "id": "c7021c94"
      },
      "outputs": [],
      "source": [
        "import torch.nn as nn\n",
        "import torchvision.models\n",
        "\n",
        "\n",
        "def upconv(in_channels, mid_channels, out_channels):\n",
        "    block = nn.Sequential(\n",
        "        nn.Conv2d(in_channels, mid_channels, 3, padding=1),\n",
        "        nn.BatchNorm2d(mid_channels),\n",
        "        nn.ReLU(),\n",
        "        nn.Dropout(0.8),\n",
        "        nn.Conv2d(mid_channels, mid_channels, 3, padding=1),\n",
        "        nn.BatchNorm2d(mid_channels),\n",
        "        nn.ReLU(),\n",
        "        nn.Dropout(0.8),\n",
        "        nn.ConvTranspose2d(mid_channels, out_channels, 3, 2, 1, 1),\n",
        "        nn.BatchNorm2d(out_channels),\n",
        "        nn.ReLU()\n",
        "    )\n",
        "    return block\n",
        "\n",
        "def convrelu(in_channels, out_channels, kernel, padding):\n",
        "    return nn.Sequential(\n",
        "    nn.Conv2d(in_channels, out_channels, kernel, padding=padding),\n",
        "    nn.BatchNorm2d(out_channels),\n",
        "    nn.ReLU(inplace=True),\n",
        ")\n",
        "\n",
        "\n",
        "\n",
        "class ResNetUNet(nn.Module):\n",
        "    def __init__(self, n_class):\n",
        "        super().__init__()\n",
        "\n",
        "        self.base_model = torchvision.models.resnet18(pretrained=True)\n",
        "        self.base_layers = list(self.base_model.children())\n",
        "\n",
        "        self.layer0 = nn.Sequential(*self.base_layers[:3]) # size=(N, 64, x.H/2, x.W/2)\n",
        "        self.layer0_1x1 = convrelu(64, 64, 1, 0)\n",
        "        self.layer1 = nn.Sequential(*self.base_layers[3:5]) # size=(N, 64, x.H/4, x.W/4)\n",
        "        self.layer1_1x1 = convrelu(64, 64, 1, 0)\n",
        "        self.layer2 = self.base_layers[5]  # size=(N, 128, x.H/8, x.W/8)\n",
        "        self.layer2_1x1 = convrelu(128, 128, 1, 0)\n",
        "        self.layer3 = self.base_layers[6]  # size=(N, 256, x.H/16, x.W/16)\n",
        "        self.layer3_1x1 = convrelu(256, 256, 1, 0)\n",
        "        self.layer4 = self.base_layers[7]  # size=(N, 512, x.H/32, x.W/32)\n",
        "        self.layer4_1x1 = convrelu(512, 512, 1, 0)\n",
        "\n",
        "        self.upsample = nn.ConvTranspose2d(512, 512, kernel_size=3, stride=2, padding=1, output_padding=1)\n",
        "        self.conv_up3 = upconv(256 + 512, 512 ,512)\n",
        "        self.conv_up2 = upconv(128 + 512, 256 ,256)\n",
        "        self.conv_up1 = upconv(64 + 256, 256 ,256)\n",
        "        self.conv_up0 = upconv(64 + 256, 128 ,128)\n",
        "\n",
        "        self.conv_original_size0 = convrelu(3, 64, 3, 1)\n",
        "        self.conv_original_size1 = convrelu(64, 64, 3, 1)\n",
        "        self.conv_original_size2 = convrelu(64 + 128, 64, 3, 1)\n",
        "\n",
        "        self.conv_last = nn.Conv2d(64, n_class, 1)\n",
        "\n",
        "    def forward(self, input):\n",
        "        x_original = self.conv_original_size0(input)\n",
        "        x_original = self.conv_original_size1(x_original)\n",
        "\n",
        "        layer0 = self.layer0(input)\n",
        "        layer1 = self.layer1(layer0)\n",
        "        layer2 = self.layer2(layer1)\n",
        "        layer3 = self.layer3(layer2)\n",
        "        layer4 = self.layer4(layer3)\n",
        "\n",
        "        layer4 = self.layer4_1x1(layer4)\n",
        "        \n",
        "        x = self.upsample(layer4)\n",
        "        \n",
        "        \n",
        "        layer3 = self.layer3_1x1(layer3)\n",
        "        x = torch.cat([x, layer3], dim=1)\n",
        "        x = self.conv_up3(x)\n",
        "\n",
        "        layer2 = self.layer2_1x1(layer2)\n",
        "        x = torch.cat([x, layer2], dim=1)\n",
        "        x = self.conv_up2(x)\n",
        "\n",
        "        layer1 = self.layer1_1x1(layer1)\n",
        "        x = torch.cat([x, layer1], dim=1)\n",
        "        x = self.conv_up1(x)\n",
        "\n",
        "        layer0 = self.layer0_1x1(layer0)\n",
        "        x = torch.cat([x, layer0], dim=1)\n",
        "        x = self.conv_up0(x)\n",
        "\n",
        "        x = torch.cat([x, x_original], dim=1)\n",
        "        x = self.conv_original_size2(x)\n",
        "\n",
        "        out = self.conv_last(x)\n",
        "\n",
        "        return out"
      ]
    },
    {
      "cell_type": "markdown",
      "source": [
        "## Unet with vgg backbone"
      ],
      "metadata": {
        "id": "qjIfcQefr3XY"
      },
      "id": "qjIfcQefr3XY"
    },
    {
      "cell_type": "code",
      "execution_count": null,
      "id": "f979e626",
      "metadata": {
        "id": "f979e626"
      },
      "outputs": [],
      "source": [
        "import torch\n",
        "import torchvision.models as models\n",
        "\n",
        "def decoder(in_channels, mid_channels, out_channels):\n",
        "    block = nn.Sequential(\n",
        "        nn.Conv2d(in_channels, mid_channels, 3, padding=1),\n",
        "        nn.BatchNorm2d(mid_channels),\n",
        "        nn.ReLU(),\n",
        "        nn.Conv2d(mid_channels, mid_channels, 3, padding=1),\n",
        "        nn.BatchNorm2d(mid_channels),\n",
        "        nn.ReLU(),\n",
        "        nn.ConvTranspose2d(mid_channels, out_channels, 3, 2, 1, 1),\n",
        "        nn.BatchNorm2d(out_channels),\n",
        "        nn.ReLU()\n",
        "    )\n",
        "    return block\n",
        "\n",
        "class vgg_unet(nn.Module):\n",
        "    def __init__(self, num_class) -> None:\n",
        "        super(vgg_unet, self).__init__()\n",
        "\n",
        "        self.pool = nn.MaxPool2d(2, 2)\n",
        "\n",
        "        self.base = models.vgg11(pretrained=True).features\n",
        "\n",
        "        self.conv1 = self.base[0:2]\n",
        "        self.conv2 = self.base[3:5]\n",
        "        self.conv3 = self.base[6:10]\n",
        "        self.conv4 = self.base[11:15]\n",
        "        self.conv5 = self.base[16:20]\n",
        "\n",
        "        self.mid = decoder(512, 512, 256) # 한번 업샘플링 후에 concat해서 업샘플링 진행\n",
        "\n",
        "        self.dec1 = decoder(256+512, 512, 256)\n",
        "        self.dec2 = decoder(256+512, 512, 128)\n",
        "        self.dec3 = decoder(128+256, 256, 128)\n",
        "        self.dec4 = decoder(128+128, 128, 64)\n",
        "        self.dec5 = nn.Sequential(\n",
        "            nn.Conv2d(64+64, 64, 3, 1, 1),\n",
        "            nn.BatchNorm2d(64),\n",
        "            nn.ReLU(),\n",
        "            nn.Conv2d(64, 64, 3, 1, 1),\n",
        "            nn.BatchNorm2d(64),\n",
        "            nn.ReLU()\n",
        "        )\n",
        "\n",
        "        self.out = nn.Conv2d(64, num_class, 1)\n",
        "        \n",
        "        self.drop = nn.Dropout(0.2)\n",
        "        \n",
        "\n",
        "  \n",
        "\n",
        "    def forward(self, x):\n",
        "        conv1 = self.conv1(x)\n",
        "        conv1 = self.drop(conv1)\n",
        "        pool1 = self.pool(conv1)\n",
        "\n",
        "        conv2 = self.conv2(pool1)\n",
        "        conv2 = self.drop(conv2)\n",
        "        pool2 = self.pool(conv2)\n",
        "\n",
        "        conv3 = self.conv3(pool2)\n",
        "        conv3 = self.drop(conv3)\n",
        "        pool3 = self.pool(conv3)\n",
        "\n",
        "        conv4 = self.conv4(pool3)\n",
        "        conv4 = self.drop(conv4)\n",
        "        pool4 = self.pool(conv4)\n",
        "\n",
        "        conv5 = self.conv5(pool4)\n",
        "        #conv5 = self.drop(conv5)\n",
        "        pool5 = self.pool(conv5)\n",
        "\n",
        "        mid = self.mid(pool5)\n",
        "\n",
        "        dec1 = self.dec1(torch.cat([mid, conv5], 1))\n",
        "        dec2 = self.dec2(torch.cat([dec1, conv4], 1))\n",
        "        dec3 = self.dec3(torch.cat([dec2, conv3], 1))\n",
        "        dec4 = self.dec4(torch.cat([dec3, conv2], 1))\n",
        "        dec5 = self.dec5(torch.cat([dec4, conv1], 1))\n",
        "\n",
        "        return self.out(dec5)"
      ]
    },
    {
      "cell_type": "markdown",
      "id": "9ac96638",
      "metadata": {
        "id": "9ac96638"
      },
      "source": [
        "# 학습"
      ]
    },
    {
      "cell_type": "code",
      "execution_count": null,
      "id": "e98c4dfc",
      "metadata": {
        "id": "e98c4dfc"
      },
      "outputs": [],
      "source": [
        "import torchmetrics\n",
        "\n",
        "criterion = nn.CrossEntropyLoss().to(device)\n",
        "model = vgg_unet(9)\n",
        "model = model.to(device)\n",
        "metrics = torchmetrics.IoU(num_classes=9).to(device)\n",
        "\n",
        "\n",
        "opt = torch.optim.Adam([param for param in model.parameters() if param.requires_grad], lr=0.001)\n",
        "scheduler = torch.optim.lr_scheduler.StepLR(opt,step_size = 10, gamma = 0.8)"
      ]
    },
    {
      "cell_type": "markdown",
      "source": [
        "## 평가 함수"
      ],
      "metadata": {
        "id": "iguAXpa3sXaS"
      },
      "id": "iguAXpa3sXaS"
    },
    {
      "cell_type": "code",
      "execution_count": null,
      "id": "dbf7c823",
      "metadata": {
        "id": "dbf7c823"
      },
      "outputs": [],
      "source": [
        "def evaluate(model, val_load):\n",
        "    model.eval()\n",
        "    \n",
        "    val_loss = 0\n",
        "    \n",
        "    iou = 0\n",
        "    \n",
        "    with torch.no_grad():\n",
        "        for data, label in val_load:\n",
        "            data = data.to(device)\n",
        "            label = label.to(device)\n",
        "            \n",
        "            output = model(data)\n",
        "            \n",
        "            loss = criterion(output, label)\n",
        "            val_loss = loss.item()\n",
        "            \n",
        "            pred = output\n",
        "            \n",
        "            pred = pred.argmax(dim=1)\n",
        "            \n",
        "            iou += metrics(pred, label).item()\n",
        "            \n",
        "        val_loss /= len(val_load)\n",
        "        iou /= len(val_load)\n",
        "    \n",
        "    return val_loss, iou"
      ]
    },
    {
      "cell_type": "markdown",
      "source": [
        "## 학습"
      ],
      "metadata": {
        "id": "5NeWsgA0sZuU"
      },
      "id": "5NeWsgA0sZuU"
    },
    {
      "cell_type": "code",
      "execution_count": null,
      "id": "a86b0e47",
      "metadata": {
        "scrolled": false,
        "id": "a86b0e47",
        "outputId": "3e8433bd-bc7e-4bea-cad4-ac2b572cd281"
      },
      "outputs": [
        {
          "name": "stderr",
          "output_type": "stream",
          "text": [
            "100%|██████████████████████████████████████████████████████████████████████████████████████| 744/744 [00:52<00:00, 14.25it/s]\n"
          ]
        },
        {
          "name": "stdout",
          "output_type": "stream",
          "text": [
            "epoch : 1\t Loss : 0.624092\t iou : 0.479029\t val_loss : 0.003981\t val_IOU : 0.496388\n"
          ]
        },
        {
          "name": "stderr",
          "output_type": "stream",
          "text": [
            "100%|██████████████████████████████████████████████████████████████████████████████████████| 744/744 [00:52<00:00, 14.23it/s]\n"
          ]
        },
        {
          "name": "stdout",
          "output_type": "stream",
          "text": [
            "epoch : 2\t Loss : 0.468810\t iou : 0.561135\t val_loss : 0.003447\t val_IOU : 0.547589\n"
          ]
        },
        {
          "name": "stderr",
          "output_type": "stream",
          "text": [
            "100%|██████████████████████████████████████████████████████████████████████████████████████| 744/744 [00:52<00:00, 14.15it/s]\n"
          ]
        },
        {
          "name": "stdout",
          "output_type": "stream",
          "text": [
            "epoch : 3\t Loss : 0.424768\t iou : 0.592325\t val_loss : 0.004579\t val_IOU : 0.568603\n"
          ]
        },
        {
          "name": "stderr",
          "output_type": "stream",
          "text": [
            "100%|██████████████████████████████████████████████████████████████████████████████████████| 744/744 [00:52<00:00, 14.18it/s]\n"
          ]
        },
        {
          "name": "stdout",
          "output_type": "stream",
          "text": [
            "epoch : 4\t Loss : 0.388848\t iou : 0.617877\t val_loss : 0.004015\t val_IOU : 0.581605\n"
          ]
        },
        {
          "name": "stderr",
          "output_type": "stream",
          "text": [
            "100%|██████████████████████████████████████████████████████████████████████████████████████| 744/744 [00:52<00:00, 14.17it/s]\n"
          ]
        },
        {
          "name": "stdout",
          "output_type": "stream",
          "text": [
            "epoch : 5\t Loss : 0.370490\t iou : 0.631657\t val_loss : 0.003253\t val_IOU : 0.612479\n"
          ]
        },
        {
          "name": "stderr",
          "output_type": "stream",
          "text": [
            "100%|██████████████████████████████████████████████████████████████████████████████████████| 744/744 [00:52<00:00, 14.16it/s]\n"
          ]
        },
        {
          "name": "stdout",
          "output_type": "stream",
          "text": [
            "epoch : 6\t Loss : 0.350754\t iou : 0.645347\t val_loss : 0.002616\t val_IOU : 0.615041\n"
          ]
        },
        {
          "name": "stderr",
          "output_type": "stream",
          "text": [
            "100%|██████████████████████████████████████████████████████████████████████████████████████| 744/744 [00:52<00:00, 14.07it/s]\n"
          ]
        },
        {
          "name": "stdout",
          "output_type": "stream",
          "text": [
            "epoch : 7\t Loss : 0.337781\t iou : 0.653382\t val_loss : 0.002296\t val_IOU : 0.621278\n"
          ]
        },
        {
          "name": "stderr",
          "output_type": "stream",
          "text": [
            "100%|██████████████████████████████████████████████████████████████████████████████████████| 744/744 [00:52<00:00, 14.18it/s]\n"
          ]
        },
        {
          "name": "stdout",
          "output_type": "stream",
          "text": [
            "epoch : 8\t Loss : 0.325245\t iou : 0.661327\t val_loss : 0.004768\t val_IOU : 0.615683\n"
          ]
        },
        {
          "name": "stderr",
          "output_type": "stream",
          "text": [
            "100%|██████████████████████████████████████████████████████████████████████████████████████| 744/744 [00:52<00:00, 14.10it/s]\n"
          ]
        },
        {
          "name": "stdout",
          "output_type": "stream",
          "text": [
            "epoch : 9\t Loss : 0.318864\t iou : 0.666398\t val_loss : 0.002706\t val_IOU : 0.629575\n"
          ]
        },
        {
          "name": "stderr",
          "output_type": "stream",
          "text": [
            "100%|██████████████████████████████████████████████████████████████████████████████████████| 744/744 [00:52<00:00, 14.14it/s]\n"
          ]
        },
        {
          "name": "stdout",
          "output_type": "stream",
          "text": [
            "epoch : 10\t Loss : 0.306556\t iou : 0.673994\t val_loss : 0.002627\t val_IOU : 0.637090\n"
          ]
        },
        {
          "name": "stderr",
          "output_type": "stream",
          "text": [
            "100%|██████████████████████████████████████████████████████████████████████████████████████| 744/744 [00:52<00:00, 14.09it/s]\n"
          ]
        },
        {
          "name": "stdout",
          "output_type": "stream",
          "text": [
            "epoch : 11\t Loss : 0.287962\t iou : 0.683075\t val_loss : 0.003406\t val_IOU : 0.644025\n"
          ]
        },
        {
          "name": "stderr",
          "output_type": "stream",
          "text": [
            "100%|██████████████████████████████████████████████████████████████████████████████████████| 744/744 [00:52<00:00, 14.16it/s]\n"
          ]
        },
        {
          "name": "stdout",
          "output_type": "stream",
          "text": [
            "epoch : 12\t Loss : 0.277892\t iou : 0.689565\t val_loss : 0.002569\t val_IOU : 0.649886\n"
          ]
        },
        {
          "name": "stderr",
          "output_type": "stream",
          "text": [
            "100%|██████████████████████████████████████████████████████████████████████████████████████| 744/744 [00:52<00:00, 14.20it/s]\n"
          ]
        },
        {
          "name": "stdout",
          "output_type": "stream",
          "text": [
            "epoch : 13\t Loss : 0.271810\t iou : 0.693901\t val_loss : 0.001791\t val_IOU : 0.644403\n"
          ]
        },
        {
          "name": "stderr",
          "output_type": "stream",
          "text": [
            "100%|██████████████████████████████████████████████████████████████████████████████████████| 744/744 [00:52<00:00, 14.15it/s]\n"
          ]
        },
        {
          "name": "stdout",
          "output_type": "stream",
          "text": [
            "epoch : 14\t Loss : 0.260577\t iou : 0.700544\t val_loss : 0.003138\t val_IOU : 0.623456\n"
          ]
        },
        {
          "name": "stderr",
          "output_type": "stream",
          "text": [
            "100%|██████████████████████████████████████████████████████████████████████████████████████| 744/744 [00:52<00:00, 14.19it/s]\n"
          ]
        },
        {
          "name": "stdout",
          "output_type": "stream",
          "text": [
            "epoch : 15\t Loss : 0.254786\t iou : 0.704866\t val_loss : 0.002312\t val_IOU : 0.648924\n"
          ]
        },
        {
          "name": "stderr",
          "output_type": "stream",
          "text": [
            "100%|██████████████████████████████████████████████████████████████████████████████████████| 744/744 [00:52<00:00, 14.17it/s]\n"
          ]
        },
        {
          "name": "stdout",
          "output_type": "stream",
          "text": [
            "epoch : 16\t Loss : 0.245844\t iou : 0.711026\t val_loss : 0.003501\t val_IOU : 0.651535\n"
          ]
        },
        {
          "name": "stderr",
          "output_type": "stream",
          "text": [
            "100%|██████████████████████████████████████████████████████████████████████████████████████| 744/744 [00:52<00:00, 14.19it/s]\n"
          ]
        },
        {
          "name": "stdout",
          "output_type": "stream",
          "text": [
            "epoch : 17\t Loss : 0.240003\t iou : 0.715153\t val_loss : 0.004004\t val_IOU : 0.638557\n"
          ]
        },
        {
          "name": "stderr",
          "output_type": "stream",
          "text": [
            "100%|██████████████████████████████████████████████████████████████████████████████████████| 744/744 [00:52<00:00, 14.16it/s]\n"
          ]
        },
        {
          "name": "stdout",
          "output_type": "stream",
          "text": [
            "epoch : 18\t Loss : 0.237887\t iou : 0.718089\t val_loss : 0.002227\t val_IOU : 0.641969\n"
          ]
        },
        {
          "name": "stderr",
          "output_type": "stream",
          "text": [
            "100%|██████████████████████████████████████████████████████████████████████████████████████| 744/744 [00:52<00:00, 14.15it/s]\n"
          ]
        },
        {
          "name": "stdout",
          "output_type": "stream",
          "text": [
            "epoch : 19\t Loss : 0.225484\t iou : 0.726880\t val_loss : 0.002479\t val_IOU : 0.652349\n"
          ]
        },
        {
          "name": "stderr",
          "output_type": "stream",
          "text": [
            "100%|██████████████████████████████████████████████████████████████████████████████████████| 744/744 [00:52<00:00, 14.17it/s]\n"
          ]
        },
        {
          "name": "stdout",
          "output_type": "stream",
          "text": [
            "epoch : 20\t Loss : 0.228036\t iou : 0.724716\t val_loss : 0.002834\t val_IOU : 0.638781\n"
          ]
        },
        {
          "name": "stderr",
          "output_type": "stream",
          "text": [
            "100%|██████████████████████████████████████████████████████████████████████████████████████| 744/744 [00:52<00:00, 14.11it/s]\n"
          ]
        },
        {
          "name": "stdout",
          "output_type": "stream",
          "text": [
            "epoch : 21\t Loss : 0.208305\t iou : 0.739750\t val_loss : 0.002326\t val_IOU : 0.659744\n"
          ]
        },
        {
          "name": "stderr",
          "output_type": "stream",
          "text": [
            "100%|██████████████████████████████████████████████████████████████████████████████████████| 744/744 [00:52<00:00, 14.15it/s]\n"
          ]
        },
        {
          "name": "stdout",
          "output_type": "stream",
          "text": [
            "epoch : 22\t Loss : 0.200560\t iou : 0.745235\t val_loss : 0.002421\t val_IOU : 0.663027\n"
          ]
        },
        {
          "name": "stderr",
          "output_type": "stream",
          "text": [
            "100%|██████████████████████████████████████████████████████████████████████████████████████| 744/744 [00:52<00:00, 14.20it/s]\n"
          ]
        },
        {
          "name": "stdout",
          "output_type": "stream",
          "text": [
            "epoch : 23\t Loss : 0.203197\t iou : 0.743549\t val_loss : 0.002919\t val_IOU : 0.648686\n"
          ]
        },
        {
          "name": "stderr",
          "output_type": "stream",
          "text": [
            "100%|██████████████████████████████████████████████████████████████████████████████████████| 744/744 [00:52<00:00, 14.05it/s]\n"
          ]
        },
        {
          "name": "stdout",
          "output_type": "stream",
          "text": [
            "epoch : 24\t Loss : 0.198626\t iou : 0.746585\t val_loss : 0.002844\t val_IOU : 0.664204\n"
          ]
        },
        {
          "name": "stderr",
          "output_type": "stream",
          "text": [
            "100%|██████████████████████████████████████████████████████████████████████████████████████| 744/744 [00:52<00:00, 14.14it/s]\n"
          ]
        },
        {
          "name": "stdout",
          "output_type": "stream",
          "text": [
            "epoch : 25\t Loss : 0.193709\t iou : 0.751558\t val_loss : 0.002275\t val_IOU : 0.660448\n"
          ]
        },
        {
          "name": "stderr",
          "output_type": "stream",
          "text": [
            "100%|██████████████████████████████████████████████████████████████████████████████████████| 744/744 [00:52<00:00, 14.13it/s]\n"
          ]
        },
        {
          "name": "stdout",
          "output_type": "stream",
          "text": [
            "epoch : 26\t Loss : 0.191174\t iou : 0.752988\t val_loss : 0.002234\t val_IOU : 0.667393\n"
          ]
        },
        {
          "name": "stderr",
          "output_type": "stream",
          "text": [
            "100%|██████████████████████████████████████████████████████████████████████████████████████| 744/744 [00:52<00:00, 14.15it/s]\n"
          ]
        },
        {
          "name": "stdout",
          "output_type": "stream",
          "text": [
            "epoch : 27\t Loss : 0.183793\t iou : 0.758971\t val_loss : 0.002434\t val_IOU : 0.660665\n"
          ]
        },
        {
          "name": "stderr",
          "output_type": "stream",
          "text": [
            "100%|██████████████████████████████████████████████████████████████████████████████████████| 744/744 [00:52<00:00, 14.20it/s]\n"
          ]
        },
        {
          "name": "stdout",
          "output_type": "stream",
          "text": [
            "epoch : 28\t Loss : 0.180982\t iou : 0.761687\t val_loss : 0.003866\t val_IOU : 0.664986\n"
          ]
        },
        {
          "name": "stderr",
          "output_type": "stream",
          "text": [
            "100%|██████████████████████████████████████████████████████████████████████████████████████| 744/744 [00:52<00:00, 14.15it/s]\n"
          ]
        },
        {
          "name": "stdout",
          "output_type": "stream",
          "text": [
            "epoch : 29\t Loss : 0.177992\t iou : 0.763566\t val_loss : 0.002159\t val_IOU : 0.665038\n"
          ]
        },
        {
          "name": "stderr",
          "output_type": "stream",
          "text": [
            "100%|██████████████████████████████████████████████████████████████████████████████████████| 744/744 [00:52<00:00, 14.10it/s]\n"
          ]
        },
        {
          "name": "stdout",
          "output_type": "stream",
          "text": [
            "epoch : 30\t Loss : 0.176644\t iou : 0.764732\t val_loss : 0.003022\t val_IOU : 0.665869\n"
          ]
        },
        {
          "name": "stderr",
          "output_type": "stream",
          "text": [
            "100%|██████████████████████████████████████████████████████████████████████████████████████| 744/744 [00:52<00:00, 14.18it/s]\n"
          ]
        },
        {
          "name": "stdout",
          "output_type": "stream",
          "text": [
            "epoch : 31\t Loss : 0.170171\t iou : 0.770119\t val_loss : 0.004475\t val_IOU : 0.668845\n"
          ]
        },
        {
          "name": "stderr",
          "output_type": "stream",
          "text": [
            "100%|██████████████████████████████████████████████████████████████████████████████████████| 744/744 [00:52<00:00, 14.17it/s]\n"
          ]
        },
        {
          "name": "stdout",
          "output_type": "stream",
          "text": [
            "epoch : 32\t Loss : 0.165060\t iou : 0.774759\t val_loss : 0.001986\t val_IOU : 0.666089\n"
          ]
        },
        {
          "name": "stderr",
          "output_type": "stream",
          "text": [
            "100%|██████████████████████████████████████████████████████████████████████████████████████| 744/744 [00:52<00:00, 14.16it/s]\n"
          ]
        },
        {
          "name": "stdout",
          "output_type": "stream",
          "text": [
            "epoch : 33\t Loss : 0.163186\t iou : 0.775620\t val_loss : 0.002476\t val_IOU : 0.672132\n"
          ]
        },
        {
          "name": "stderr",
          "output_type": "stream",
          "text": [
            "100%|██████████████████████████████████████████████████████████████████████████████████████| 744/744 [00:52<00:00, 14.18it/s]\n"
          ]
        },
        {
          "name": "stdout",
          "output_type": "stream",
          "text": [
            "epoch : 34\t Loss : 0.165660\t iou : 0.774038\t val_loss : 0.003253\t val_IOU : 0.658195\n"
          ]
        },
        {
          "name": "stderr",
          "output_type": "stream",
          "text": [
            "100%|██████████████████████████████████████████████████████████████████████████████████████| 744/744 [00:52<00:00, 14.11it/s]\n"
          ]
        },
        {
          "name": "stdout",
          "output_type": "stream",
          "text": [
            "epoch : 35\t Loss : 0.160970\t iou : 0.777599\t val_loss : 0.002710\t val_IOU : 0.665809\n"
          ]
        },
        {
          "name": "stderr",
          "output_type": "stream",
          "text": [
            "100%|██████████████████████████████████████████████████████████████████████████████████████| 744/744 [00:52<00:00, 14.20it/s]\n"
          ]
        },
        {
          "name": "stdout",
          "output_type": "stream",
          "text": [
            "epoch : 36\t Loss : 0.158504\t iou : 0.780029\t val_loss : 0.002754\t val_IOU : 0.670221\n"
          ]
        },
        {
          "name": "stderr",
          "output_type": "stream",
          "text": [
            "100%|██████████████████████████████████████████████████████████████████████████████████████| 744/744 [00:52<00:00, 14.19it/s]\n"
          ]
        },
        {
          "name": "stdout",
          "output_type": "stream",
          "text": [
            "epoch : 37\t Loss : 0.154515\t iou : 0.782490\t val_loss : 0.002826\t val_IOU : 0.670851\n"
          ]
        },
        {
          "name": "stderr",
          "output_type": "stream",
          "text": [
            "100%|██████████████████████████████████████████████████████████████████████████████████████| 744/744 [00:52<00:00, 14.10it/s]\n"
          ]
        },
        {
          "name": "stdout",
          "output_type": "stream",
          "text": [
            "epoch : 38\t Loss : 0.152941\t iou : 0.784082\t val_loss : 0.003256\t val_IOU : 0.668655\n"
          ]
        },
        {
          "name": "stderr",
          "output_type": "stream",
          "text": [
            "100%|██████████████████████████████████████████████████████████████████████████████████████| 744/744 [00:52<00:00, 14.17it/s]\n"
          ]
        },
        {
          "name": "stdout",
          "output_type": "stream",
          "text": [
            "epoch : 39\t Loss : 0.151217\t iou : 0.785669\t val_loss : 0.002892\t val_IOU : 0.668597\n"
          ]
        },
        {
          "name": "stderr",
          "output_type": "stream",
          "text": [
            "100%|██████████████████████████████████████████████████████████████████████████████████████| 744/744 [00:52<00:00, 14.18it/s]\n"
          ]
        },
        {
          "name": "stdout",
          "output_type": "stream",
          "text": [
            "epoch : 40\t Loss : 0.151457\t iou : 0.785321\t val_loss : 0.002081\t val_IOU : 0.671304\n"
          ]
        },
        {
          "name": "stderr",
          "output_type": "stream",
          "text": [
            "100%|██████████████████████████████████████████████████████████████████████████████████████| 744/744 [00:52<00:00, 14.19it/s]\n"
          ]
        },
        {
          "name": "stdout",
          "output_type": "stream",
          "text": [
            "epoch : 41\t Loss : 0.145636\t iou : 0.790125\t val_loss : 0.005013\t val_IOU : 0.673501\n"
          ]
        },
        {
          "name": "stderr",
          "output_type": "stream",
          "text": [
            "100%|██████████████████████████████████████████████████████████████████████████████████████| 744/744 [00:52<00:00, 14.19it/s]\n"
          ]
        },
        {
          "name": "stdout",
          "output_type": "stream",
          "text": [
            "epoch : 42\t Loss : 0.143290\t iou : 0.792646\t val_loss : 0.002185\t val_IOU : 0.673458\n"
          ]
        },
        {
          "name": "stderr",
          "output_type": "stream",
          "text": [
            "100%|██████████████████████████████████████████████████████████████████████████████████████| 744/744 [00:52<00:00, 14.10it/s]\n"
          ]
        },
        {
          "name": "stdout",
          "output_type": "stream",
          "text": [
            "epoch : 43\t Loss : 0.142085\t iou : 0.793331\t val_loss : 0.002525\t val_IOU : 0.670985\n"
          ]
        },
        {
          "name": "stderr",
          "output_type": "stream",
          "text": [
            "100%|██████████████████████████████████████████████████████████████████████████████████████| 744/744 [00:52<00:00, 14.19it/s]\n"
          ]
        },
        {
          "name": "stdout",
          "output_type": "stream",
          "text": [
            "epoch : 44\t Loss : 0.140823\t iou : 0.793980\t val_loss : 0.002599\t val_IOU : 0.673269\n"
          ]
        },
        {
          "name": "stderr",
          "output_type": "stream",
          "text": [
            "100%|██████████████████████████████████████████████████████████████████████████████████████| 744/744 [00:52<00:00, 14.12it/s]\n"
          ]
        },
        {
          "name": "stdout",
          "output_type": "stream",
          "text": [
            "epoch : 45\t Loss : 0.139400\t iou : 0.795471\t val_loss : 0.002002\t val_IOU : 0.672116\n"
          ]
        },
        {
          "name": "stderr",
          "output_type": "stream",
          "text": [
            "100%|██████████████████████████████████████████████████████████████████████████████████████| 744/744 [00:52<00:00, 14.11it/s]\n"
          ]
        },
        {
          "name": "stdout",
          "output_type": "stream",
          "text": [
            "epoch : 46\t Loss : 0.138592\t iou : 0.796572\t val_loss : 0.007549\t val_IOU : 0.673018\n"
          ]
        },
        {
          "name": "stderr",
          "output_type": "stream",
          "text": [
            "100%|██████████████████████████████████████████████████████████████████████████████████████| 744/744 [00:52<00:00, 14.11it/s]\n"
          ]
        },
        {
          "name": "stdout",
          "output_type": "stream",
          "text": [
            "epoch : 47\t Loss : 0.136401\t iou : 0.797667\t val_loss : 0.002504\t val_IOU : 0.674833\n"
          ]
        },
        {
          "name": "stderr",
          "output_type": "stream",
          "text": [
            "100%|██████████████████████████████████████████████████████████████████████████████████████| 744/744 [00:52<00:00, 14.20it/s]\n"
          ]
        },
        {
          "name": "stdout",
          "output_type": "stream",
          "text": [
            "epoch : 48\t Loss : 0.135294\t iou : 0.798660\t val_loss : 0.003790\t val_IOU : 0.673112\n"
          ]
        },
        {
          "name": "stderr",
          "output_type": "stream",
          "text": [
            "100%|██████████████████████████████████████████████████████████████████████████████████████| 744/744 [00:52<00:00, 14.19it/s]\n"
          ]
        },
        {
          "name": "stdout",
          "output_type": "stream",
          "text": [
            "epoch : 49\t Loss : 0.134556\t iou : 0.799769\t val_loss : 0.002732\t val_IOU : 0.672594\n"
          ]
        },
        {
          "name": "stderr",
          "output_type": "stream",
          "text": [
            "100%|██████████████████████████████████████████████████████████████████████████████████████| 744/744 [00:52<00:00, 14.20it/s]\n"
          ]
        },
        {
          "name": "stdout",
          "output_type": "stream",
          "text": [
            "epoch : 50\t Loss : 0.142083\t iou : 0.794495\t val_loss : 0.006193\t val_IOU : 0.672298\n"
          ]
        },
        {
          "name": "stderr",
          "output_type": "stream",
          "text": [
            "100%|██████████████████████████████████████████████████████████████████████████████████████| 744/744 [00:52<00:00, 14.16it/s]\n"
          ]
        },
        {
          "name": "stdout",
          "output_type": "stream",
          "text": [
            "epoch : 51\t Loss : 0.131018\t iou : 0.802646\t val_loss : 0.004575\t val_IOU : 0.674955\n"
          ]
        },
        {
          "name": "stderr",
          "output_type": "stream",
          "text": [
            "100%|██████████████████████████████████████████████████████████████████████████████████████| 744/744 [00:52<00:00, 14.15it/s]\n"
          ]
        },
        {
          "name": "stdout",
          "output_type": "stream",
          "text": [
            "epoch : 52\t Loss : 0.128603\t iou : 0.805295\t val_loss : 0.002195\t val_IOU : 0.672798\n"
          ]
        },
        {
          "name": "stderr",
          "output_type": "stream",
          "text": [
            "100%|██████████████████████████████████████████████████████████████████████████████████████| 744/744 [00:52<00:00, 14.15it/s]\n"
          ]
        },
        {
          "name": "stdout",
          "output_type": "stream",
          "text": [
            "epoch : 53\t Loss : 0.127583\t iou : 0.805218\t val_loss : 0.002511\t val_IOU : 0.672213\n"
          ]
        },
        {
          "name": "stderr",
          "output_type": "stream",
          "text": [
            "100%|██████████████████████████████████████████████████████████████████████████████████████| 744/744 [00:52<00:00, 14.16it/s]\n"
          ]
        },
        {
          "name": "stdout",
          "output_type": "stream",
          "text": [
            "epoch : 54\t Loss : 0.126873\t iou : 0.806650\t val_loss : 0.002613\t val_IOU : 0.673585\n"
          ]
        },
        {
          "name": "stderr",
          "output_type": "stream",
          "text": [
            "100%|██████████████████████████████████████████████████████████████████████████████████████| 744/744 [00:52<00:00, 14.21it/s]\n"
          ]
        },
        {
          "name": "stdout",
          "output_type": "stream",
          "text": [
            "epoch : 55\t Loss : 0.126068\t iou : 0.806497\t val_loss : 0.003287\t val_IOU : 0.675677\n"
          ]
        },
        {
          "name": "stderr",
          "output_type": "stream",
          "text": [
            "100%|██████████████████████████████████████████████████████████████████████████████████████| 744/744 [00:52<00:00, 14.19it/s]\n"
          ]
        },
        {
          "name": "stdout",
          "output_type": "stream",
          "text": [
            "epoch : 56\t Loss : 0.128630\t iou : 0.805032\t val_loss : 0.002864\t val_IOU : 0.668518\n"
          ]
        },
        {
          "name": "stderr",
          "output_type": "stream",
          "text": [
            "100%|██████████████████████████████████████████████████████████████████████████████████████| 744/744 [00:52<00:00, 14.10it/s]\n"
          ]
        },
        {
          "name": "stdout",
          "output_type": "stream",
          "text": [
            "epoch : 57\t Loss : 0.127265\t iou : 0.806607\t val_loss : 0.002720\t val_IOU : 0.672256\n"
          ]
        },
        {
          "name": "stderr",
          "output_type": "stream",
          "text": [
            "100%|██████████████████████████████████████████████████████████████████████████████████████| 744/744 [00:52<00:00, 14.18it/s]\n"
          ]
        },
        {
          "name": "stdout",
          "output_type": "stream",
          "text": [
            "epoch : 58\t Loss : 0.123300\t iou : 0.809593\t val_loss : 0.003978\t val_IOU : 0.674447\n"
          ]
        },
        {
          "name": "stderr",
          "output_type": "stream",
          "text": [
            "100%|██████████████████████████████████████████████████████████████████████████████████████| 744/744 [00:52<00:00, 14.16it/s]\n"
          ]
        },
        {
          "name": "stdout",
          "output_type": "stream",
          "text": [
            "epoch : 59\t Loss : 0.122435\t iou : 0.811025\t val_loss : 0.002062\t val_IOU : 0.675355\n"
          ]
        },
        {
          "name": "stderr",
          "output_type": "stream",
          "text": [
            "100%|██████████████████████████████████████████████████████████████████████████████████████| 744/744 [00:52<00:00, 14.11it/s]\n"
          ]
        },
        {
          "name": "stdout",
          "output_type": "stream",
          "text": [
            "epoch : 60\t Loss : 0.122176\t iou : 0.810430\t val_loss : 0.007119\t val_IOU : 0.672873\n"
          ]
        },
        {
          "name": "stderr",
          "output_type": "stream",
          "text": [
            "100%|██████████████████████████████████████████████████████████████████████████████████████| 744/744 [00:52<00:00, 14.09it/s]\n"
          ]
        },
        {
          "name": "stdout",
          "output_type": "stream",
          "text": [
            "epoch : 61\t Loss : 0.120309\t iou : 0.812693\t val_loss : 0.004390\t val_IOU : 0.672712\n"
          ]
        },
        {
          "name": "stderr",
          "output_type": "stream",
          "text": [
            "100%|██████████████████████████████████████████████████████████████████████████████████████| 744/744 [00:52<00:00, 14.18it/s]\n"
          ]
        },
        {
          "name": "stdout",
          "output_type": "stream",
          "text": [
            "epoch : 62\t Loss : 0.119142\t iou : 0.812956\t val_loss : 0.002996\t val_IOU : 0.676024\n"
          ]
        },
        {
          "name": "stderr",
          "output_type": "stream",
          "text": [
            "100%|██████████████████████████████████████████████████████████████████████████████████████| 744/744 [00:52<00:00, 14.16it/s]\n"
          ]
        },
        {
          "name": "stdout",
          "output_type": "stream",
          "text": [
            "epoch : 63\t Loss : 0.118492\t iou : 0.814120\t val_loss : 0.002962\t val_IOU : 0.672786\n"
          ]
        },
        {
          "name": "stderr",
          "output_type": "stream",
          "text": [
            "100%|██████████████████████████████████████████████████████████████████████████████████████| 744/744 [00:52<00:00, 14.09it/s]\n"
          ]
        },
        {
          "name": "stdout",
          "output_type": "stream",
          "text": [
            "epoch : 64\t Loss : 0.118031\t iou : 0.814405\t val_loss : 0.005351\t val_IOU : 0.676060\n"
          ]
        },
        {
          "name": "stderr",
          "output_type": "stream",
          "text": [
            "100%|██████████████████████████████████████████████████████████████████████████████████████| 744/744 [00:52<00:00, 14.20it/s]\n"
          ]
        },
        {
          "name": "stdout",
          "output_type": "stream",
          "text": [
            "epoch : 65\t Loss : 0.117129\t iou : 0.815766\t val_loss : 0.002719\t val_IOU : 0.676057\n"
          ]
        },
        {
          "name": "stderr",
          "output_type": "stream",
          "text": [
            "100%|██████████████████████████████████████████████████████████████████████████████████████| 744/744 [00:52<00:00, 14.13it/s]\n"
          ]
        },
        {
          "name": "stdout",
          "output_type": "stream",
          "text": [
            "epoch : 66\t Loss : 0.116762\t iou : 0.815205\t val_loss : 0.002520\t val_IOU : 0.675204\n"
          ]
        },
        {
          "name": "stderr",
          "output_type": "stream",
          "text": [
            "100%|██████████████████████████████████████████████████████████████████████████████████████| 744/744 [00:52<00:00, 14.19it/s]\n"
          ]
        },
        {
          "name": "stdout",
          "output_type": "stream",
          "text": [
            "epoch : 67\t Loss : 0.116460\t iou : 0.816400\t val_loss : 0.005259\t val_IOU : 0.672490\n"
          ]
        },
        {
          "name": "stderr",
          "output_type": "stream",
          "text": [
            "100%|██████████████████████████████████████████████████████████████████████████████████████| 744/744 [00:52<00:00, 14.19it/s]\n"
          ]
        },
        {
          "name": "stdout",
          "output_type": "stream",
          "text": [
            "epoch : 68\t Loss : 0.115293\t iou : 0.816678\t val_loss : 0.001869\t val_IOU : 0.673633\n"
          ]
        },
        {
          "name": "stderr",
          "output_type": "stream",
          "text": [
            "100%|██████████████████████████████████████████████████████████████████████████████████████| 744/744 [00:52<00:00, 14.10it/s]\n"
          ]
        },
        {
          "name": "stdout",
          "output_type": "stream",
          "text": [
            "epoch : 69\t Loss : 0.114844\t iou : 0.817433\t val_loss : 0.009254\t val_IOU : 0.674310\n"
          ]
        },
        {
          "name": "stderr",
          "output_type": "stream",
          "text": [
            "100%|██████████████████████████████████████████████████████████████████████████████████████| 744/744 [00:52<00:00, 14.20it/s]\n"
          ]
        },
        {
          "name": "stdout",
          "output_type": "stream",
          "text": [
            "epoch : 70\t Loss : 0.114279\t iou : 0.818454\t val_loss : 0.005421\t val_IOU : 0.678189\n"
          ]
        },
        {
          "name": "stderr",
          "output_type": "stream",
          "text": [
            "100%|██████████████████████████████████████████████████████████████████████████████████████| 744/744 [00:52<00:00, 14.10it/s]\n"
          ]
        },
        {
          "name": "stdout",
          "output_type": "stream",
          "text": [
            "epoch : 71\t Loss : 0.112691\t iou : 0.819993\t val_loss : 0.002453\t val_IOU : 0.676749\n"
          ]
        },
        {
          "name": "stderr",
          "output_type": "stream",
          "text": [
            "100%|██████████████████████████████████████████████████████████████████████████████████████| 744/744 [00:52<00:00, 14.18it/s]\n"
          ]
        },
        {
          "name": "stdout",
          "output_type": "stream",
          "text": [
            "epoch : 72\t Loss : 0.111914\t iou : 0.820167\t val_loss : 0.003108\t val_IOU : 0.675573\n"
          ]
        },
        {
          "name": "stderr",
          "output_type": "stream",
          "text": [
            "100%|██████████████████████████████████████████████████████████████████████████████████████| 744/744 [00:52<00:00, 14.20it/s]\n"
          ]
        },
        {
          "name": "stdout",
          "output_type": "stream",
          "text": [
            "epoch : 73\t Loss : 0.111312\t iou : 0.821323\t val_loss : 0.005129\t val_IOU : 0.675617\n"
          ]
        },
        {
          "name": "stderr",
          "output_type": "stream",
          "text": [
            "100%|██████████████████████████████████████████████████████████████████████████████████████| 744/744 [00:52<00:00, 14.19it/s]\n"
          ]
        },
        {
          "name": "stdout",
          "output_type": "stream",
          "text": [
            "epoch : 74\t Loss : 0.110936\t iou : 0.821044\t val_loss : 0.011830\t val_IOU : 0.674539\n"
          ]
        },
        {
          "name": "stderr",
          "output_type": "stream",
          "text": [
            "100%|██████████████████████████████████████████████████████████████████████████████████████| 744/744 [00:52<00:00, 14.15it/s]\n"
          ]
        },
        {
          "name": "stdout",
          "output_type": "stream",
          "text": [
            "epoch : 75\t Loss : 0.110362\t iou : 0.822334\t val_loss : 0.002976\t val_IOU : 0.674495\n"
          ]
        },
        {
          "name": "stderr",
          "output_type": "stream",
          "text": [
            "100%|██████████████████████████████████████████████████████████████████████████████████████| 744/744 [00:52<00:00, 14.11it/s]\n"
          ]
        },
        {
          "name": "stdout",
          "output_type": "stream",
          "text": [
            "epoch : 76\t Loss : 0.110023\t iou : 0.822634\t val_loss : 0.003161\t val_IOU : 0.674606\n"
          ]
        },
        {
          "name": "stderr",
          "output_type": "stream",
          "text": [
            "100%|██████████████████████████████████████████████████████████████████████████████████████| 744/744 [00:52<00:00, 14.11it/s]\n"
          ]
        },
        {
          "name": "stdout",
          "output_type": "stream",
          "text": [
            "epoch : 77\t Loss : 0.109414\t iou : 0.822846\t val_loss : 0.012439\t val_IOU : 0.674633\n"
          ]
        },
        {
          "name": "stderr",
          "output_type": "stream",
          "text": [
            "100%|██████████████████████████████████████████████████████████████████████████████████████| 744/744 [00:52<00:00, 14.10it/s]\n"
          ]
        },
        {
          "name": "stdout",
          "output_type": "stream",
          "text": [
            "epoch : 78\t Loss : 0.109087\t iou : 0.822825\t val_loss : 0.002466\t val_IOU : 0.677826\n"
          ]
        },
        {
          "name": "stderr",
          "output_type": "stream",
          "text": [
            "100%|██████████████████████████████████████████████████████████████████████████████████████| 744/744 [00:52<00:00, 14.19it/s]\n"
          ]
        },
        {
          "name": "stdout",
          "output_type": "stream",
          "text": [
            "epoch : 79\t Loss : 0.108676\t iou : 0.823560\t val_loss : 0.002645\t val_IOU : 0.675199\n"
          ]
        },
        {
          "name": "stderr",
          "output_type": "stream",
          "text": [
            "100%|██████████████████████████████████████████████████████████████████████████████████████| 744/744 [00:52<00:00, 14.09it/s]\n"
          ]
        },
        {
          "name": "stdout",
          "output_type": "stream",
          "text": [
            "epoch : 80\t Loss : 0.108164\t iou : 0.824377\t val_loss : 0.002751\t val_IOU : 0.673601\n"
          ]
        },
        {
          "name": "stderr",
          "output_type": "stream",
          "text": [
            "100%|██████████████████████████████████████████████████████████████████████████████████████| 744/744 [00:53<00:00, 14.03it/s]\n"
          ]
        },
        {
          "name": "stdout",
          "output_type": "stream",
          "text": [
            "epoch : 81\t Loss : 0.107107\t iou : 0.824604\t val_loss : 0.002157\t val_IOU : 0.675293\n"
          ]
        },
        {
          "name": "stderr",
          "output_type": "stream",
          "text": [
            "100%|██████████████████████████████████████████████████████████████████████████████████████| 744/744 [00:52<00:00, 14.04it/s]\n"
          ]
        },
        {
          "name": "stdout",
          "output_type": "stream",
          "text": [
            "epoch : 82\t Loss : 0.106560\t iou : 0.825165\t val_loss : 0.009450\t val_IOU : 0.673146\n"
          ]
        },
        {
          "name": "stderr",
          "output_type": "stream",
          "text": [
            "100%|██████████████████████████████████████████████████████████████████████████████████████| 744/744 [00:52<00:00, 14.10it/s]\n"
          ]
        },
        {
          "name": "stdout",
          "output_type": "stream",
          "text": [
            "epoch : 83\t Loss : 0.106137\t iou : 0.825699\t val_loss : 0.004649\t val_IOU : 0.675759\n"
          ]
        },
        {
          "name": "stderr",
          "output_type": "stream",
          "text": [
            "100%|██████████████████████████████████████████████████████████████████████████████████████| 744/744 [00:52<00:00, 14.16it/s]\n"
          ]
        },
        {
          "name": "stdout",
          "output_type": "stream",
          "text": [
            "epoch : 84\t Loss : 0.105631\t iou : 0.826503\t val_loss : 0.002796\t val_IOU : 0.673799\n"
          ]
        },
        {
          "name": "stderr",
          "output_type": "stream",
          "text": [
            "100%|██████████████████████████████████████████████████████████████████████████████████████| 744/744 [00:52<00:00, 14.17it/s]\n"
          ]
        },
        {
          "name": "stdout",
          "output_type": "stream",
          "text": [
            "epoch : 85\t Loss : 0.105518\t iou : 0.826490\t val_loss : 0.002967\t val_IOU : 0.676410\n"
          ]
        },
        {
          "name": "stderr",
          "output_type": "stream",
          "text": [
            "100%|██████████████████████████████████████████████████████████████████████████████████████| 744/744 [00:52<00:00, 14.10it/s]\n"
          ]
        },
        {
          "name": "stdout",
          "output_type": "stream",
          "text": [
            "epoch : 86\t Loss : 0.104960\t iou : 0.827555\t val_loss : 0.003987\t val_IOU : 0.674890\n"
          ]
        },
        {
          "name": "stderr",
          "output_type": "stream",
          "text": [
            "100%|██████████████████████████████████████████████████████████████████████████████████████| 744/744 [00:52<00:00, 14.16it/s]\n"
          ]
        },
        {
          "name": "stdout",
          "output_type": "stream",
          "text": [
            "epoch : 87\t Loss : 0.104692\t iou : 0.827769\t val_loss : 0.004189\t val_IOU : 0.674089\n"
          ]
        },
        {
          "name": "stderr",
          "output_type": "stream",
          "text": [
            "100%|██████████████████████████████████████████████████████████████████████████████████████| 744/744 [00:52<00:00, 14.19it/s]\n"
          ]
        },
        {
          "name": "stdout",
          "output_type": "stream",
          "text": [
            "epoch : 88\t Loss : 0.104400\t iou : 0.828146\t val_loss : 0.002696\t val_IOU : 0.675013\n"
          ]
        },
        {
          "name": "stderr",
          "output_type": "stream",
          "text": [
            "100%|██████████████████████████████████████████████████████████████████████████████████████| 744/744 [00:52<00:00, 14.17it/s]\n"
          ]
        },
        {
          "name": "stdout",
          "output_type": "stream",
          "text": [
            "epoch : 89\t Loss : 0.103966\t iou : 0.828447\t val_loss : 0.003190\t val_IOU : 0.675406\n"
          ]
        },
        {
          "name": "stderr",
          "output_type": "stream",
          "text": [
            "100%|██████████████████████████████████████████████████████████████████████████████████████| 744/744 [00:52<00:00, 14.19it/s]\n"
          ]
        },
        {
          "name": "stdout",
          "output_type": "stream",
          "text": [
            "epoch : 90\t Loss : 0.103672\t iou : 0.828894\t val_loss : 0.003335\t val_IOU : 0.676376\n"
          ]
        },
        {
          "name": "stderr",
          "output_type": "stream",
          "text": [
            "100%|██████████████████████████████████████████████████████████████████████████████████████| 744/744 [00:52<00:00, 14.09it/s]\n"
          ]
        },
        {
          "name": "stdout",
          "output_type": "stream",
          "text": [
            "epoch : 91\t Loss : 0.102817\t iou : 0.829221\t val_loss : 0.005738\t val_IOU : 0.676011\n"
          ]
        },
        {
          "name": "stderr",
          "output_type": "stream",
          "text": [
            "100%|██████████████████████████████████████████████████████████████████████████████████████| 744/744 [00:52<00:00, 14.09it/s]\n"
          ]
        },
        {
          "name": "stdout",
          "output_type": "stream",
          "text": [
            "epoch : 92\t Loss : 0.102406\t iou : 0.830363\t val_loss : 0.002614\t val_IOU : 0.676765\n"
          ]
        },
        {
          "name": "stderr",
          "output_type": "stream",
          "text": [
            "100%|██████████████████████████████████████████████████████████████████████████████████████| 744/744 [00:52<00:00, 14.17it/s]\n"
          ]
        },
        {
          "name": "stdout",
          "output_type": "stream",
          "text": [
            "epoch : 93\t Loss : 0.102004\t iou : 0.830528\t val_loss : 0.003690\t val_IOU : 0.675613\n"
          ]
        },
        {
          "name": "stderr",
          "output_type": "stream",
          "text": [
            "100%|██████████████████████████████████████████████████████████████████████████████████████| 744/744 [00:52<00:00, 14.15it/s]\n"
          ]
        },
        {
          "name": "stdout",
          "output_type": "stream",
          "text": [
            "epoch : 94\t Loss : 0.101881\t iou : 0.830692\t val_loss : 0.002228\t val_IOU : 0.674651\n"
          ]
        },
        {
          "name": "stderr",
          "output_type": "stream",
          "text": [
            "100%|██████████████████████████████████████████████████████████████████████████████████████| 744/744 [00:52<00:00, 14.17it/s]\n"
          ]
        },
        {
          "name": "stdout",
          "output_type": "stream",
          "text": [
            "epoch : 95\t Loss : 0.101550\t iou : 0.830932\t val_loss : 0.002306\t val_IOU : 0.677224\n"
          ]
        },
        {
          "name": "stderr",
          "output_type": "stream",
          "text": [
            "100%|██████████████████████████████████████████████████████████████████████████████████████| 744/744 [00:52<00:00, 14.18it/s]\n"
          ]
        },
        {
          "name": "stdout",
          "output_type": "stream",
          "text": [
            "epoch : 96\t Loss : 0.101207\t iou : 0.831237\t val_loss : 0.003271\t val_IOU : 0.676737\n"
          ]
        },
        {
          "name": "stderr",
          "output_type": "stream",
          "text": [
            "100%|██████████████████████████████████████████████████████████████████████████████████████| 744/744 [00:52<00:00, 14.21it/s]\n"
          ]
        },
        {
          "name": "stdout",
          "output_type": "stream",
          "text": [
            "epoch : 97\t Loss : 0.100993\t iou : 0.831497\t val_loss : 0.005293\t val_IOU : 0.675813\n"
          ]
        },
        {
          "name": "stderr",
          "output_type": "stream",
          "text": [
            "100%|██████████████████████████████████████████████████████████████████████████████████████| 744/744 [00:52<00:00, 14.21it/s]\n"
          ]
        },
        {
          "name": "stdout",
          "output_type": "stream",
          "text": [
            "epoch : 98\t Loss : 0.100738\t iou : 0.831502\t val_loss : 0.003683\t val_IOU : 0.674783\n"
          ]
        },
        {
          "name": "stderr",
          "output_type": "stream",
          "text": [
            "100%|██████████████████████████████████████████████████████████████████████████████████████| 744/744 [00:52<00:00, 14.19it/s]\n"
          ]
        },
        {
          "name": "stdout",
          "output_type": "stream",
          "text": [
            "epoch : 99\t Loss : 0.100536\t iou : 0.832856\t val_loss : 0.002736\t val_IOU : 0.673840\n"
          ]
        },
        {
          "name": "stderr",
          "output_type": "stream",
          "text": [
            "100%|██████████████████████████████████████████████████████████████████████████████████████| 744/744 [00:52<00:00, 14.19it/s]\n"
          ]
        },
        {
          "name": "stdout",
          "output_type": "stream",
          "text": [
            "epoch : 100\t Loss : 0.100235\t iou : 0.832623\t val_loss : 0.003503\t val_IOU : 0.673788\n"
          ]
        },
        {
          "name": "stderr",
          "output_type": "stream",
          "text": [
            "100%|██████████████████████████████████████████████████████████████████████████████████████| 744/744 [00:52<00:00, 14.09it/s]\n"
          ]
        },
        {
          "name": "stdout",
          "output_type": "stream",
          "text": [
            "epoch : 101\t Loss : 0.099447\t iou : 0.833603\t val_loss : 0.004857\t val_IOU : 0.674007\n"
          ]
        },
        {
          "name": "stderr",
          "output_type": "stream",
          "text": [
            "100%|██████████████████████████████████████████████████████████████████████████████████████| 744/744 [00:52<00:00, 14.09it/s]\n"
          ]
        },
        {
          "name": "stdout",
          "output_type": "stream",
          "text": [
            "epoch : 102\t Loss : 0.099307\t iou : 0.833450\t val_loss : 0.012916\t val_IOU : 0.674570\n"
          ]
        },
        {
          "name": "stderr",
          "output_type": "stream",
          "text": [
            "100%|██████████████████████████████████████████████████████████████████████████████████████| 744/744 [00:52<00:00, 14.13it/s]\n"
          ]
        },
        {
          "name": "stdout",
          "output_type": "stream",
          "text": [
            "epoch : 103\t Loss : 0.098987\t iou : 0.833663\t val_loss : 0.006037\t val_IOU : 0.674660\n"
          ]
        },
        {
          "name": "stderr",
          "output_type": "stream",
          "text": [
            "100%|██████████████████████████████████████████████████████████████████████████████████████| 744/744 [00:52<00:00, 14.09it/s]\n"
          ]
        },
        {
          "name": "stdout",
          "output_type": "stream",
          "text": [
            "epoch : 104\t Loss : 0.098790\t iou : 0.833796\t val_loss : 0.006282\t val_IOU : 0.673099\n"
          ]
        },
        {
          "name": "stderr",
          "output_type": "stream",
          "text": [
            "100%|██████████████████████████████████████████████████████████████████████████████████████| 744/744 [00:52<00:00, 14.10it/s]\n"
          ]
        },
        {
          "name": "stdout",
          "output_type": "stream",
          "text": [
            "epoch : 105\t Loss : 0.098565\t iou : 0.834789\t val_loss : 0.004559\t val_IOU : 0.674736\n"
          ]
        },
        {
          "name": "stderr",
          "output_type": "stream",
          "text": [
            "100%|██████████████████████████████████████████████████████████████████████████████████████| 744/744 [00:52<00:00, 14.18it/s]\n"
          ]
        },
        {
          "name": "stdout",
          "output_type": "stream",
          "text": [
            "epoch : 106\t Loss : 0.098259\t iou : 0.834640\t val_loss : 0.005128\t val_IOU : 0.675269\n"
          ]
        },
        {
          "name": "stderr",
          "output_type": "stream",
          "text": [
            "100%|██████████████████████████████████████████████████████████████████████████████████████| 744/744 [00:52<00:00, 14.19it/s]\n"
          ]
        },
        {
          "name": "stdout",
          "output_type": "stream",
          "text": [
            "epoch : 107\t Loss : 0.098184\t iou : 0.834431\t val_loss : 0.002551\t val_IOU : 0.674242\n"
          ]
        },
        {
          "name": "stderr",
          "output_type": "stream",
          "text": [
            "100%|██████████████████████████████████████████████████████████████████████████████████████| 744/744 [00:52<00:00, 14.17it/s]\n"
          ]
        },
        {
          "name": "stdout",
          "output_type": "stream",
          "text": [
            "epoch : 108\t Loss : 0.097956\t iou : 0.835107\t val_loss : 0.012049\t val_IOU : 0.674434\n"
          ]
        },
        {
          "name": "stderr",
          "output_type": "stream",
          "text": [
            "100%|██████████████████████████████████████████████████████████████████████████████████████| 744/744 [00:52<00:00, 14.18it/s]\n"
          ]
        },
        {
          "name": "stdout",
          "output_type": "stream",
          "text": [
            "epoch : 109\t Loss : 0.097843\t iou : 0.834986\t val_loss : 0.004321\t val_IOU : 0.673055\n"
          ]
        },
        {
          "name": "stderr",
          "output_type": "stream",
          "text": [
            "100%|██████████████████████████████████████████████████████████████████████████████████████| 744/744 [00:52<00:00, 14.19it/s]\n"
          ]
        },
        {
          "name": "stdout",
          "output_type": "stream",
          "text": [
            "epoch : 110\t Loss : 0.097524\t iou : 0.835099\t val_loss : 0.003030\t val_IOU : 0.676971\n"
          ]
        },
        {
          "name": "stderr",
          "output_type": "stream",
          "text": [
            "100%|██████████████████████████████████████████████████████████████████████████████████████| 744/744 [00:52<00:00, 14.18it/s]\n"
          ]
        },
        {
          "name": "stdout",
          "output_type": "stream",
          "text": [
            "epoch : 111\t Loss : 0.097083\t iou : 0.836093\t val_loss : 0.002102\t val_IOU : 0.676401\n"
          ]
        },
        {
          "name": "stderr",
          "output_type": "stream",
          "text": [
            "100%|██████████████████████████████████████████████████████████████████████████████████████| 744/744 [00:52<00:00, 14.11it/s]\n"
          ]
        },
        {
          "name": "stdout",
          "output_type": "stream",
          "text": [
            "epoch : 112\t Loss : 0.096857\t iou : 0.835634\t val_loss : 0.002323\t val_IOU : 0.677109\n"
          ]
        },
        {
          "name": "stderr",
          "output_type": "stream",
          "text": [
            "100%|██████████████████████████████████████████████████████████████████████████████████████| 744/744 [00:52<00:00, 14.18it/s]\n"
          ]
        },
        {
          "name": "stdout",
          "output_type": "stream",
          "text": [
            "epoch : 113\t Loss : 0.096595\t iou : 0.836651\t val_loss : 0.004112\t val_IOU : 0.676744\n"
          ]
        },
        {
          "name": "stderr",
          "output_type": "stream",
          "text": [
            "100%|██████████████████████████████████████████████████████████████████████████████████████| 744/744 [00:52<00:00, 14.14it/s]\n"
          ]
        },
        {
          "name": "stdout",
          "output_type": "stream",
          "text": [
            "epoch : 114\t Loss : 0.096502\t iou : 0.836260\t val_loss : 0.007791\t val_IOU : 0.676940\n"
          ]
        },
        {
          "name": "stderr",
          "output_type": "stream",
          "text": [
            "100%|██████████████████████████████████████████████████████████████████████████████████████| 744/744 [00:52<00:00, 14.20it/s]\n"
          ]
        },
        {
          "name": "stdout",
          "output_type": "stream",
          "text": [
            "epoch : 115\t Loss : 0.096260\t iou : 0.836809\t val_loss : 0.006972\t val_IOU : 0.675673\n"
          ]
        },
        {
          "name": "stderr",
          "output_type": "stream",
          "text": [
            "100%|██████████████████████████████████████████████████████████████████████████████████████| 744/744 [00:52<00:00, 14.12it/s]\n"
          ]
        },
        {
          "name": "stdout",
          "output_type": "stream",
          "text": [
            "epoch : 116\t Loss : 0.096044\t iou : 0.837145\t val_loss : 0.004476\t val_IOU : 0.673438\n"
          ]
        },
        {
          "name": "stderr",
          "output_type": "stream",
          "text": [
            "100%|██████████████████████████████████████████████████████████████████████████████████████| 744/744 [00:52<00:00, 14.15it/s]\n"
          ]
        },
        {
          "name": "stdout",
          "output_type": "stream",
          "text": [
            "epoch : 117\t Loss : 0.095937\t iou : 0.837214\t val_loss : 0.003049\t val_IOU : 0.675575\n"
          ]
        },
        {
          "name": "stderr",
          "output_type": "stream",
          "text": [
            "100%|██████████████████████████████████████████████████████████████████████████████████████| 744/744 [00:52<00:00, 14.18it/s]\n"
          ]
        },
        {
          "name": "stdout",
          "output_type": "stream",
          "text": [
            "epoch : 118\t Loss : 0.095705\t iou : 0.837604\t val_loss : 0.006156\t val_IOU : 0.675259\n"
          ]
        },
        {
          "name": "stderr",
          "output_type": "stream",
          "text": [
            "100%|██████████████████████████████████████████████████████████████████████████████████████| 744/744 [00:52<00:00, 14.21it/s]\n"
          ]
        },
        {
          "name": "stdout",
          "output_type": "stream",
          "text": [
            "epoch : 119\t Loss : 0.095636\t iou : 0.837463\t val_loss : 0.003705\t val_IOU : 0.675620\n"
          ]
        },
        {
          "name": "stderr",
          "output_type": "stream",
          "text": [
            "100%|██████████████████████████████████████████████████████████████████████████████████████| 744/744 [00:52<00:00, 14.19it/s]\n"
          ]
        },
        {
          "name": "stdout",
          "output_type": "stream",
          "text": [
            "epoch : 120\t Loss : 0.095457\t iou : 0.838024\t val_loss : 0.004361\t val_IOU : 0.674316\n"
          ]
        },
        {
          "name": "stderr",
          "output_type": "stream",
          "text": [
            "100%|██████████████████████████████████████████████████████████████████████████████████████| 744/744 [00:52<00:00, 14.09it/s]\n"
          ]
        },
        {
          "name": "stdout",
          "output_type": "stream",
          "text": [
            "epoch : 121\t Loss : 0.095018\t iou : 0.837951\t val_loss : 0.004957\t val_IOU : 0.675737\n"
          ]
        },
        {
          "name": "stderr",
          "output_type": "stream",
          "text": [
            "100%|██████████████████████████████████████████████████████████████████████████████████████| 744/744 [00:52<00:00, 14.19it/s]\n"
          ]
        },
        {
          "name": "stdout",
          "output_type": "stream",
          "text": [
            "epoch : 122\t Loss : 0.094813\t iou : 0.838095\t val_loss : 0.004173\t val_IOU : 0.672764\n"
          ]
        },
        {
          "name": "stderr",
          "output_type": "stream",
          "text": [
            "100%|██████████████████████████████████████████████████████████████████████████████████████| 744/744 [00:52<00:00, 14.08it/s]\n"
          ]
        },
        {
          "name": "stdout",
          "output_type": "stream",
          "text": [
            "epoch : 123\t Loss : 0.094691\t iou : 0.837753\t val_loss : 0.004156\t val_IOU : 0.676103\n"
          ]
        },
        {
          "name": "stderr",
          "output_type": "stream",
          "text": [
            "100%|██████████████████████████████████████████████████████████████████████████████████████| 744/744 [00:52<00:00, 14.09it/s]\n"
          ]
        },
        {
          "name": "stdout",
          "output_type": "stream",
          "text": [
            "epoch : 124\t Loss : 0.094649\t iou : 0.838665\t val_loss : 0.002429\t val_IOU : 0.674109\n"
          ]
        },
        {
          "name": "stderr",
          "output_type": "stream",
          "text": [
            "100%|██████████████████████████████████████████████████████████████████████████████████████| 744/744 [00:52<00:00, 14.20it/s]\n"
          ]
        },
        {
          "name": "stdout",
          "output_type": "stream",
          "text": [
            "epoch : 125\t Loss : 0.094548\t iou : 0.838647\t val_loss : 0.008141\t val_IOU : 0.675000\n"
          ]
        },
        {
          "name": "stderr",
          "output_type": "stream",
          "text": [
            "100%|██████████████████████████████████████████████████████████████████████████████████████| 744/744 [00:52<00:00, 14.16it/s]\n"
          ]
        },
        {
          "name": "stdout",
          "output_type": "stream",
          "text": [
            "epoch : 126\t Loss : 0.094274\t iou : 0.838814\t val_loss : 0.009600\t val_IOU : 0.676576\n"
          ]
        },
        {
          "name": "stderr",
          "output_type": "stream",
          "text": [
            "100%|██████████████████████████████████████████████████████████████████████████████████████| 744/744 [00:52<00:00, 14.15it/s]\n"
          ]
        },
        {
          "name": "stdout",
          "output_type": "stream",
          "text": [
            "epoch : 127\t Loss : 0.094242\t iou : 0.838100\t val_loss : 0.003983\t val_IOU : 0.675758\n"
          ]
        },
        {
          "name": "stderr",
          "output_type": "stream",
          "text": [
            "100%|██████████████████████████████████████████████████████████████████████████████████████| 744/744 [00:52<00:00, 14.15it/s]\n"
          ]
        },
        {
          "name": "stdout",
          "output_type": "stream",
          "text": [
            "epoch : 128\t Loss : 0.094103\t iou : 0.839640\t val_loss : 0.003683\t val_IOU : 0.675299\n"
          ]
        },
        {
          "name": "stderr",
          "output_type": "stream",
          "text": [
            "100%|██████████████████████████████████████████████████████████████████████████████████████| 744/744 [00:52<00:00, 14.18it/s]\n"
          ]
        },
        {
          "name": "stdout",
          "output_type": "stream",
          "text": [
            "epoch : 129\t Loss : 0.094041\t iou : 0.839081\t val_loss : 0.002263\t val_IOU : 0.674770\n"
          ]
        },
        {
          "name": "stderr",
          "output_type": "stream",
          "text": [
            "100%|██████████████████████████████████████████████████████████████████████████████████████| 744/744 [00:52<00:00, 14.17it/s]\n"
          ]
        },
        {
          "name": "stdout",
          "output_type": "stream",
          "text": [
            "epoch : 130\t Loss : 0.093867\t iou : 0.838964\t val_loss : 0.003245\t val_IOU : 0.672876\n"
          ]
        },
        {
          "name": "stderr",
          "output_type": "stream",
          "text": [
            "100%|██████████████████████████████████████████████████████████████████████████████████████| 744/744 [00:52<00:00, 14.10it/s]\n"
          ]
        },
        {
          "name": "stdout",
          "output_type": "stream",
          "text": [
            "epoch : 131\t Loss : 0.093575\t iou : 0.839286\t val_loss : 0.019408\t val_IOU : 0.674805\n"
          ]
        },
        {
          "name": "stderr",
          "output_type": "stream",
          "text": [
            "100%|██████████████████████████████████████████████████████████████████████████████████████| 744/744 [00:52<00:00, 14.19it/s]\n"
          ]
        },
        {
          "name": "stdout",
          "output_type": "stream",
          "text": [
            "epoch : 132\t Loss : 0.093389\t iou : 0.839568\t val_loss : 0.008770\t val_IOU : 0.674753\n"
          ]
        },
        {
          "name": "stderr",
          "output_type": "stream",
          "text": [
            "100%|██████████████████████████████████████████████████████████████████████████████████████| 744/744 [00:52<00:00, 14.20it/s]\n"
          ]
        },
        {
          "name": "stdout",
          "output_type": "stream",
          "text": [
            "epoch : 133\t Loss : 0.093304\t iou : 0.840390\t val_loss : 0.003321\t val_IOU : 0.675569\n"
          ]
        },
        {
          "name": "stderr",
          "output_type": "stream",
          "text": [
            "100%|██████████████████████████████████████████████████████████████████████████████████████| 744/744 [00:52<00:00, 14.17it/s]\n"
          ]
        },
        {
          "name": "stdout",
          "output_type": "stream",
          "text": [
            "epoch : 134\t Loss : 0.093204\t iou : 0.840217\t val_loss : 0.010618\t val_IOU : 0.672472\n"
          ]
        },
        {
          "name": "stderr",
          "output_type": "stream",
          "text": [
            "100%|██████████████████████████████████████████████████████████████████████████████████████| 744/744 [00:52<00:00, 14.18it/s]\n"
          ]
        },
        {
          "name": "stdout",
          "output_type": "stream",
          "text": [
            "epoch : 135\t Loss : 0.093151\t iou : 0.839513\t val_loss : 0.005984\t val_IOU : 0.676344\n"
          ]
        },
        {
          "name": "stderr",
          "output_type": "stream",
          "text": [
            "100%|██████████████████████████████████████████████████████████████████████████████████████| 744/744 [00:52<00:00, 14.10it/s]\n"
          ]
        },
        {
          "name": "stdout",
          "output_type": "stream",
          "text": [
            "epoch : 136\t Loss : 0.092965\t iou : 0.841158\t val_loss : 0.002046\t val_IOU : 0.673628\n"
          ]
        },
        {
          "name": "stderr",
          "output_type": "stream",
          "text": [
            "100%|██████████████████████████████████████████████████████████████████████████████████████| 744/744 [00:52<00:00, 14.09it/s]\n"
          ]
        },
        {
          "name": "stdout",
          "output_type": "stream",
          "text": [
            "epoch : 137\t Loss : 0.092863\t iou : 0.840670\t val_loss : 0.005087\t val_IOU : 0.674845\n"
          ]
        },
        {
          "name": "stderr",
          "output_type": "stream",
          "text": [
            "100%|██████████████████████████████████████████████████████████████████████████████████████| 744/744 [00:52<00:00, 14.19it/s]\n"
          ]
        },
        {
          "name": "stdout",
          "output_type": "stream",
          "text": [
            "epoch : 138\t Loss : 0.092801\t iou : 0.840729\t val_loss : 0.003435\t val_IOU : 0.676683\n"
          ]
        },
        {
          "name": "stderr",
          "output_type": "stream",
          "text": [
            "100%|██████████████████████████████████████████████████████████████████████████████████████| 744/744 [00:52<00:00, 14.18it/s]\n"
          ]
        },
        {
          "name": "stdout",
          "output_type": "stream",
          "text": [
            "epoch : 139\t Loss : 0.092738\t iou : 0.840626\t val_loss : 0.003651\t val_IOU : 0.675258\n"
          ]
        },
        {
          "name": "stderr",
          "output_type": "stream",
          "text": [
            "100%|██████████████████████████████████████████████████████████████████████████████████████| 744/744 [00:52<00:00, 14.19it/s]\n"
          ]
        },
        {
          "name": "stdout",
          "output_type": "stream",
          "text": [
            "epoch : 140\t Loss : 0.092601\t iou : 0.840436\t val_loss : 0.004205\t val_IOU : 0.674821\n"
          ]
        },
        {
          "name": "stderr",
          "output_type": "stream",
          "text": [
            "100%|██████████████████████████████████████████████████████████████████████████████████████| 744/744 [00:52<00:00, 14.18it/s]\n"
          ]
        },
        {
          "name": "stdout",
          "output_type": "stream",
          "text": [
            "epoch : 141\t Loss : 0.092322\t iou : 0.840967\t val_loss : 0.002325\t val_IOU : 0.675866\n"
          ]
        },
        {
          "name": "stderr",
          "output_type": "stream",
          "text": [
            "100%|██████████████████████████████████████████████████████████████████████████████████████| 744/744 [00:52<00:00, 14.19it/s]\n"
          ]
        },
        {
          "name": "stdout",
          "output_type": "stream",
          "text": [
            "epoch : 142\t Loss : 0.092198\t iou : 0.841907\t val_loss : 0.005002\t val_IOU : 0.674629\n"
          ]
        },
        {
          "name": "stderr",
          "output_type": "stream",
          "text": [
            "100%|██████████████████████████████████████████████████████████████████████████████████████| 744/744 [00:52<00:00, 14.19it/s]\n"
          ]
        },
        {
          "name": "stdout",
          "output_type": "stream",
          "text": [
            "epoch : 143\t Loss : 0.092212\t iou : 0.841432\t val_loss : 0.003473\t val_IOU : 0.674836\n"
          ]
        },
        {
          "name": "stderr",
          "output_type": "stream",
          "text": [
            "100%|██████████████████████████████████████████████████████████████████████████████████████| 744/744 [00:52<00:00, 14.09it/s]\n"
          ]
        },
        {
          "name": "stdout",
          "output_type": "stream",
          "text": [
            "epoch : 144\t Loss : 0.091981\t iou : 0.841536\t val_loss : 0.003617\t val_IOU : 0.675217\n"
          ]
        },
        {
          "name": "stderr",
          "output_type": "stream",
          "text": [
            "100%|██████████████████████████████████████████████████████████████████████████████████████| 744/744 [00:52<00:00, 14.07it/s]\n"
          ]
        },
        {
          "name": "stdout",
          "output_type": "stream",
          "text": [
            "epoch : 145\t Loss : 0.091934\t iou : 0.841244\t val_loss : 0.003136\t val_IOU : 0.675028\n"
          ]
        },
        {
          "name": "stderr",
          "output_type": "stream",
          "text": [
            "100%|██████████████████████████████████████████████████████████████████████████████████████| 744/744 [00:52<00:00, 14.18it/s]\n"
          ]
        },
        {
          "name": "stdout",
          "output_type": "stream",
          "text": [
            "epoch : 146\t Loss : 0.091842\t iou : 0.841915\t val_loss : 0.005399\t val_IOU : 0.676863\n"
          ]
        },
        {
          "name": "stderr",
          "output_type": "stream",
          "text": [
            "100%|██████████████████████████████████████████████████████████████████████████████████████| 744/744 [00:52<00:00, 14.14it/s]\n"
          ]
        },
        {
          "name": "stdout",
          "output_type": "stream",
          "text": [
            "epoch : 147\t Loss : 0.091722\t iou : 0.841571\t val_loss : 0.004204\t val_IOU : 0.674296\n"
          ]
        },
        {
          "name": "stderr",
          "output_type": "stream",
          "text": [
            "100%|██████████████████████████████████████████████████████████████████████████████████████| 744/744 [00:52<00:00, 14.11it/s]\n"
          ]
        },
        {
          "name": "stdout",
          "output_type": "stream",
          "text": [
            "epoch : 148\t Loss : 0.091713\t iou : 0.841776\t val_loss : 0.019173\t val_IOU : 0.675660\n"
          ]
        },
        {
          "name": "stderr",
          "output_type": "stream",
          "text": [
            "100%|██████████████████████████████████████████████████████████████████████████████████████| 744/744 [00:52<00:00, 14.12it/s]\n"
          ]
        },
        {
          "name": "stdout",
          "output_type": "stream",
          "text": [
            "epoch : 149\t Loss : 0.091637\t iou : 0.841845\t val_loss : 0.017008\t val_IOU : 0.676034\n"
          ]
        },
        {
          "name": "stderr",
          "output_type": "stream",
          "text": [
            "100%|██████████████████████████████████████████████████████████████████████████████████████| 744/744 [00:52<00:00, 14.17it/s]\n"
          ]
        },
        {
          "name": "stdout",
          "output_type": "stream",
          "text": [
            "epoch : 150\t Loss : 0.091487\t iou : 0.841874\t val_loss : 0.002522\t val_IOU : 0.675239\n"
          ]
        },
        {
          "name": "stderr",
          "output_type": "stream",
          "text": [
            "100%|██████████████████████████████████████████████████████████████████████████████████████| 744/744 [00:52<00:00, 14.18it/s]\n"
          ]
        },
        {
          "name": "stdout",
          "output_type": "stream",
          "text": [
            "epoch : 151\t Loss : 0.091408\t iou : 0.841779\t val_loss : 0.003521\t val_IOU : 0.675262\n"
          ]
        },
        {
          "name": "stderr",
          "output_type": "stream",
          "text": [
            "100%|██████████████████████████████████████████████████████████████████████████████████████| 744/744 [00:52<00:00, 14.18it/s]\n"
          ]
        },
        {
          "name": "stdout",
          "output_type": "stream",
          "text": [
            "epoch : 152\t Loss : 0.091251\t iou : 0.842689\t val_loss : 0.005208\t val_IOU : 0.674667\n"
          ]
        },
        {
          "name": "stderr",
          "output_type": "stream",
          "text": [
            "100%|██████████████████████████████████████████████████████████████████████████████████████| 744/744 [00:52<00:00, 14.18it/s]\n"
          ]
        },
        {
          "name": "stdout",
          "output_type": "stream",
          "text": [
            "epoch : 153\t Loss : 0.091167\t iou : 0.842867\t val_loss : 0.004382\t val_IOU : 0.675473\n"
          ]
        },
        {
          "name": "stderr",
          "output_type": "stream",
          "text": [
            "100%|██████████████████████████████████████████████████████████████████████████████████████| 744/744 [00:52<00:00, 14.17it/s]\n"
          ]
        },
        {
          "name": "stdout",
          "output_type": "stream",
          "text": [
            "epoch : 154\t Loss : 0.091148\t iou : 0.842400\t val_loss : 0.002346\t val_IOU : 0.675147\n"
          ]
        },
        {
          "name": "stderr",
          "output_type": "stream",
          "text": [
            "100%|██████████████████████████████████████████████████████████████████████████████████████| 744/744 [00:52<00:00, 14.18it/s]\n"
          ]
        },
        {
          "name": "stdout",
          "output_type": "stream",
          "text": [
            "epoch : 155\t Loss : 0.091072\t iou : 0.842781\t val_loss : 0.004288\t val_IOU : 0.675228\n"
          ]
        },
        {
          "name": "stderr",
          "output_type": "stream",
          "text": [
            "100%|██████████████████████████████████████████████████████████████████████████████████████| 744/744 [00:52<00:00, 14.05it/s]\n"
          ]
        },
        {
          "name": "stdout",
          "output_type": "stream",
          "text": [
            "epoch : 156\t Loss : 0.091113\t iou : 0.842480\t val_loss : 0.007302\t val_IOU : 0.676839\n"
          ]
        },
        {
          "name": "stderr",
          "output_type": "stream",
          "text": [
            "100%|██████████████████████████████████████████████████████████████████████████████████████| 744/744 [00:52<00:00, 14.07it/s]\n"
          ]
        },
        {
          "name": "stdout",
          "output_type": "stream",
          "text": [
            "epoch : 157\t Loss : 0.090999\t iou : 0.842305\t val_loss : 0.003317\t val_IOU : 0.673647\n"
          ]
        },
        {
          "name": "stderr",
          "output_type": "stream",
          "text": [
            "100%|██████████████████████████████████████████████████████████████████████████████████████| 744/744 [00:52<00:00, 14.16it/s]\n"
          ]
        },
        {
          "name": "stdout",
          "output_type": "stream",
          "text": [
            "epoch : 158\t Loss : 0.090838\t iou : 0.842838\t val_loss : 0.005425\t val_IOU : 0.675375\n"
          ]
        },
        {
          "name": "stderr",
          "output_type": "stream",
          "text": [
            "100%|██████████████████████████████████████████████████████████████████████████████████████| 744/744 [00:52<00:00, 14.18it/s]\n"
          ]
        },
        {
          "name": "stdout",
          "output_type": "stream",
          "text": [
            "epoch : 159\t Loss : 0.090870\t iou : 0.842559\t val_loss : 0.002847\t val_IOU : 0.675195\n"
          ]
        },
        {
          "name": "stderr",
          "output_type": "stream",
          "text": [
            "100%|██████████████████████████████████████████████████████████████████████████████████████| 744/744 [00:52<00:00, 14.19it/s]\n"
          ]
        },
        {
          "name": "stdout",
          "output_type": "stream",
          "text": [
            "epoch : 160\t Loss : 0.090804\t iou : 0.842525\t val_loss : 0.005455\t val_IOU : 0.674824\n"
          ]
        },
        {
          "name": "stderr",
          "output_type": "stream",
          "text": [
            "100%|██████████████████████████████████████████████████████████████████████████████████████| 744/744 [00:52<00:00, 14.12it/s]\n"
          ]
        },
        {
          "name": "stdout",
          "output_type": "stream",
          "text": [
            "epoch : 161\t Loss : 0.090659\t iou : 0.843130\t val_loss : 0.007337\t val_IOU : 0.674679\n"
          ]
        },
        {
          "name": "stderr",
          "output_type": "stream",
          "text": [
            "100%|██████████████████████████████████████████████████████████████████████████████████████| 744/744 [00:52<00:00, 14.17it/s]\n"
          ]
        },
        {
          "name": "stdout",
          "output_type": "stream",
          "text": [
            "epoch : 162\t Loss : 0.090514\t iou : 0.843085\t val_loss : 0.005392\t val_IOU : 0.675474\n"
          ]
        },
        {
          "name": "stderr",
          "output_type": "stream",
          "text": [
            "100%|██████████████████████████████████████████████████████████████████████████████████████| 744/744 [00:52<00:00, 14.05it/s]\n"
          ]
        },
        {
          "name": "stdout",
          "output_type": "stream",
          "text": [
            "epoch : 163\t Loss : 0.090461\t iou : 0.843838\t val_loss : 0.003061\t val_IOU : 0.675614\n"
          ]
        },
        {
          "name": "stderr",
          "output_type": "stream",
          "text": [
            "100%|██████████████████████████████████████████████████████████████████████████████████████| 744/744 [00:52<00:00, 14.18it/s]\n"
          ]
        },
        {
          "name": "stdout",
          "output_type": "stream",
          "text": [
            "epoch : 164\t Loss : 0.090368\t iou : 0.843070\t val_loss : 0.005923\t val_IOU : 0.674259\n"
          ]
        },
        {
          "name": "stderr",
          "output_type": "stream",
          "text": [
            "100%|██████████████████████████████████████████████████████████████████████████████████████| 744/744 [00:52<00:00, 14.18it/s]\n"
          ]
        },
        {
          "name": "stdout",
          "output_type": "stream",
          "text": [
            "epoch : 165\t Loss : 0.090369\t iou : 0.843652\t val_loss : 0.003814\t val_IOU : 0.674423\n"
          ]
        },
        {
          "name": "stderr",
          "output_type": "stream",
          "text": [
            "100%|██████████████████████████████████████████████████████████████████████████████████████| 744/744 [00:52<00:00, 14.04it/s]\n"
          ]
        },
        {
          "name": "stdout",
          "output_type": "stream",
          "text": [
            "epoch : 166\t Loss : 0.090267\t iou : 0.842808\t val_loss : 0.003556\t val_IOU : 0.674285\n"
          ]
        },
        {
          "name": "stderr",
          "output_type": "stream",
          "text": [
            "100%|██████████████████████████████████████████████████████████████████████████████████████| 744/744 [00:52<00:00, 14.13it/s]\n"
          ]
        },
        {
          "name": "stdout",
          "output_type": "stream",
          "text": [
            "epoch : 167\t Loss : 0.090288\t iou : 0.843009\t val_loss : 0.002471\t val_IOU : 0.675462\n"
          ]
        },
        {
          "name": "stderr",
          "output_type": "stream",
          "text": [
            "100%|██████████████████████████████████████████████████████████████████████████████████████| 744/744 [00:53<00:00, 14.04it/s]\n"
          ]
        },
        {
          "name": "stdout",
          "output_type": "stream",
          "text": [
            "epoch : 168\t Loss : 0.090150\t iou : 0.843747\t val_loss : 0.007467\t val_IOU : 0.674739\n"
          ]
        },
        {
          "name": "stderr",
          "output_type": "stream",
          "text": [
            "100%|██████████████████████████████████████████████████████████████████████████████████████| 744/744 [00:52<00:00, 14.18it/s]\n"
          ]
        },
        {
          "name": "stdout",
          "output_type": "stream",
          "text": [
            "epoch : 169\t Loss : 0.090156\t iou : 0.843836\t val_loss : 0.005772\t val_IOU : 0.674834\n"
          ]
        },
        {
          "name": "stderr",
          "output_type": "stream",
          "text": [
            "100%|██████████████████████████████████████████████████████████████████████████████████████| 744/744 [00:52<00:00, 14.14it/s]\n"
          ]
        },
        {
          "name": "stdout",
          "output_type": "stream",
          "text": [
            "epoch : 170\t Loss : 0.090120\t iou : 0.842880\t val_loss : 0.013049\t val_IOU : 0.674397\n"
          ]
        },
        {
          "name": "stderr",
          "output_type": "stream",
          "text": [
            "100%|██████████████████████████████████████████████████████████████████████████████████████| 744/744 [00:52<00:00, 14.20it/s]\n"
          ]
        },
        {
          "name": "stdout",
          "output_type": "stream",
          "text": [
            "epoch : 171\t Loss : 0.090066\t iou : 0.844131\t val_loss : 0.006760\t val_IOU : 0.673964\n"
          ]
        },
        {
          "name": "stderr",
          "output_type": "stream",
          "text": [
            "100%|██████████████████████████████████████████████████████████████████████████████████████| 744/744 [00:52<00:00, 14.19it/s]\n"
          ]
        },
        {
          "name": "stdout",
          "output_type": "stream",
          "text": [
            "epoch : 172\t Loss : 0.090018\t iou : 0.843578\t val_loss : 0.006843\t val_IOU : 0.675442\n"
          ]
        },
        {
          "name": "stderr",
          "output_type": "stream",
          "text": [
            "100%|██████████████████████████████████████████████████████████████████████████████████████| 744/744 [00:52<00:00, 14.14it/s]\n"
          ]
        },
        {
          "name": "stdout",
          "output_type": "stream",
          "text": [
            "epoch : 173\t Loss : 0.089890\t iou : 0.843924\t val_loss : 0.002834\t val_IOU : 0.675420\n"
          ]
        },
        {
          "name": "stderr",
          "output_type": "stream",
          "text": [
            "100%|██████████████████████████████████████████████████████████████████████████████████████| 744/744 [00:53<00:00, 13.98it/s]\n"
          ]
        },
        {
          "name": "stdout",
          "output_type": "stream",
          "text": [
            "epoch : 174\t Loss : 0.089826\t iou : 0.843802\t val_loss : 0.016082\t val_IOU : 0.675549\n"
          ]
        },
        {
          "name": "stderr",
          "output_type": "stream",
          "text": [
            "100%|██████████████████████████████████████████████████████████████████████████████████████| 744/744 [00:52<00:00, 14.06it/s]\n"
          ]
        },
        {
          "name": "stdout",
          "output_type": "stream",
          "text": [
            "epoch : 175\t Loss : 0.089793\t iou : 0.843918\t val_loss : 0.003670\t val_IOU : 0.675961\n"
          ]
        },
        {
          "name": "stderr",
          "output_type": "stream",
          "text": [
            "100%|██████████████████████████████████████████████████████████████████████████████████████| 744/744 [00:52<00:00, 14.13it/s]\n"
          ]
        },
        {
          "name": "stdout",
          "output_type": "stream",
          "text": [
            "epoch : 176\t Loss : 0.089817\t iou : 0.843804\t val_loss : 0.006654\t val_IOU : 0.674799\n"
          ]
        },
        {
          "name": "stderr",
          "output_type": "stream",
          "text": [
            "100%|██████████████████████████████████████████████████████████████████████████████████████| 744/744 [00:52<00:00, 14.19it/s]\n"
          ]
        },
        {
          "name": "stdout",
          "output_type": "stream",
          "text": [
            "epoch : 177\t Loss : 0.089720\t iou : 0.843934\t val_loss : 0.017258\t val_IOU : 0.674645\n"
          ]
        },
        {
          "name": "stderr",
          "output_type": "stream",
          "text": [
            "100%|██████████████████████████████████████████████████████████████████████████████████████| 744/744 [00:52<00:00, 14.05it/s]\n"
          ]
        },
        {
          "name": "stdout",
          "output_type": "stream",
          "text": [
            "epoch : 178\t Loss : 0.089700\t iou : 0.843917\t val_loss : 0.003003\t val_IOU : 0.676144\n"
          ]
        },
        {
          "name": "stderr",
          "output_type": "stream",
          "text": [
            "100%|██████████████████████████████████████████████████████████████████████████████████████| 744/744 [00:52<00:00, 14.08it/s]\n"
          ]
        },
        {
          "name": "stdout",
          "output_type": "stream",
          "text": [
            "epoch : 179\t Loss : 0.089533\t iou : 0.844607\t val_loss : 0.001788\t val_IOU : 0.674222\n"
          ]
        },
        {
          "name": "stderr",
          "output_type": "stream",
          "text": [
            "100%|██████████████████████████████████████████████████████████████████████████████████████| 744/744 [00:52<00:00, 14.11it/s]\n"
          ]
        },
        {
          "name": "stdout",
          "output_type": "stream",
          "text": [
            "epoch : 180\t Loss : 0.089697\t iou : 0.843521\t val_loss : 0.008632\t val_IOU : 0.674895\n"
          ]
        },
        {
          "name": "stderr",
          "output_type": "stream",
          "text": [
            "100%|██████████████████████████████████████████████████████████████████████████████████████| 744/744 [00:52<00:00, 14.17it/s]\n"
          ]
        },
        {
          "name": "stdout",
          "output_type": "stream",
          "text": [
            "epoch : 181\t Loss : 0.089476\t iou : 0.844233\t val_loss : 0.003316\t val_IOU : 0.674942\n"
          ]
        },
        {
          "name": "stderr",
          "output_type": "stream",
          "text": [
            "100%|██████████████████████████████████████████████████████████████████████████████████████| 744/744 [00:52<00:00, 14.05it/s]\n"
          ]
        },
        {
          "name": "stdout",
          "output_type": "stream",
          "text": [
            "epoch : 182\t Loss : 0.089489\t iou : 0.844165\t val_loss : 0.003596\t val_IOU : 0.676942\n"
          ]
        },
        {
          "name": "stderr",
          "output_type": "stream",
          "text": [
            "100%|██████████████████████████████████████████████████████████████████████████████████████| 744/744 [00:52<00:00, 14.21it/s]\n"
          ]
        },
        {
          "name": "stdout",
          "output_type": "stream",
          "text": [
            "epoch : 183\t Loss : 0.089449\t iou : 0.844025\t val_loss : 0.006494\t val_IOU : 0.676125\n"
          ]
        },
        {
          "name": "stderr",
          "output_type": "stream",
          "text": [
            "100%|██████████████████████████████████████████████████████████████████████████████████████| 744/744 [00:53<00:00, 14.02it/s]\n"
          ]
        },
        {
          "name": "stdout",
          "output_type": "stream",
          "text": [
            "epoch : 184\t Loss : 0.089485\t iou : 0.844356\t val_loss : 0.005114\t val_IOU : 0.675339\n"
          ]
        },
        {
          "name": "stderr",
          "output_type": "stream",
          "text": [
            "100%|██████████████████████████████████████████████████████████████████████████████████████| 744/744 [00:52<00:00, 14.14it/s]\n"
          ]
        },
        {
          "name": "stdout",
          "output_type": "stream",
          "text": [
            "epoch : 185\t Loss : 0.089365\t iou : 0.844199\t val_loss : 0.030159\t val_IOU : 0.675659\n"
          ]
        },
        {
          "name": "stderr",
          "output_type": "stream",
          "text": [
            "100%|██████████████████████████████████████████████████████████████████████████████████████| 744/744 [00:52<00:00, 14.17it/s]\n"
          ]
        },
        {
          "name": "stdout",
          "output_type": "stream",
          "text": [
            "epoch : 186\t Loss : 0.089329\t iou : 0.844291\t val_loss : 0.005793\t val_IOU : 0.674749\n"
          ]
        },
        {
          "name": "stderr",
          "output_type": "stream",
          "text": [
            "100%|██████████████████████████████████████████████████████████████████████████████████████| 744/744 [00:52<00:00, 14.14it/s]\n"
          ]
        },
        {
          "name": "stdout",
          "output_type": "stream",
          "text": [
            "epoch : 187\t Loss : 0.089276\t iou : 0.844981\t val_loss : 0.011104\t val_IOU : 0.672798\n"
          ]
        },
        {
          "name": "stderr",
          "output_type": "stream",
          "text": [
            "100%|██████████████████████████████████████████████████████████████████████████████████████| 744/744 [00:52<00:00, 14.05it/s]\n"
          ]
        },
        {
          "name": "stdout",
          "output_type": "stream",
          "text": [
            "epoch : 188\t Loss : 0.089274\t iou : 0.844107\t val_loss : 0.004713\t val_IOU : 0.674494\n"
          ]
        },
        {
          "name": "stderr",
          "output_type": "stream",
          "text": [
            "100%|██████████████████████████████████████████████████████████████████████████████████████| 744/744 [00:52<00:00, 14.13it/s]\n"
          ]
        },
        {
          "name": "stdout",
          "output_type": "stream",
          "text": [
            "epoch : 189\t Loss : 0.089229\t iou : 0.844610\t val_loss : 0.013183\t val_IOU : 0.675958\n"
          ]
        },
        {
          "name": "stderr",
          "output_type": "stream",
          "text": [
            "100%|██████████████████████████████████████████████████████████████████████████████████████| 744/744 [00:52<00:00, 14.15it/s]\n"
          ]
        },
        {
          "name": "stdout",
          "output_type": "stream",
          "text": [
            "epoch : 190\t Loss : 0.089235\t iou : 0.844278\t val_loss : 0.018267\t val_IOU : 0.677452\n"
          ]
        },
        {
          "name": "stderr",
          "output_type": "stream",
          "text": [
            "100%|██████████████████████████████████████████████████████████████████████████████████████| 744/744 [00:52<00:00, 14.19it/s]\n"
          ]
        },
        {
          "name": "stdout",
          "output_type": "stream",
          "text": [
            "epoch : 191\t Loss : 0.089136\t iou : 0.844800\t val_loss : 0.003065\t val_IOU : 0.673935\n"
          ]
        },
        {
          "name": "stderr",
          "output_type": "stream",
          "text": [
            "100%|██████████████████████████████████████████████████████████████████████████████████████| 744/744 [00:52<00:00, 14.16it/s]\n"
          ]
        },
        {
          "name": "stdout",
          "output_type": "stream",
          "text": [
            "epoch : 192\t Loss : 0.089170\t iou : 0.845048\t val_loss : 0.006067\t val_IOU : 0.673670\n"
          ]
        },
        {
          "name": "stderr",
          "output_type": "stream",
          "text": [
            "100%|██████████████████████████████████████████████████████████████████████████████████████| 744/744 [00:52<00:00, 14.15it/s]\n"
          ]
        },
        {
          "name": "stdout",
          "output_type": "stream",
          "text": [
            "epoch : 193\t Loss : 0.089054\t iou : 0.845098\t val_loss : 0.005160\t val_IOU : 0.675369\n"
          ]
        },
        {
          "name": "stderr",
          "output_type": "stream",
          "text": [
            "100%|██████████████████████████████████████████████████████████████████████████████████████| 744/744 [00:52<00:00, 14.18it/s]\n"
          ]
        },
        {
          "name": "stdout",
          "output_type": "stream",
          "text": [
            "epoch : 194\t Loss : 0.089066\t iou : 0.844983\t val_loss : 0.004332\t val_IOU : 0.674361\n"
          ]
        },
        {
          "name": "stderr",
          "output_type": "stream",
          "text": [
            "100%|██████████████████████████████████████████████████████████████████████████████████████| 744/744 [00:52<00:00, 14.20it/s]\n"
          ]
        },
        {
          "name": "stdout",
          "output_type": "stream",
          "text": [
            "epoch : 195\t Loss : 0.089005\t iou : 0.844888\t val_loss : 0.003246\t val_IOU : 0.676112\n"
          ]
        },
        {
          "name": "stderr",
          "output_type": "stream",
          "text": [
            "100%|██████████████████████████████████████████████████████████████████████████████████████| 744/744 [00:52<00:00, 14.16it/s]\n"
          ]
        },
        {
          "name": "stdout",
          "output_type": "stream",
          "text": [
            "epoch : 196\t Loss : 0.088990\t iou : 0.844837\t val_loss : 0.003260\t val_IOU : 0.676655\n"
          ]
        },
        {
          "name": "stderr",
          "output_type": "stream",
          "text": [
            "100%|██████████████████████████████████████████████████████████████████████████████████████| 744/744 [00:52<00:00, 14.16it/s]\n"
          ]
        },
        {
          "name": "stdout",
          "output_type": "stream",
          "text": [
            "epoch : 197\t Loss : 0.088930\t iou : 0.844329\t val_loss : 0.009568\t val_IOU : 0.673176\n"
          ]
        },
        {
          "name": "stderr",
          "output_type": "stream",
          "text": [
            "100%|██████████████████████████████████████████████████████████████████████████████████████| 744/744 [00:52<00:00, 14.16it/s]\n"
          ]
        },
        {
          "name": "stdout",
          "output_type": "stream",
          "text": [
            "epoch : 198\t Loss : 0.088941\t iou : 0.844841\t val_loss : 0.016923\t val_IOU : 0.673448\n"
          ]
        },
        {
          "name": "stderr",
          "output_type": "stream",
          "text": [
            "100%|██████████████████████████████████████████████████████████████████████████████████████| 744/744 [00:52<00:00, 14.21it/s]\n"
          ]
        },
        {
          "name": "stdout",
          "output_type": "stream",
          "text": [
            "epoch : 199\t Loss : 0.088893\t iou : 0.844618\t val_loss : 0.004230\t val_IOU : 0.674451\n"
          ]
        },
        {
          "name": "stderr",
          "output_type": "stream",
          "text": [
            "100%|██████████████████████████████████████████████████████████████████████████████████████| 744/744 [00:52<00:00, 14.17it/s]\n"
          ]
        },
        {
          "name": "stdout",
          "output_type": "stream",
          "text": [
            "epoch : 200\t Loss : 0.088811\t iou : 0.845370\t val_loss : 0.002665\t val_IOU : 0.674792\n"
          ]
        },
        {
          "name": "stderr",
          "output_type": "stream",
          "text": [
            "100%|██████████████████████████████████████████████████████████████████████████████████████| 744/744 [00:52<00:00, 14.20it/s]\n"
          ]
        },
        {
          "name": "stdout",
          "output_type": "stream",
          "text": [
            "epoch : 201\t Loss : 0.088808\t iou : 0.844931\t val_loss : 0.003631\t val_IOU : 0.674235\n"
          ]
        },
        {
          "name": "stderr",
          "output_type": "stream",
          "text": [
            "100%|██████████████████████████████████████████████████████████████████████████████████████| 744/744 [00:52<00:00, 14.18it/s]\n"
          ]
        },
        {
          "name": "stdout",
          "output_type": "stream",
          "text": [
            "epoch : 202\t Loss : 0.088785\t iou : 0.844760\t val_loss : 0.002555\t val_IOU : 0.673123\n"
          ]
        },
        {
          "name": "stderr",
          "output_type": "stream",
          "text": [
            "100%|██████████████████████████████████████████████████████████████████████████████████████| 744/744 [00:52<00:00, 14.07it/s]\n"
          ]
        },
        {
          "name": "stdout",
          "output_type": "stream",
          "text": [
            "epoch : 203\t Loss : 0.088795\t iou : 0.845594\t val_loss : 0.003628\t val_IOU : 0.672753\n"
          ]
        },
        {
          "name": "stderr",
          "output_type": "stream",
          "text": [
            "100%|██████████████████████████████████████████████████████████████████████████████████████| 744/744 [00:52<00:00, 14.06it/s]\n"
          ]
        },
        {
          "name": "stdout",
          "output_type": "stream",
          "text": [
            "epoch : 204\t Loss : 0.088756\t iou : 0.845491\t val_loss : 0.003239\t val_IOU : 0.674869\n"
          ]
        },
        {
          "name": "stderr",
          "output_type": "stream",
          "text": [
            "100%|██████████████████████████████████████████████████████████████████████████████████████| 744/744 [00:52<00:00, 14.16it/s]\n"
          ]
        },
        {
          "name": "stdout",
          "output_type": "stream",
          "text": [
            "epoch : 205\t Loss : 0.088667\t iou : 0.845463\t val_loss : 0.003707\t val_IOU : 0.674576\n"
          ]
        },
        {
          "name": "stderr",
          "output_type": "stream",
          "text": [
            "100%|██████████████████████████████████████████████████████████████████████████████████████| 744/744 [00:52<00:00, 14.13it/s]\n"
          ]
        },
        {
          "name": "stdout",
          "output_type": "stream",
          "text": [
            "epoch : 206\t Loss : 0.088640\t iou : 0.845050\t val_loss : 0.006138\t val_IOU : 0.674658\n"
          ]
        },
        {
          "name": "stderr",
          "output_type": "stream",
          "text": [
            "100%|██████████████████████████████████████████████████████████████████████████████████████| 744/744 [00:52<00:00, 14.13it/s]\n"
          ]
        },
        {
          "name": "stdout",
          "output_type": "stream",
          "text": [
            "epoch : 207\t Loss : 0.088645\t iou : 0.845212\t val_loss : 0.003976\t val_IOU : 0.676427\n"
          ]
        },
        {
          "name": "stderr",
          "output_type": "stream",
          "text": [
            "100%|██████████████████████████████████████████████████████████████████████████████████████| 744/744 [00:53<00:00, 14.03it/s]\n"
          ]
        },
        {
          "name": "stdout",
          "output_type": "stream",
          "text": [
            "epoch : 208\t Loss : 0.088655\t iou : 0.845436\t val_loss : 0.018715\t val_IOU : 0.674617\n"
          ]
        },
        {
          "name": "stderr",
          "output_type": "stream",
          "text": [
            "100%|██████████████████████████████████████████████████████████████████████████████████████| 744/744 [00:52<00:00, 14.15it/s]\n"
          ]
        },
        {
          "name": "stdout",
          "output_type": "stream",
          "text": [
            "epoch : 209\t Loss : 0.088629\t iou : 0.845161\t val_loss : 0.003731\t val_IOU : 0.674227\n"
          ]
        },
        {
          "name": "stderr",
          "output_type": "stream",
          "text": [
            "100%|██████████████████████████████████████████████████████████████████████████████████████| 744/744 [00:52<00:00, 14.06it/s]\n"
          ]
        },
        {
          "name": "stdout",
          "output_type": "stream",
          "text": [
            "epoch : 210\t Loss : 0.088528\t iou : 0.845256\t val_loss : 0.004265\t val_IOU : 0.675785\n"
          ]
        },
        {
          "name": "stderr",
          "output_type": "stream",
          "text": [
            "100%|██████████████████████████████████████████████████████████████████████████████████████| 744/744 [00:52<00:00, 14.18it/s]\n"
          ]
        },
        {
          "name": "stdout",
          "output_type": "stream",
          "text": [
            "epoch : 211\t Loss : 0.088615\t iou : 0.845524\t val_loss : 0.006559\t val_IOU : 0.675666\n"
          ]
        },
        {
          "name": "stderr",
          "output_type": "stream",
          "text": [
            "100%|██████████████████████████████████████████████████████████████████████████████████████| 744/744 [00:52<00:00, 14.18it/s]\n"
          ]
        },
        {
          "name": "stdout",
          "output_type": "stream",
          "text": [
            "epoch : 212\t Loss : 0.088566\t iou : 0.845386\t val_loss : 0.002921\t val_IOU : 0.674944\n"
          ]
        },
        {
          "name": "stderr",
          "output_type": "stream",
          "text": [
            "100%|██████████████████████████████████████████████████████████████████████████████████████| 744/744 [00:52<00:00, 14.19it/s]\n"
          ]
        },
        {
          "name": "stdout",
          "output_type": "stream",
          "text": [
            "epoch : 213\t Loss : 0.088438\t iou : 0.845536\t val_loss : 0.008324\t val_IOU : 0.674511\n"
          ]
        },
        {
          "name": "stderr",
          "output_type": "stream",
          "text": [
            "100%|██████████████████████████████████████████████████████████████████████████████████████| 744/744 [00:52<00:00, 14.06it/s]\n"
          ]
        },
        {
          "name": "stdout",
          "output_type": "stream",
          "text": [
            "epoch : 214\t Loss : 0.088521\t iou : 0.845797\t val_loss : 0.042222\t val_IOU : 0.675225\n"
          ]
        },
        {
          "name": "stderr",
          "output_type": "stream",
          "text": [
            "100%|██████████████████████████████████████████████████████████████████████████████████████| 744/744 [00:52<00:00, 14.17it/s]\n"
          ]
        },
        {
          "name": "stdout",
          "output_type": "stream",
          "text": [
            "epoch : 215\t Loss : 0.088485\t iou : 0.845380\t val_loss : 0.005759\t val_IOU : 0.675299\n"
          ]
        },
        {
          "name": "stderr",
          "output_type": "stream",
          "text": [
            "100%|██████████████████████████████████████████████████████████████████████████████████████| 744/744 [00:52<00:00, 14.17it/s]\n"
          ]
        },
        {
          "name": "stdout",
          "output_type": "stream",
          "text": [
            "epoch : 216\t Loss : 0.088427\t iou : 0.845621\t val_loss : 0.003147\t val_IOU : 0.675398\n"
          ]
        },
        {
          "name": "stderr",
          "output_type": "stream",
          "text": [
            "100%|██████████████████████████████████████████████████████████████████████████████████████| 744/744 [00:52<00:00, 14.19it/s]\n"
          ]
        },
        {
          "name": "stdout",
          "output_type": "stream",
          "text": [
            "epoch : 217\t Loss : 0.088507\t iou : 0.844934\t val_loss : 0.004742\t val_IOU : 0.675517\n"
          ]
        },
        {
          "name": "stderr",
          "output_type": "stream",
          "text": [
            "100%|██████████████████████████████████████████████████████████████████████████████████████| 744/744 [00:52<00:00, 14.15it/s]\n"
          ]
        },
        {
          "name": "stdout",
          "output_type": "stream",
          "text": [
            "epoch : 218\t Loss : 0.088425\t iou : 0.845758\t val_loss : 0.006526\t val_IOU : 0.676524\n"
          ]
        },
        {
          "name": "stderr",
          "output_type": "stream",
          "text": [
            "100%|██████████████████████████████████████████████████████████████████████████████████████| 744/744 [00:52<00:00, 14.12it/s]\n"
          ]
        },
        {
          "name": "stdout",
          "output_type": "stream",
          "text": [
            "epoch : 219\t Loss : 0.088456\t iou : 0.845648\t val_loss : 0.003270\t val_IOU : 0.676042\n"
          ]
        },
        {
          "name": "stderr",
          "output_type": "stream",
          "text": [
            "100%|██████████████████████████████████████████████████████████████████████████████████████| 744/744 [00:52<00:00, 14.16it/s]\n"
          ]
        },
        {
          "name": "stdout",
          "output_type": "stream",
          "text": [
            "epoch : 220\t Loss : 0.088435\t iou : 0.845306\t val_loss : 0.008396\t val_IOU : 0.674382\n"
          ]
        },
        {
          "name": "stderr",
          "output_type": "stream",
          "text": [
            "100%|██████████████████████████████████████████████████████████████████████████████████████| 744/744 [00:53<00:00, 14.04it/s]\n"
          ]
        },
        {
          "name": "stdout",
          "output_type": "stream",
          "text": [
            "epoch : 221\t Loss : 0.088317\t iou : 0.845582\t val_loss : 0.002732\t val_IOU : 0.673914\n"
          ]
        },
        {
          "name": "stderr",
          "output_type": "stream",
          "text": [
            "100%|██████████████████████████████████████████████████████████████████████████████████████| 744/744 [00:52<00:00, 14.10it/s]\n"
          ]
        },
        {
          "name": "stdout",
          "output_type": "stream",
          "text": [
            "epoch : 222\t Loss : 0.088351\t iou : 0.845765\t val_loss : 0.004454\t val_IOU : 0.673366\n"
          ]
        },
        {
          "name": "stderr",
          "output_type": "stream",
          "text": [
            "100%|██████████████████████████████████████████████████████████████████████████████████████| 744/744 [00:52<00:00, 14.18it/s]\n"
          ]
        },
        {
          "name": "stdout",
          "output_type": "stream",
          "text": [
            "epoch : 223\t Loss : 0.088364\t iou : 0.845475\t val_loss : 0.007401\t val_IOU : 0.675019\n"
          ]
        },
        {
          "name": "stderr",
          "output_type": "stream",
          "text": [
            "100%|██████████████████████████████████████████████████████████████████████████████████████| 744/744 [00:52<00:00, 14.07it/s]\n"
          ]
        },
        {
          "name": "stdout",
          "output_type": "stream",
          "text": [
            "epoch : 224\t Loss : 0.088337\t iou : 0.846117\t val_loss : 0.004901\t val_IOU : 0.674284\n"
          ]
        },
        {
          "name": "stderr",
          "output_type": "stream",
          "text": [
            "100%|██████████████████████████████████████████████████████████████████████████████████████| 744/744 [00:52<00:00, 14.09it/s]\n"
          ]
        },
        {
          "name": "stdout",
          "output_type": "stream",
          "text": [
            "epoch : 225\t Loss : 0.088252\t iou : 0.845441\t val_loss : 0.008776\t val_IOU : 0.674951\n"
          ]
        },
        {
          "name": "stderr",
          "output_type": "stream",
          "text": [
            "100%|██████████████████████████████████████████████████████████████████████████████████████| 744/744 [00:52<00:00, 14.17it/s]\n"
          ]
        },
        {
          "name": "stdout",
          "output_type": "stream",
          "text": [
            "epoch : 226\t Loss : 0.088302\t iou : 0.845554\t val_loss : 0.004632\t val_IOU : 0.675792\n"
          ]
        },
        {
          "name": "stderr",
          "output_type": "stream",
          "text": [
            "100%|██████████████████████████████████████████████████████████████████████████████████████| 744/744 [00:52<00:00, 14.13it/s]\n"
          ]
        },
        {
          "name": "stdout",
          "output_type": "stream",
          "text": [
            "epoch : 227\t Loss : 0.088332\t iou : 0.845985\t val_loss : 0.002993\t val_IOU : 0.672936\n"
          ]
        },
        {
          "name": "stderr",
          "output_type": "stream",
          "text": [
            "100%|██████████████████████████████████████████████████████████████████████████████████████| 744/744 [00:52<00:00, 14.15it/s]\n"
          ]
        },
        {
          "name": "stdout",
          "output_type": "stream",
          "text": [
            "epoch : 228\t Loss : 0.088232\t iou : 0.845749\t val_loss : 0.007796\t val_IOU : 0.676380\n"
          ]
        },
        {
          "name": "stderr",
          "output_type": "stream",
          "text": [
            "100%|██████████████████████████████████████████████████████████████████████████████████████| 744/744 [00:52<00:00, 14.19it/s]\n"
          ]
        },
        {
          "name": "stdout",
          "output_type": "stream",
          "text": [
            "epoch : 229\t Loss : 0.088201\t iou : 0.845591\t val_loss : 0.009851\t val_IOU : 0.675699\n"
          ]
        },
        {
          "name": "stderr",
          "output_type": "stream",
          "text": [
            "100%|██████████████████████████████████████████████████████████████████████████████████████| 744/744 [00:52<00:00, 14.18it/s]\n"
          ]
        },
        {
          "name": "stdout",
          "output_type": "stream",
          "text": [
            "epoch : 230\t Loss : 0.088236\t iou : 0.845936\t val_loss : 0.004396\t val_IOU : 0.672380\n"
          ]
        },
        {
          "name": "stderr",
          "output_type": "stream",
          "text": [
            "100%|██████████████████████████████████████████████████████████████████████████████████████| 744/744 [00:52<00:00, 14.18it/s]\n"
          ]
        },
        {
          "name": "stdout",
          "output_type": "stream",
          "text": [
            "epoch : 231\t Loss : 0.088202\t iou : 0.845756\t val_loss : 0.004701\t val_IOU : 0.675406\n"
          ]
        },
        {
          "name": "stderr",
          "output_type": "stream",
          "text": [
            "100%|██████████████████████████████████████████████████████████████████████████████████████| 744/744 [00:52<00:00, 14.19it/s]\n"
          ]
        },
        {
          "name": "stdout",
          "output_type": "stream",
          "text": [
            "epoch : 232\t Loss : 0.088247\t iou : 0.845752\t val_loss : 0.003779\t val_IOU : 0.673708\n"
          ]
        },
        {
          "name": "stderr",
          "output_type": "stream",
          "text": [
            "100%|██████████████████████████████████████████████████████████████████████████████████████| 744/744 [00:52<00:00, 14.19it/s]\n"
          ]
        },
        {
          "name": "stdout",
          "output_type": "stream",
          "text": [
            "epoch : 233\t Loss : 0.088176\t iou : 0.845672\t val_loss : 0.007112\t val_IOU : 0.674518\n"
          ]
        },
        {
          "name": "stderr",
          "output_type": "stream",
          "text": [
            "100%|██████████████████████████████████████████████████████████████████████████████████████| 744/744 [00:52<00:00, 14.10it/s]\n"
          ]
        },
        {
          "name": "stdout",
          "output_type": "stream",
          "text": [
            "epoch : 234\t Loss : 0.088282\t iou : 0.846169\t val_loss : 0.003091\t val_IOU : 0.674899\n"
          ]
        },
        {
          "name": "stderr",
          "output_type": "stream",
          "text": [
            "100%|██████████████████████████████████████████████████████████████████████████████████████| 744/744 [00:52<00:00, 14.20it/s]\n"
          ]
        },
        {
          "name": "stdout",
          "output_type": "stream",
          "text": [
            "epoch : 235\t Loss : 0.088052\t iou : 0.845929\t val_loss : 0.010338\t val_IOU : 0.672563\n"
          ]
        },
        {
          "name": "stderr",
          "output_type": "stream",
          "text": [
            "100%|██████████████████████████████████████████████████████████████████████████████████████| 744/744 [00:52<00:00, 14.10it/s]\n"
          ]
        },
        {
          "name": "stdout",
          "output_type": "stream",
          "text": [
            "epoch : 236\t Loss : 0.088157\t iou : 0.845602\t val_loss : 0.004093\t val_IOU : 0.675001\n"
          ]
        },
        {
          "name": "stderr",
          "output_type": "stream",
          "text": [
            "100%|██████████████████████████████████████████████████████████████████████████████████████| 744/744 [00:52<00:00, 14.20it/s]\n"
          ]
        },
        {
          "name": "stdout",
          "output_type": "stream",
          "text": [
            "epoch : 237\t Loss : 0.088183\t iou : 0.845487\t val_loss : 0.006287\t val_IOU : 0.675538\n"
          ]
        },
        {
          "name": "stderr",
          "output_type": "stream",
          "text": [
            "100%|██████████████████████████████████████████████████████████████████████████████████████| 744/744 [00:52<00:00, 14.20it/s]\n"
          ]
        },
        {
          "name": "stdout",
          "output_type": "stream",
          "text": [
            "epoch : 238\t Loss : 0.088089\t iou : 0.845839\t val_loss : 0.005536\t val_IOU : 0.672857\n"
          ]
        },
        {
          "name": "stderr",
          "output_type": "stream",
          "text": [
            "100%|██████████████████████████████████████████████████████████████████████████████████████| 744/744 [00:52<00:00, 14.19it/s]\n"
          ]
        },
        {
          "name": "stdout",
          "output_type": "stream",
          "text": [
            "epoch : 239\t Loss : 0.088104\t iou : 0.846164\t val_loss : 0.014533\t val_IOU : 0.676295\n"
          ]
        },
        {
          "name": "stderr",
          "output_type": "stream",
          "text": [
            "100%|██████████████████████████████████████████████████████████████████████████████████████| 744/744 [00:52<00:00, 14.21it/s]\n"
          ]
        },
        {
          "name": "stdout",
          "output_type": "stream",
          "text": [
            "epoch : 240\t Loss : 0.088128\t iou : 0.845722\t val_loss : 0.015882\t val_IOU : 0.674344\n"
          ]
        },
        {
          "name": "stderr",
          "output_type": "stream",
          "text": [
            "100%|██████████████████████████████████████████████████████████████████████████████████████| 744/744 [00:52<00:00, 14.16it/s]\n"
          ]
        },
        {
          "name": "stdout",
          "output_type": "stream",
          "text": [
            "epoch : 241\t Loss : 0.088135\t iou : 0.845758\t val_loss : 0.007278\t val_IOU : 0.674173\n"
          ]
        },
        {
          "name": "stderr",
          "output_type": "stream",
          "text": [
            "100%|██████████████████████████████████████████████████████████████████████████████████████| 744/744 [00:52<00:00, 14.21it/s]\n"
          ]
        },
        {
          "name": "stdout",
          "output_type": "stream",
          "text": [
            "epoch : 242\t Loss : 0.088089\t iou : 0.846031\t val_loss : 0.008412\t val_IOU : 0.674642\n"
          ]
        },
        {
          "name": "stderr",
          "output_type": "stream",
          "text": [
            "100%|██████████████████████████████████████████████████████████████████████████████████████| 744/744 [00:52<00:00, 14.06it/s]\n"
          ]
        },
        {
          "name": "stdout",
          "output_type": "stream",
          "text": [
            "epoch : 243\t Loss : 0.088181\t iou : 0.846113\t val_loss : 0.003199\t val_IOU : 0.674678\n"
          ]
        },
        {
          "name": "stderr",
          "output_type": "stream",
          "text": [
            "100%|██████████████████████████████████████████████████████████████████████████████████████| 744/744 [00:52<00:00, 14.10it/s]\n"
          ]
        },
        {
          "name": "stdout",
          "output_type": "stream",
          "text": [
            "epoch : 244\t Loss : 0.088041\t iou : 0.846133\t val_loss : 0.003624\t val_IOU : 0.676076\n"
          ]
        },
        {
          "name": "stderr",
          "output_type": "stream",
          "text": [
            "100%|██████████████████████████████████████████████████████████████████████████████████████| 744/744 [00:52<00:00, 14.21it/s]\n"
          ]
        },
        {
          "name": "stdout",
          "output_type": "stream",
          "text": [
            "epoch : 245\t Loss : 0.088046\t iou : 0.845751\t val_loss : 0.004967\t val_IOU : 0.675446\n"
          ]
        },
        {
          "name": "stderr",
          "output_type": "stream",
          "text": [
            "100%|██████████████████████████████████████████████████████████████████████████████████████| 744/744 [00:52<00:00, 14.19it/s]\n"
          ]
        },
        {
          "name": "stdout",
          "output_type": "stream",
          "text": [
            "epoch : 246\t Loss : 0.088028\t iou : 0.846287\t val_loss : 0.003888\t val_IOU : 0.674953\n"
          ]
        },
        {
          "name": "stderr",
          "output_type": "stream",
          "text": [
            "100%|██████████████████████████████████████████████████████████████████████████████████████| 744/744 [00:52<00:00, 14.21it/s]\n"
          ]
        },
        {
          "name": "stdout",
          "output_type": "stream",
          "text": [
            "epoch : 247\t Loss : 0.088013\t iou : 0.845704\t val_loss : 0.002231\t val_IOU : 0.675029\n"
          ]
        },
        {
          "name": "stderr",
          "output_type": "stream",
          "text": [
            "100%|██████████████████████████████████████████████████████████████████████████████████████| 744/744 [00:52<00:00, 14.10it/s]\n"
          ]
        },
        {
          "name": "stdout",
          "output_type": "stream",
          "text": [
            "epoch : 248\t Loss : 0.087999\t iou : 0.845966\t val_loss : 0.016497\t val_IOU : 0.674384\n"
          ]
        },
        {
          "name": "stderr",
          "output_type": "stream",
          "text": [
            "100%|██████████████████████████████████████████████████████████████████████████████████████| 744/744 [00:52<00:00, 14.22it/s]\n"
          ]
        },
        {
          "name": "stdout",
          "output_type": "stream",
          "text": [
            "epoch : 249\t Loss : 0.088041\t iou : 0.845937\t val_loss : 0.003406\t val_IOU : 0.673355\n"
          ]
        },
        {
          "name": "stderr",
          "output_type": "stream",
          "text": [
            "100%|██████████████████████████████████████████████████████████████████████████████████████| 744/744 [00:52<00:00, 14.18it/s]\n"
          ]
        },
        {
          "name": "stdout",
          "output_type": "stream",
          "text": [
            "epoch : 250\t Loss : 0.088029\t iou : 0.845747\t val_loss : 0.002908\t val_IOU : 0.673335\n"
          ]
        },
        {
          "name": "stderr",
          "output_type": "stream",
          "text": [
            "100%|██████████████████████████████████████████████████████████████████████████████████████| 744/744 [00:52<00:00, 14.08it/s]\n"
          ]
        },
        {
          "name": "stdout",
          "output_type": "stream",
          "text": [
            "epoch : 251\t Loss : 0.087930\t iou : 0.846440\t val_loss : 0.003659\t val_IOU : 0.675714\n"
          ]
        },
        {
          "name": "stderr",
          "output_type": "stream",
          "text": [
            "100%|██████████████████████████████████████████████████████████████████████████████████████| 744/744 [00:52<00:00, 14.09it/s]\n"
          ]
        },
        {
          "name": "stdout",
          "output_type": "stream",
          "text": [
            "epoch : 252\t Loss : 0.087963\t iou : 0.846162\t val_loss : 0.013933\t val_IOU : 0.674937\n"
          ]
        },
        {
          "name": "stderr",
          "output_type": "stream",
          "text": [
            "100%|██████████████████████████████████████████████████████████████████████████████████████| 744/744 [00:52<00:00, 14.11it/s]\n"
          ]
        },
        {
          "name": "stdout",
          "output_type": "stream",
          "text": [
            "epoch : 253\t Loss : 0.087978\t iou : 0.845752\t val_loss : 0.003200\t val_IOU : 0.675960\n"
          ]
        },
        {
          "name": "stderr",
          "output_type": "stream",
          "text": [
            "100%|██████████████████████████████████████████████████████████████████████████████████████| 744/744 [00:52<00:00, 14.19it/s]\n"
          ]
        },
        {
          "name": "stdout",
          "output_type": "stream",
          "text": [
            "epoch : 254\t Loss : 0.087991\t iou : 0.846102\t val_loss : 0.009636\t val_IOU : 0.675801\n"
          ]
        },
        {
          "name": "stderr",
          "output_type": "stream",
          "text": [
            "100%|██████████████████████████████████████████████████████████████████████████████████████| 744/744 [00:52<00:00, 14.19it/s]\n"
          ]
        },
        {
          "name": "stdout",
          "output_type": "stream",
          "text": [
            "epoch : 255\t Loss : 0.087935\t iou : 0.846146\t val_loss : 0.013439\t val_IOU : 0.673098\n"
          ]
        },
        {
          "name": "stderr",
          "output_type": "stream",
          "text": [
            "100%|██████████████████████████████████████████████████████████████████████████████████████| 744/744 [00:52<00:00, 14.19it/s]\n"
          ]
        },
        {
          "name": "stdout",
          "output_type": "stream",
          "text": [
            "epoch : 256\t Loss : 0.087966\t iou : 0.846238\t val_loss : 0.006783\t val_IOU : 0.676010\n"
          ]
        },
        {
          "name": "stderr",
          "output_type": "stream",
          "text": [
            "100%|██████████████████████████████████████████████████████████████████████████████████████| 744/744 [00:52<00:00, 14.20it/s]\n"
          ]
        },
        {
          "name": "stdout",
          "output_type": "stream",
          "text": [
            "epoch : 257\t Loss : 0.087938\t iou : 0.845964\t val_loss : 0.002890\t val_IOU : 0.674082\n"
          ]
        },
        {
          "name": "stderr",
          "output_type": "stream",
          "text": [
            "100%|██████████████████████████████████████████████████████████████████████████████████████| 744/744 [00:52<00:00, 14.09it/s]\n"
          ]
        },
        {
          "name": "stdout",
          "output_type": "stream",
          "text": [
            "epoch : 258\t Loss : 0.087955\t iou : 0.846351\t val_loss : 0.004235\t val_IOU : 0.674607\n"
          ]
        },
        {
          "name": "stderr",
          "output_type": "stream",
          "text": [
            "100%|██████████████████████████████████████████████████████████████████████████████████████| 744/744 [00:52<00:00, 14.17it/s]\n"
          ]
        },
        {
          "name": "stdout",
          "output_type": "stream",
          "text": [
            "epoch : 259\t Loss : 0.087862\t iou : 0.846287\t val_loss : 0.004649\t val_IOU : 0.674034\n"
          ]
        },
        {
          "name": "stderr",
          "output_type": "stream",
          "text": [
            "100%|██████████████████████████████████████████████████████████████████████████████████████| 744/744 [00:52<00:00, 14.19it/s]\n"
          ]
        },
        {
          "name": "stdout",
          "output_type": "stream",
          "text": [
            "epoch : 260\t Loss : 0.087920\t iou : 0.846564\t val_loss : 0.005368\t val_IOU : 0.675397\n"
          ]
        },
        {
          "name": "stderr",
          "output_type": "stream",
          "text": [
            "100%|██████████████████████████████████████████████████████████████████████████████████████| 744/744 [00:52<00:00, 14.17it/s]\n"
          ]
        },
        {
          "name": "stdout",
          "output_type": "stream",
          "text": [
            "epoch : 261\t Loss : 0.087961\t iou : 0.845821\t val_loss : 0.003973\t val_IOU : 0.675833\n"
          ]
        },
        {
          "name": "stderr",
          "output_type": "stream",
          "text": [
            "100%|██████████████████████████████████████████████████████████████████████████████████████| 744/744 [00:52<00:00, 14.20it/s]\n"
          ]
        },
        {
          "name": "stdout",
          "output_type": "stream",
          "text": [
            "epoch : 262\t Loss : 0.087885\t iou : 0.845947\t val_loss : 0.018272\t val_IOU : 0.674702\n"
          ]
        },
        {
          "name": "stderr",
          "output_type": "stream",
          "text": [
            "100%|██████████████████████████████████████████████████████████████████████████████████████| 744/744 [00:52<00:00, 14.18it/s]\n"
          ]
        },
        {
          "name": "stdout",
          "output_type": "stream",
          "text": [
            "epoch : 263\t Loss : 0.087897\t iou : 0.846504\t val_loss : 0.003868\t val_IOU : 0.672140\n"
          ]
        },
        {
          "name": "stderr",
          "output_type": "stream",
          "text": [
            "100%|██████████████████████████████████████████████████████████████████████████████████████| 744/744 [00:52<00:00, 14.18it/s]\n"
          ]
        },
        {
          "name": "stdout",
          "output_type": "stream",
          "text": [
            "epoch : 264\t Loss : 0.087847\t iou : 0.846763\t val_loss : 0.003576\t val_IOU : 0.673068\n"
          ]
        },
        {
          "name": "stderr",
          "output_type": "stream",
          "text": [
            "100%|██████████████████████████████████████████████████████████████████████████████████████| 744/744 [00:52<00:00, 14.16it/s]\n"
          ]
        },
        {
          "name": "stdout",
          "output_type": "stream",
          "text": [
            "epoch : 265\t Loss : 0.087845\t iou : 0.846139\t val_loss : 0.003876\t val_IOU : 0.672988\n"
          ]
        },
        {
          "name": "stderr",
          "output_type": "stream",
          "text": [
            "100%|██████████████████████████████████████████████████████████████████████████████████████| 744/744 [00:52<00:00, 14.20it/s]\n"
          ]
        },
        {
          "name": "stdout",
          "output_type": "stream",
          "text": [
            "epoch : 266\t Loss : 0.087916\t iou : 0.846496\t val_loss : 0.003568\t val_IOU : 0.675106\n"
          ]
        },
        {
          "name": "stderr",
          "output_type": "stream",
          "text": [
            "100%|██████████████████████████████████████████████████████████████████████████████████████| 744/744 [00:52<00:00, 14.18it/s]\n"
          ]
        },
        {
          "name": "stdout",
          "output_type": "stream",
          "text": [
            "epoch : 267\t Loss : 0.087900\t iou : 0.846015\t val_loss : 0.008988\t val_IOU : 0.675938\n"
          ]
        },
        {
          "name": "stderr",
          "output_type": "stream",
          "text": [
            "100%|██████████████████████████████████████████████████████████████████████████████████████| 744/744 [00:52<00:00, 14.21it/s]\n"
          ]
        },
        {
          "name": "stdout",
          "output_type": "stream",
          "text": [
            "epoch : 268\t Loss : 0.087928\t iou : 0.846370\t val_loss : 0.003159\t val_IOU : 0.674263\n"
          ]
        },
        {
          "name": "stderr",
          "output_type": "stream",
          "text": [
            "100%|██████████████████████████████████████████████████████████████████████████████████████| 744/744 [00:52<00:00, 14.10it/s]\n"
          ]
        },
        {
          "name": "stdout",
          "output_type": "stream",
          "text": [
            "epoch : 269\t Loss : 0.087845\t iou : 0.846483\t val_loss : 0.003380\t val_IOU : 0.673847\n"
          ]
        },
        {
          "name": "stderr",
          "output_type": "stream",
          "text": [
            "100%|██████████████████████████████████████████████████████████████████████████████████████| 744/744 [00:52<00:00, 14.11it/s]\n"
          ]
        },
        {
          "name": "stdout",
          "output_type": "stream",
          "text": [
            "epoch : 270\t Loss : 0.087869\t iou : 0.846351\t val_loss : 0.003908\t val_IOU : 0.675218\n"
          ]
        },
        {
          "name": "stderr",
          "output_type": "stream",
          "text": [
            "100%|██████████████████████████████████████████████████████████████████████████████████████| 744/744 [00:52<00:00, 14.17it/s]\n"
          ]
        },
        {
          "name": "stdout",
          "output_type": "stream",
          "text": [
            "epoch : 271\t Loss : 0.087785\t iou : 0.846409\t val_loss : 0.003026\t val_IOU : 0.676014\n"
          ]
        },
        {
          "name": "stderr",
          "output_type": "stream",
          "text": [
            "100%|██████████████████████████████████████████████████████████████████████████████████████| 744/744 [00:52<00:00, 14.17it/s]\n"
          ]
        },
        {
          "name": "stdout",
          "output_type": "stream",
          "text": [
            "epoch : 272\t Loss : 0.087871\t iou : 0.846213\t val_loss : 0.005861\t val_IOU : 0.673729\n"
          ]
        },
        {
          "name": "stderr",
          "output_type": "stream",
          "text": [
            "100%|██████████████████████████████████████████████████████████████████████████████████████| 744/744 [00:53<00:00, 13.95it/s]\n"
          ]
        },
        {
          "name": "stdout",
          "output_type": "stream",
          "text": [
            "epoch : 273\t Loss : 0.087835\t iou : 0.846312\t val_loss : 0.005363\t val_IOU : 0.675312\n"
          ]
        },
        {
          "name": "stderr",
          "output_type": "stream",
          "text": [
            "100%|██████████████████████████████████████████████████████████████████████████████████████| 744/744 [00:52<00:00, 14.09it/s]\n"
          ]
        },
        {
          "name": "stdout",
          "output_type": "stream",
          "text": [
            "epoch : 274\t Loss : 0.087838\t iou : 0.846510\t val_loss : 0.007392\t val_IOU : 0.674644\n"
          ]
        },
        {
          "name": "stderr",
          "output_type": "stream",
          "text": [
            "100%|██████████████████████████████████████████████████████████████████████████████████████| 744/744 [00:52<00:00, 14.19it/s]\n"
          ]
        },
        {
          "name": "stdout",
          "output_type": "stream",
          "text": [
            "epoch : 275\t Loss : 0.087862\t iou : 0.846396\t val_loss : 0.004485\t val_IOU : 0.674009\n"
          ]
        },
        {
          "name": "stderr",
          "output_type": "stream",
          "text": [
            "100%|██████████████████████████████████████████████████████████████████████████████████████| 744/744 [00:52<00:00, 14.18it/s]\n"
          ]
        },
        {
          "name": "stdout",
          "output_type": "stream",
          "text": [
            "epoch : 276\t Loss : 0.087817\t iou : 0.846333\t val_loss : 0.004693\t val_IOU : 0.674677\n"
          ]
        },
        {
          "name": "stderr",
          "output_type": "stream",
          "text": [
            "100%|██████████████████████████████████████████████████████████████████████████████████████| 744/744 [00:52<00:00, 14.09it/s]\n"
          ]
        },
        {
          "name": "stdout",
          "output_type": "stream",
          "text": [
            "epoch : 277\t Loss : 0.087829\t iou : 0.846519\t val_loss : 0.002565\t val_IOU : 0.674670\n"
          ]
        },
        {
          "name": "stderr",
          "output_type": "stream",
          "text": [
            "100%|██████████████████████████████████████████████████████████████████████████████████████| 744/744 [00:52<00:00, 14.19it/s]\n"
          ]
        },
        {
          "name": "stdout",
          "output_type": "stream",
          "text": [
            "epoch : 278\t Loss : 0.087810\t iou : 0.846443\t val_loss : 0.004565\t val_IOU : 0.675553\n"
          ]
        },
        {
          "name": "stderr",
          "output_type": "stream",
          "text": [
            "100%|██████████████████████████████████████████████████████████████████████████████████████| 744/744 [00:52<00:00, 14.18it/s]\n"
          ]
        },
        {
          "name": "stdout",
          "output_type": "stream",
          "text": [
            "epoch : 279\t Loss : 0.087806\t iou : 0.846321\t val_loss : 0.010066\t val_IOU : 0.675184\n"
          ]
        },
        {
          "name": "stderr",
          "output_type": "stream",
          "text": [
            "100%|██████████████████████████████████████████████████████████████████████████████████████| 744/744 [00:52<00:00, 14.19it/s]\n"
          ]
        },
        {
          "name": "stdout",
          "output_type": "stream",
          "text": [
            "epoch : 280\t Loss : 0.087780\t iou : 0.846484\t val_loss : 0.002345\t val_IOU : 0.676341\n"
          ]
        },
        {
          "name": "stderr",
          "output_type": "stream",
          "text": [
            "100%|██████████████████████████████████████████████████████████████████████████████████████| 744/744 [00:52<00:00, 14.18it/s]\n"
          ]
        },
        {
          "name": "stdout",
          "output_type": "stream",
          "text": [
            "epoch : 281\t Loss : 0.087801\t iou : 0.846464\t val_loss : 0.002146\t val_IOU : 0.673518\n"
          ]
        },
        {
          "name": "stderr",
          "output_type": "stream",
          "text": [
            "100%|██████████████████████████████████████████████████████████████████████████████████████| 744/744 [00:52<00:00, 14.20it/s]\n"
          ]
        },
        {
          "name": "stdout",
          "output_type": "stream",
          "text": [
            "epoch : 282\t Loss : 0.087841\t iou : 0.846235\t val_loss : 0.002101\t val_IOU : 0.675497\n"
          ]
        },
        {
          "name": "stderr",
          "output_type": "stream",
          "text": [
            "100%|██████████████████████████████████████████████████████████████████████████████████████| 744/744 [00:52<00:00, 14.19it/s]\n"
          ]
        },
        {
          "name": "stdout",
          "output_type": "stream",
          "text": [
            "epoch : 283\t Loss : 0.087764\t iou : 0.846477\t val_loss : 0.003050\t val_IOU : 0.675003\n"
          ]
        },
        {
          "name": "stderr",
          "output_type": "stream",
          "text": [
            "100%|██████████████████████████████████████████████████████████████████████████████████████| 744/744 [00:52<00:00, 14.15it/s]\n"
          ]
        },
        {
          "name": "stdout",
          "output_type": "stream",
          "text": [
            "epoch : 284\t Loss : 0.087748\t iou : 0.846445\t val_loss : 0.012646\t val_IOU : 0.675728\n"
          ]
        },
        {
          "name": "stderr",
          "output_type": "stream",
          "text": [
            "100%|██████████████████████████████████████████████████████████████████████████████████████| 744/744 [00:52<00:00, 14.07it/s]\n"
          ]
        },
        {
          "name": "stdout",
          "output_type": "stream",
          "text": [
            "epoch : 285\t Loss : 0.087833\t iou : 0.846823\t val_loss : 0.002919\t val_IOU : 0.672536\n"
          ]
        },
        {
          "name": "stderr",
          "output_type": "stream",
          "text": [
            "100%|██████████████████████████████████████████████████████████████████████████████████████| 744/744 [00:52<00:00, 14.16it/s]\n"
          ]
        },
        {
          "name": "stdout",
          "output_type": "stream",
          "text": [
            "epoch : 286\t Loss : 0.087781\t iou : 0.845774\t val_loss : 0.014362\t val_IOU : 0.675932\n"
          ]
        },
        {
          "name": "stderr",
          "output_type": "stream",
          "text": [
            "100%|██████████████████████████████████████████████████████████████████████████████████████| 744/744 [00:52<00:00, 14.17it/s]\n"
          ]
        },
        {
          "name": "stdout",
          "output_type": "stream",
          "text": [
            "epoch : 287\t Loss : 0.087776\t iou : 0.846094\t val_loss : 0.002954\t val_IOU : 0.674870\n"
          ]
        },
        {
          "name": "stderr",
          "output_type": "stream",
          "text": [
            "100%|██████████████████████████████████████████████████████████████████████████████████████| 744/744 [00:52<00:00, 14.19it/s]\n"
          ]
        },
        {
          "name": "stdout",
          "output_type": "stream",
          "text": [
            "epoch : 288\t Loss : 0.087801\t iou : 0.846430\t val_loss : 0.003240\t val_IOU : 0.674876\n"
          ]
        },
        {
          "name": "stderr",
          "output_type": "stream",
          "text": [
            "100%|██████████████████████████████████████████████████████████████████████████████████████| 744/744 [00:52<00:00, 14.09it/s]\n"
          ]
        },
        {
          "name": "stdout",
          "output_type": "stream",
          "text": [
            "epoch : 289\t Loss : 0.087716\t iou : 0.846900\t val_loss : 0.004245\t val_IOU : 0.675335\n"
          ]
        },
        {
          "name": "stderr",
          "output_type": "stream",
          "text": [
            "100%|██████████████████████████████████████████████████████████████████████████████████████| 744/744 [00:52<00:00, 14.20it/s]\n"
          ]
        },
        {
          "name": "stdout",
          "output_type": "stream",
          "text": [
            "epoch : 290\t Loss : 0.087738\t iou : 0.846801\t val_loss : 0.004778\t val_IOU : 0.676538\n"
          ]
        },
        {
          "name": "stderr",
          "output_type": "stream",
          "text": [
            "100%|██████████████████████████████████████████████████████████████████████████████████████| 744/744 [00:52<00:00, 14.17it/s]\n"
          ]
        },
        {
          "name": "stdout",
          "output_type": "stream",
          "text": [
            "epoch : 291\t Loss : 0.087733\t iou : 0.846181\t val_loss : 0.006090\t val_IOU : 0.674797\n"
          ]
        },
        {
          "name": "stderr",
          "output_type": "stream",
          "text": [
            "100%|██████████████████████████████████████████████████████████████████████████████████████| 744/744 [00:52<00:00, 14.21it/s]\n"
          ]
        },
        {
          "name": "stdout",
          "output_type": "stream",
          "text": [
            "epoch : 292\t Loss : 0.087779\t iou : 0.846019\t val_loss : 0.002699\t val_IOU : 0.674248\n"
          ]
        },
        {
          "name": "stderr",
          "output_type": "stream",
          "text": [
            "100%|██████████████████████████████████████████████████████████████████████████████████████| 744/744 [00:52<00:00, 14.18it/s]\n"
          ]
        },
        {
          "name": "stdout",
          "output_type": "stream",
          "text": [
            "epoch : 293\t Loss : 0.087773\t iou : 0.846559\t val_loss : 0.002425\t val_IOU : 0.674185\n"
          ]
        },
        {
          "name": "stderr",
          "output_type": "stream",
          "text": [
            "100%|██████████████████████████████████████████████████████████████████████████████████████| 744/744 [00:52<00:00, 14.18it/s]\n"
          ]
        },
        {
          "name": "stdout",
          "output_type": "stream",
          "text": [
            "epoch : 294\t Loss : 0.087665\t iou : 0.846821\t val_loss : 0.016623\t val_IOU : 0.671955\n"
          ]
        },
        {
          "name": "stderr",
          "output_type": "stream",
          "text": [
            "100%|██████████████████████████████████████████████████████████████████████████████████████| 744/744 [00:52<00:00, 14.19it/s]\n"
          ]
        },
        {
          "name": "stdout",
          "output_type": "stream",
          "text": [
            "epoch : 295\t Loss : 0.087802\t iou : 0.845988\t val_loss : 0.003278\t val_IOU : 0.676310\n"
          ]
        },
        {
          "name": "stderr",
          "output_type": "stream",
          "text": [
            "100%|██████████████████████████████████████████████████████████████████████████████████████| 744/744 [00:52<00:00, 14.14it/s]\n"
          ]
        },
        {
          "name": "stdout",
          "output_type": "stream",
          "text": [
            "epoch : 296\t Loss : 0.087822\t iou : 0.846042\t val_loss : 0.004878\t val_IOU : 0.676176\n"
          ]
        },
        {
          "name": "stderr",
          "output_type": "stream",
          "text": [
            "100%|██████████████████████████████████████████████████████████████████████████████████████| 744/744 [00:52<00:00, 14.16it/s]\n"
          ]
        },
        {
          "name": "stdout",
          "output_type": "stream",
          "text": [
            "epoch : 297\t Loss : 0.087710\t iou : 0.846241\t val_loss : 0.004425\t val_IOU : 0.676917\n"
          ]
        },
        {
          "name": "stderr",
          "output_type": "stream",
          "text": [
            "100%|██████████████████████████████████████████████████████████████████████████████████████| 744/744 [00:52<00:00, 14.10it/s]\n"
          ]
        },
        {
          "name": "stdout",
          "output_type": "stream",
          "text": [
            "epoch : 298\t Loss : 0.087722\t iou : 0.846870\t val_loss : 0.013690\t val_IOU : 0.674828\n"
          ]
        },
        {
          "name": "stderr",
          "output_type": "stream",
          "text": [
            "100%|██████████████████████████████████████████████████████████████████████████████████████| 744/744 [00:52<00:00, 14.18it/s]\n"
          ]
        },
        {
          "name": "stdout",
          "output_type": "stream",
          "text": [
            "epoch : 299\t Loss : 0.087742\t iou : 0.846694\t val_loss : 0.005222\t val_IOU : 0.674967\n"
          ]
        },
        {
          "name": "stderr",
          "output_type": "stream",
          "text": [
            "100%|██████████████████████████████████████████████████████████████████████████████████████| 744/744 [00:52<00:00, 14.20it/s]\n"
          ]
        },
        {
          "name": "stdout",
          "output_type": "stream",
          "text": [
            "epoch : 300\t Loss : 0.087725\t iou : 0.845981\t val_loss : 0.003061\t val_IOU : 0.675498\n"
          ]
        }
      ],
      "source": [
        "# label값을 tensor로 바꾼후 model을 예측을 max로 바꾼후 loss 계산\n",
        "from tqdm import tqdm\n",
        "\n",
        "train_loss = []\n",
        "\n",
        "val_loss = []\n",
        "\n",
        "train_acc = []\n",
        "\n",
        "val_acc = []\n",
        "\n",
        "\n",
        "for epoch in range(300):\n",
        "    model.train()\n",
        "\n",
        "    cost = 0\n",
        "    \n",
        "    epoch_loss = 0\n",
        "    \n",
        "    acc = 0\n",
        "    \n",
        "    epoch_acc = 0\n",
        "\n",
        "    for batch, train in tqdm(enumerate(train_load), total=len(train_load)):\n",
        "        data, label = train\n",
        "        \n",
        "        data = data.to(device)\n",
        "        \n",
        "        label = label.to(device)\n",
        "        \n",
        "        opt.zero_grad()\n",
        "        \n",
        "        out = model(data)\n",
        "        \n",
        "        loss = criterion(out, label)\n",
        "        \n",
        "        pred = out\n",
        "        \n",
        "        pred = pred.argmax(dim=1)\n",
        "        \n",
        "        cost += loss.item()\n",
        "        \n",
        "        acc += metrics(pred, label).item()\n",
        "\n",
        "        \n",
        "        loss.backward()\n",
        "        opt.step()\n",
        "        \n",
        "\n",
        "        \n",
        "    epoch_loss = cost / len(train_load)\n",
        "    \n",
        "    epoch_acc = acc / len(train_load)\n",
        "    \n",
        "    train_loss.append(epoch_loss)\n",
        "    train_acc.append(epoch_acc)\n",
        "    \n",
        "    loss_val, accuracy_val = evaluate(model, val_load)\n",
        "    val_loss.append(loss_val)\n",
        "    val_acc.append(accuracy_val)\n",
        "    \n",
        "    print(f'epoch : {epoch+1}\\t Loss : {epoch_loss:.6f}\\t iou : {epoch_acc:.6f}\\t val_loss : {loss_val:.6f}\\t val_IOU : {accuracy_val:.6f}')\n",
        "    \n",
        "\n",
        "    scheduler.step()"
      ]
    },
    {
      "cell_type": "markdown",
      "source": [
        "# 결과 시각화"
      ],
      "metadata": {
        "id": "IfTDKtQoscER"
      },
      "id": "IfTDKtQoscER"
    },
    {
      "cell_type": "code",
      "execution_count": null,
      "id": "5dfcc60a",
      "metadata": {
        "id": "5dfcc60a"
      },
      "outputs": [],
      "source": [
        "def output_visual(out, img, target):\n",
        "    out = out.argmax(dim=1)\n",
        "\n",
        "    f,axes= plt.subplots(1,3,figsize=(128,256))\n",
        "    axes[0].set_title(\"Original Image\")\n",
        "    axes[1].set_title(\"target Image\")\n",
        "    axes[2].set_title(\"output Image\")\n",
        "\n",
        "    axes[0].imshow(np.transpose(img, (1, 2, 0)))\n",
        "    axes[1].imshow(target)\n",
        "    axes[2].imshow(np.reshape(out.to(\"cpu\").data.detach().numpy(), (128, 256)))\n",
        "    plt.show()"
      ]
    },
    {
      "cell_type": "code",
      "execution_count": null,
      "id": "423b714f",
      "metadata": {
        "id": "423b714f",
        "outputId": "e7cd8366-ba56-4a33-f4b2-131981066eeb"
      },
      "outputs": [
        {
          "data": {
            "image/png": "[encoded data removed]",
            "text/plain": [
              "<Figure size 9216x18432 with 3 Axes>"
            ]
          },
          "metadata": {
            "needs_background": "light"
          },
          "output_type": "display_data"
        }
      ],
      "source": [
        "model.eval()\n",
        "img, target = val_load.dataset[64]\n",
        "\n",
        "ip = img.view(1, 3, 128, 256).to(device)\n",
        "out = model(ip)\n",
        "output_visual(out, img, target)"
      ]
    },
    {
      "cell_type": "markdown",
      "source": [
        "# 학습 결과 시각화"
      ],
      "metadata": {
        "id": "C99wZM-3siVk"
      },
      "id": "C99wZM-3siVk"
    },
    {
      "cell_type": "code",
      "execution_count": null,
      "id": "8fd29938",
      "metadata": {
        "id": "8fd29938"
      },
      "outputs": [],
      "source": [
        "%matplotlib inline\n",
        "import matplotlib.pyplot as plt"
      ]
    },
    {
      "cell_type": "code",
      "execution_count": null,
      "id": "45bb5d7d",
      "metadata": {
        "id": "45bb5d7d"
      },
      "outputs": [],
      "source": [
        "plt.plot(train_acc, 'b', label='train')\n",
        "plt.plot(val_acc, 'r', label='val')\n",
        "plt.legend()\n",
        "plt.show()"
      ]
    },
    {
      "cell_type": "code",
      "execution_count": null,
      "id": "409b4520",
      "metadata": {
        "id": "409b4520"
      },
      "outputs": [],
      "source": [
        "plt.plot(train_loss, 'b', label='train')\n",
        "plt.plot(val_loss, 'r', label='val')\n",
        "plt.legend()\n",
        "plt.show()"
      ]
    },
    {
      "cell_type": "markdown",
      "source": [
        "# Test"
      ],
      "metadata": {
        "id": "cHfNZW-mskj9"
      },
      "id": "cHfNZW-mskj9"
    },
    {
      "cell_type": "code",
      "execution_count": null,
      "id": "a3b8ee8e",
      "metadata": {
        "id": "a3b8ee8e"
      },
      "outputs": [],
      "source": [
        "def test(model, test_load):\n",
        "    model.eval()\n",
        "    \n",
        "    val_loss = 0\n",
        "    \n",
        "    iou = 0\n",
        "    \n",
        "    with torch.no_grad():\n",
        "        for data, label in val_load:\n",
        "            data = data.to(device)\n",
        "            label = label.to(device)\n",
        "            \n",
        "            output = model(data)\n",
        "            \n",
        "            loss = criterion(output, label)\n",
        "            val_loss = loss.item()\n",
        "            \n",
        "            pred = output\n",
        "            \n",
        "            pred = pred.argmax(dim=1)\n",
        "            \n",
        "            iou += metrics(pred, label).item()\n",
        "            \n",
        "        val_loss /= len(val_load)\n",
        "        iou /= len(val_load)\n",
        "    \n",
        "    return val_loss, iou"
      ]
    },
    {
      "cell_type": "code",
      "execution_count": null,
      "id": "4fa9d81b",
      "metadata": {
        "id": "4fa9d81b",
        "outputId": "764fe0de-47ca-4351-bc25-26fe7b73a3b3"
      },
      "outputs": [
        {
          "name": "stdout",
          "output_type": "stream",
          "text": [
            "Loss : 0.004116959571838379,\tIOU : 0.6727673749923706\n"
          ]
        }
      ],
      "source": [
        "t_loss, t_iou = test(model, test_load)\n",
        "print(f'Loss : {t_loss},\\tIOU : {t_iou}')"
      ]
    },
    {
      "cell_type": "code",
      "execution_count": null,
      "id": "14a1e0bf",
      "metadata": {
        "id": "14a1e0bf"
      },
      "outputs": [],
      "source": [
        ""
      ]
    }
  ],
  "metadata": {
    "kernelspec": {
      "display_name": "Python 3 (ipykernel)",
      "language": "python",
      "name": "python3"
    },
    "language_info": {
      "codemirror_mode": {
        "name": "ipython",
        "version": 3
      },
      "file_extension": ".py",
      "mimetype": "text/x-python",
      "name": "python",
      "nbconvert_exporter": "python",
      "pygments_lexer": "ipython3",
      "version": "3.8.3"
    },
    "colab": {
      "name": "Segmentation1.ipynb",
      "provenance": [],
      "collapsed_sections": []
    }
  },
  "nbformat": 4,
  "nbformat_minor": 5
}