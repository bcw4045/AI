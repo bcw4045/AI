{
  "cells": [
    {
      "cell_type": "markdown",
      "source": [
        "# 라이브러리 임포트"
      ],
      "metadata": {
        "id": "s9FCatCK1LqN"
      },
      "id": "s9FCatCK1LqN"
    },
    {
      "cell_type": "code",
      "execution_count": null,
      "id": "e38b9ee0",
      "metadata": {
        "id": "e38b9ee0"
      },
      "outputs": [],
      "source": [
        "import os, tqdm, math, random\n",
        "\n",
        "import numpy as np\n",
        "import pandas as pd\n",
        "\n",
        "from glob import glob\n",
        "from PIL import Image\n",
        "from matplotlib import pyplot as plt\n",
        "\n",
        "import torch\n",
        "import torch.nn as nn\n",
        "import torchvision\n",
        "import torchvision.transforms as transforms\n",
        "from torch.utils.data import DataLoader, Dataset\n",
        "\n",
        "from tqdm.notebook import tqdm\n"
      ]
    },
    {
      "cell_type": "markdown",
      "source": [
        "# CUDA 설정"
      ],
      "metadata": {
        "id": "Zdi4KcZf1Skf"
      },
      "id": "Zdi4KcZf1Skf"
    },
    {
      "cell_type": "code",
      "execution_count": null,
      "id": "f80cf71c",
      "metadata": {
        "id": "f80cf71c",
        "outputId": "545e75ea-5c8b-451d-93b8-acf40a7bd955"
      },
      "outputs": [
        {
          "data": {
            "text/plain": [
              "<torch._C.Generator at 0x7f92e11b7c70>"
            ]
          },
          "execution_count": 49,
          "metadata": {},
          "output_type": "execute_result"
        }
      ],
      "source": [
        "torch.manual_seed(777)"
      ]
    },
    {
      "cell_type": "code",
      "execution_count": null,
      "id": "2f9ca0b7",
      "metadata": {
        "id": "2f9ca0b7"
      },
      "outputs": [],
      "source": [
        "torch.cuda.manual_seed_all(777)"
      ]
    },
    {
      "cell_type": "code",
      "execution_count": null,
      "id": "5affc56a",
      "metadata": {
        "id": "5affc56a",
        "outputId": "2baf9703-926a-43fd-a459-f6b1a1b8d001"
      },
      "outputs": [
        {
          "name": "stdout",
          "output_type": "stream",
          "text": [
            "cuda:0\n"
          ]
        }
      ],
      "source": [
        "device = \"cuda:0\" if torch.cuda.is_available() else \"cpu\"\n",
        "device = torch.device(device)\n",
        "print(device)"
      ]
    },
    {
      "cell_type": "markdown",
      "id": "68a0e980",
      "metadata": {
        "id": "68a0e980"
      },
      "source": [
        "# 데이터 전처리"
      ]
    },
    {
      "cell_type": "code",
      "execution_count": null,
      "id": "a27a1785",
      "metadata": {
        "scrolled": false,
        "id": "a27a1785",
        "outputId": "eb4c92ab-3522-4153-c839-f7751b185755"
      },
      "outputs": [
        {
          "name": "stdout",
          "output_type": "stream",
          "text": [
            "torch.Size([28, 28])\n"
          ]
        },
        {
          "data": {
            "text/plain": [
              "<matplotlib.image.AxesImage at 0x7f92be0a3880>"
            ]
          },
          "execution_count": 233,
          "metadata": {},
          "output_type": "execute_result"
        },
        {
          "data": {
            "image/png": "[encoded data removed]",
            "text/plain": [
              "<Figure size 432x288 with 1 Axes>"
            ]
          },
          "metadata": {
            "needs_background": "light"
          },
          "output_type": "display_data"
        }
      ],
      "source": [
        "import matplotlib.cm as cm\n",
        "idx = 710\n",
        "print(test_dataset[idx][0].shape)\n",
        "print(test_dataset[idx][1])\n",
        "plt.imshow(test_dataset[idx][0], cmap=cm.gray)"
      ]
    },
    {
      "cell_type": "markdown",
      "id": "4c8a3b9e",
      "metadata": {
        "id": "4c8a3b9e"
      },
      "source": [
        "# DAE dataset"
      ]
    },
    {
      "cell_type": "code",
      "execution_count": null,
      "id": "73b1bb66",
      "metadata": {
        "id": "73b1bb66"
      },
      "outputs": [],
      "source": [
        "def add_noise(img):\n",
        "    noise = torch.randn(img.size())*0.2\n",
        "    noisy_img = img+noise\n",
        "    return noisy_img"
      ]
    },
    {
      "cell_type": "code",
      "execution_count": null,
      "id": "c13119d1",
      "metadata": {
        "id": "c13119d1"
      },
      "outputs": [],
      "source": [
        "dae_train = torchvision.datasets.EMNIST(\n",
        "    root='./emnist', split='letters', train=True, download=True, \n",
        ")"
      ]
    },
    {
      "cell_type": "code",
      "execution_count": null,
      "id": "10fb93f1",
      "metadata": {
        "id": "10fb93f1"
      },
      "outputs": [],
      "source": [
        "#dae dataset\n",
        "class dae_dataset(Dataset):\n",
        "    def __init__(self, dataset, transform=False):\n",
        "        self.data = dataset\n",
        "        self.transform = transforms.Compose([\n",
        "            transforms.ToTensor(),\n",
        "            #transforms.Normalize((0.1307,), (0.3081,))\n",
        "        ])\n",
        "        \n",
        "        \n",
        "    def __len__(self):\n",
        "        return len(self.data)\n",
        "    \n",
        "    def __getitem__(self, idx):\n",
        "        data = self.data[idx][0]\n",
        "        data = self.transform(data)\n",
        "        target = add_noise(data)\n",
        "        \n",
        "        return data, target"
      ]
    },
    {
      "cell_type": "code",
      "execution_count": null,
      "id": "0ef2d325",
      "metadata": {
        "id": "0ef2d325"
      },
      "outputs": [],
      "source": [
        "dae_dataset = dae_dataset(dae_train)"
      ]
    },
    {
      "cell_type": "code",
      "execution_count": null,
      "id": "a59a3d86",
      "metadata": {
        "id": "a59a3d86"
      },
      "outputs": [],
      "source": [
        "dae_loader = DataLoader(dae_dataset, batch_size=32, shuffle=True, num_workers=8)"
      ]
    },
    {
      "cell_type": "markdown",
      "id": "f67b968d",
      "metadata": {
        "id": "f67b968d"
      },
      "source": [
        "# classify dataset"
      ]
    },
    {
      "cell_type": "code",
      "execution_count": null,
      "id": "eb07ac3f",
      "metadata": {
        "id": "eb07ac3f"
      },
      "outputs": [],
      "source": [
        "train_data = np.load('./amcl-test/emnist_train.npz')\n",
        "test_data = np.load('./amcl-test/emnist_test.npz')"
      ]
    },
    {
      "cell_type": "code",
      "execution_count": null,
      "id": "743db9cf",
      "metadata": {
        "id": "743db9cf"
      },
      "outputs": [],
      "source": [
        "# classify dataset\n",
        "class Customdataset(Dataset):\n",
        "    def __init__(self, dataset, transform=False):\n",
        "        self.data = dataset['data']\n",
        "        self.target = dataset['target'].astype('int64')\n",
        "\n",
        "        \n",
        "        self.transform = transforms.Compose([\n",
        "            transforms.Normalize((0.1307,), (0.3081,))\n",
        "        ])\n",
        "        \n",
        "        \n",
        "    def __len__(self):\n",
        "        return len(self.data)\n",
        "    \n",
        "    def __getitem__(self, idx):\n",
        "        data = torch.Tensor(self.data[idx])\n",
        "        data = self.transform(data)\n",
        "        target = self.target[idx]\n",
        "        \n",
        "        return data, target"
      ]
    },
    {
      "cell_type": "code",
      "execution_count": null,
      "id": "c84ab33b",
      "metadata": {
        "id": "c84ab33b"
      },
      "outputs": [],
      "source": [
        "class Testdataset(Dataset):\n",
        "    def __init__(self, dataset, transform=False):\n",
        "        self.data = dataset['data']\n",
        "        self.transform = transforms.Compose([\n",
        "            transforms.Normalize((0.1307,), (0.3081,))\n",
        "        ])\n",
        "        \n",
        "    def __len__(self):\n",
        "        return len(self.data)\n",
        "    \n",
        "    def __getitem__(self, idx):\n",
        "        data = torch.Tensor(self.data[idx])\n",
        "        data = self.transform(data)\n",
        "        \n",
        "        return data"
      ]
    },
    {
      "cell_type": "code",
      "execution_count": null,
      "id": "712af282",
      "metadata": {
        "id": "712af282"
      },
      "outputs": [],
      "source": [
        "#dae_dataset = dae_dataset(val['data'], train['data'])\n",
        "train_dataset = Customdataset(train_data)\n",
        "test_dataset = Testdataset(test_data)"
      ]
    },
    {
      "cell_type": "code",
      "execution_count": null,
      "id": "dcac3296",
      "metadata": {
        "id": "dcac3296"
      },
      "outputs": [],
      "source": [
        "train_loader = DataLoader(train_dataset, batch_size=32, shuffle=True, num_workers=8)\n",
        "test_loader = DataLoader(test_dataset, batch_size=32, shuffle=False, num_workers=8)"
      ]
    },
    {
      "cell_type": "markdown",
      "id": "3c625050",
      "metadata": {
        "id": "3c625050"
      },
      "source": [
        "# 모델"
      ]
    },
    {
      "cell_type": "markdown",
      "id": "5ed131b9",
      "metadata": {
        "id": "5ed131b9"
      },
      "source": [
        "## DAE"
      ]
    },
    {
      "cell_type": "code",
      "execution_count": null,
      "id": "bea0d65e",
      "metadata": {
        "id": "bea0d65e"
      },
      "outputs": [],
      "source": [
        "class DAE(nn.Module):\n",
        "    def __init__(self):\n",
        "        super(DAE, self).__init__()\n",
        "        self.Encoder = nn.Sequential(\n",
        "            nn.Conv2d(1, 8, 5, 2, 1),\n",
        "            nn.BatchNorm2d(8),\n",
        "            nn.ReLU(),\n",
        "            nn.Conv2d(8, 16, 7, 1, 1),\n",
        "            nn.BatchNorm2d(16),\n",
        "        )\n",
        "        self.Decoder = nn.Sequential(\n",
        "            nn.ConvTranspose2d(16, 8, 7, 1, 1),\n",
        "            nn.BatchNorm2d(8),\n",
        "            nn.ReLU(),\n",
        "            nn.ConvTranspose2d(8, 1, 5, 2, 1, 1),\n",
        "            nn.BatchNorm2d(1),\n",
        "            nn.Sigmoid()\n",
        "        )\n",
        "        \n",
        "    def forward(self, x):\n",
        "        x=self.Encoder(x)\n",
        "        x=self.Decoder(x)\n",
        "        \n",
        "        return x"
      ]
    },
    {
      "cell_type": "markdown",
      "id": "dad64567",
      "metadata": {
        "id": "dad64567"
      },
      "source": [
        "## resnet 18"
      ]
    },
    {
      "cell_type": "code",
      "execution_count": null,
      "id": "559f1c60",
      "metadata": {
        "id": "559f1c60"
      },
      "outputs": [],
      "source": [
        "class BasicBlock(nn.Module):\n",
        "    def __init__(self, in_channel, out_channel, stride):\n",
        "        super(BasicBlock, self).__init__()\n",
        "\n",
        "        norm_layer = nn.BatchNorm2d\n",
        "\n",
        "        self.conv1 = nn.Conv2d(in_channel, out_channel, 3, stride=stride, padding=1)\n",
        "        self.bn1 = norm_layer(out_channel)\n",
        "        self.relu = nn.ReLU(inplace=True)\n",
        "        self.conv2 =  nn.Conv2d(out_channel, out_channel, 3, stride=1, padding=1)\n",
        "        self.bn2 = norm_layer(out_channel)\n",
        "        self.downsample = nn.Sequential(\n",
        "            nn.Conv2d(in_channel, out_channel, 1, stride=2),\n",
        "            nn.BatchNorm2d(out_channel)\n",
        "        )\n",
        "        self.stride = stride\n",
        "\n",
        "    def forward(self, x):\n",
        "        identity = x\n",
        "\n",
        "        out = self.conv1(x)\n",
        "        out = self.bn1(out)\n",
        "        out = self.relu(out)\n",
        "\n",
        "        out = self.conv2(out)\n",
        "        out = self.bn2(out)\n",
        "        \n",
        "        if self.stride==2:\n",
        "            identity = self.downsample(x)\n",
        "\n",
        "        out += identity\n",
        "        out = self.relu(out)\n",
        "\n",
        "        return out"
      ]
    },
    {
      "cell_type": "code",
      "execution_count": null,
      "id": "2968e633",
      "metadata": {
        "id": "2968e633"
      },
      "outputs": [],
      "source": [
        "class Resnet18(nn.Module):\n",
        "    def __init__(self, num_classe=10):\n",
        "        super(Resnet18, self).__init__()\n",
        "        self.layer1 = nn.Sequential(\n",
        "            nn.Conv2d(1, 64, 7, 2, 3), # 14*14\n",
        "            nn.BatchNorm2d(64),\n",
        "            nn.ReLU(),\n",
        "            nn.MaxPool2d(2, 2, 1) # 7*7\n",
        "        )\n",
        "        \n",
        "        self.layer2 = nn.Sequential(\n",
        "            BasicBlock(64, 64, 1),\n",
        "            BasicBlock(64, 64, 1)\n",
        "        )   \n",
        "        self.layer3 = nn.Sequential(\n",
        "            BasicBlock(64, 128, 2), # 4*4\n",
        "            BasicBlock(128, 128, 1)\n",
        "        )   \n",
        "        self.layer4 = nn.Sequential(\n",
        "            BasicBlock(128, 256, 2),\n",
        "            BasicBlock(256, 256, 1)\n",
        "        )   \n",
        "        self.layer5 = nn.Sequential(\n",
        "            BasicBlock(256, 512, 2),\n",
        "            BasicBlock(512, 512, 1)\n",
        "        )\n",
        "        \n",
        "        self.fc = nn.Sequential(\n",
        "            nn.Linear(512, 256),\n",
        "            nn.BatchNorm1d(256),\n",
        "            nn.ReLU(),\n",
        "            nn.Linear(256, 128)\n",
        "        )\n",
        "        self.avgpool = nn.AvgPool2d((1, 1))\n",
        "    \n",
        "    def forward(self, x):\n",
        "        out = self.layer1(x)\n",
        "        out = self.layer2(out)\n",
        "        out = self.layer3(out)\n",
        "        out = self.layer4(out)\n",
        "        out = self.layer5(out)\n",
        "        out = self.avgpool(out)\n",
        "        out = out.view(out.size(0), -1)\n",
        "        out = self.fc(out)\n",
        "        return out"
      ]
    },
    {
      "cell_type": "markdown",
      "id": "abf3fb6e",
      "metadata": {
        "id": "abf3fb6e"
      },
      "source": [
        "## simple cnn"
      ]
    },
    {
      "cell_type": "code",
      "execution_count": null,
      "id": "e51df0a5",
      "metadata": {
        "id": "e51df0a5"
      },
      "outputs": [],
      "source": [
        "import torch\n",
        "import torch.nn as nn\n",
        "import torch.nn.functional as F\n",
        "\n",
        "class ModelM3(nn.Module):\n",
        "    def __init__(self):\n",
        "        super(ModelM3, self).__init__()\n",
        "        self.conv1 = nn.Conv2d(1, 32, 3, bias=False)       # output becomes 26x26\n",
        "        self.conv1_bn = nn.BatchNorm2d(32)\n",
        "        self.conv2 = nn.Conv2d(32, 48, 3, bias=False)      # output becomes 24x24\n",
        "        self.conv2_bn = nn.BatchNorm2d(48)\n",
        "        self.conv3 = nn.Conv2d(48, 64, 3, bias=False)      # output becomes 22x22\n",
        "        self.conv3_bn = nn.BatchNorm2d(64)\n",
        "        self.conv4 = nn.Conv2d(64, 80, 3, bias=False)      # output becomes 20x20\n",
        "        self.conv4_bn = nn.BatchNorm2d(80)\n",
        "        self.conv5 = nn.Conv2d(80, 96, 3, bias=False)      # output becomes 18x18\n",
        "        self.conv5_bn = nn.BatchNorm2d(96)\n",
        "        self.conv6 = nn.Conv2d(96, 112, 3, bias=False)     # output becomes 16x16\n",
        "        self.conv6_bn = nn.BatchNorm2d(112)\n",
        "        self.conv7 = nn.Conv2d(112, 128, 3, bias=False)    # output becomes 14x14\n",
        "        self.conv7_bn = nn.BatchNorm2d(128)\n",
        "        self.conv8 = nn.Conv2d(128, 144, 3, bias=False)    # output becomes 12x12\n",
        "        self.conv8_bn = nn.BatchNorm2d(144)\n",
        "        self.conv9 = nn.Conv2d(144, 160, 3, bias=False)    # output becomes 10x10\n",
        "        self.conv9_bn = nn.BatchNorm2d(160)\n",
        "        self.conv10 = nn.Conv2d(160, 176, 3, bias=False)   # output becomes 8x8\n",
        "        self.conv10_bn = nn.BatchNorm2d(176)\n",
        "        self.fc1 = nn.Linear(11264, 128, bias=False)\n",
        "        self.fc1_bn = nn.BatchNorm1d(128)\n",
        "        \n",
        "    def forward(self, x):\n",
        "        conv1 = F.relu(self.conv1_bn(self.conv1(x)))\n",
        "        conv2 = F.relu(self.conv2_bn(self.conv2(conv1)))\n",
        "        conv3 = F.relu(self.conv3_bn(self.conv3(conv2)))\n",
        "        conv4 = F.relu(self.conv4_bn(self.conv4(conv3)))\n",
        "        conv5 = F.relu(self.conv5_bn(self.conv5(conv4)))\n",
        "        conv6 = F.relu(self.conv6_bn(self.conv6(conv5)))\n",
        "        conv7 = F.relu(self.conv7_bn(self.conv7(conv6)))\n",
        "        conv8 = F.relu(self.conv8_bn(self.conv8(conv7)))\n",
        "        conv9 = F.relu(self.conv9_bn(self.conv9(conv8)))\n",
        "        conv10 = F.relu(self.conv10_bn(self.conv10(conv9)))\n",
        "        flat1 = torch.flatten(conv10.permute(0, 2, 3, 1), 1)\n",
        "        out = self.fc1_bn(self.fc1(flat1))\n",
        "        return out"
      ]
    },
    {
      "cell_type": "code",
      "execution_count": null,
      "id": "4d8091c6",
      "metadata": {
        "id": "4d8091c6"
      },
      "outputs": [],
      "source": [
        "class ModelM5(nn.Module):\n",
        "    def __init__(self):\n",
        "        super(ModelM5, self).__init__()\n",
        "        self.conv1 = nn.Conv2d(1, 32, 5, bias=False)\n",
        "        self.conv1_bn = nn.BatchNorm2d(32)\n",
        "        self.conv2 = nn.Conv2d(32, 64, 5, bias=False)\n",
        "        self.conv2_bn = nn.BatchNorm2d(64)\n",
        "        self.conv3 = nn.Conv2d(64, 96, 5, bias=False)\n",
        "        self.conv3_bn = nn.BatchNorm2d(96)\n",
        "        self.conv4 = nn.Conv2d(96, 128, 5, bias=False)\n",
        "        self.conv4_bn = nn.BatchNorm2d(128)\n",
        "        self.conv5 = nn.Conv2d(128, 160, 5, bias=False)\n",
        "        self.conv5_bn = nn.BatchNorm2d(160)\n",
        "        self.fc1 = nn.Linear(10240, 128, bias=False)\n",
        "        self.fc1_bn = nn.BatchNorm1d(128)\n",
        "        \n",
        "        \n",
        "    def forward(self, x):\n",
        "        conv1 = F.relu(self.conv1_bn(self.conv1(x)))\n",
        "        conv2 = F.relu(self.conv2_bn(self.conv2(conv1)))\n",
        "        conv3 = F.relu(self.conv3_bn(self.conv3(conv2)))\n",
        "        conv4 = F.relu(self.conv4_bn(self.conv4(conv3)))\n",
        "        conv5 = F.relu(self.conv5_bn(self.conv5(conv4)))\n",
        "        flat5 = torch.flatten(conv5.permute(0, 2, 3, 1), 1)\n",
        "        out = self.fc1_bn(self.fc1(flat5))\n",
        "        \n",
        "        return out"
      ]
    },
    {
      "cell_type": "code",
      "execution_count": null,
      "id": "0ea42f2a",
      "metadata": {
        "id": "0ea42f2a"
      },
      "outputs": [],
      "source": [
        "\n",
        "class ModelM7(nn.Module):\n",
        "    def __init__(self):\n",
        "        super(ModelM7, self).__init__()\n",
        "        self.conv1 = nn.Conv2d(1, 48, 7, bias=False)    # output becomes 22x22\n",
        "        self.conv1_bn = nn.BatchNorm2d(48)\n",
        "        self.conv2 = nn.Conv2d(48, 96, 7, bias=False)   # output becomes 16x16\n",
        "        self.conv2_bn = nn.BatchNorm2d(96)\n",
        "        self.conv3 = nn.Conv2d(96, 144, 7, bias=False)  # output becomes 10x10\n",
        "        self.conv3_bn = nn.BatchNorm2d(144)\n",
        "        self.conv4 = nn.Conv2d(144, 192, 7, bias=False) # output becomes 4x4\n",
        "        self.conv4_bn = nn.BatchNorm2d(192)\n",
        "        self.fc1 = nn.Linear(3072, 128, bias=False)\n",
        "        self.fc1_bn = nn.BatchNorm1d(128)\n",
        "        \n",
        "    def forward(self, x):    \n",
        "        conv1 = F.relu(self.conv1_bn(self.conv1(x)))\n",
        "        conv2 = F.relu(self.conv2_bn(self.conv2(conv1)))\n",
        "        conv3 = F.relu(self.conv3_bn(self.conv3(conv2)))\n",
        "        conv4 = F.relu(self.conv4_bn(self.conv4(conv3)))\n",
        "        flat1 = torch.flatten(conv4.permute(0, 2, 3, 1), 1)\n",
        "        out = self.fc1_bn(self.fc1(flat1))\n",
        "        return out\n",
        "    "
      ]
    },
    {
      "cell_type": "markdown",
      "id": "54d5086b",
      "metadata": {
        "id": "54d5086b"
      },
      "source": [
        "## 앙상블 모델"
      ]
    },
    {
      "cell_type": "code",
      "execution_count": null,
      "id": "c7aff658",
      "metadata": {
        "id": "c7aff658"
      },
      "outputs": [],
      "source": [
        "class Model(nn.Module):\n",
        "    def __init__(self, dae, resnet, simple):\n",
        "        super(Model, self).__init__()\n",
        "        \n",
        "        #self.dae = dae\n",
        "        self.resnet = resnet\n",
        "        self.simple = simple\n",
        "        \n",
        "        self.fc = nn.Sequential(\n",
        "            nn.Linear(128, 64),\n",
        "            nn.BatchNorm1d(64),\n",
        "            nn.ReLU(),\n",
        "            nn.Linear(64, 32),\n",
        "            nn.BatchNorm1d(32),\n",
        "            nn.ReLU(),\n",
        "            nn.Linear(32, 26),\n",
        "            nn.BatchNorm1d(26),\n",
        "            nn.ReLU(),\n",
        "            \n",
        "        )\n",
        "        \n",
        "    def forward(self, x):\n",
        "        #out = self.dae(x)\n",
        "        out_resnet = self.resnet(x)\n",
        "        out_simple = self.simple(x)\n",
        "        \n",
        "        out = out_resnet + out_simple\n",
        "        \n",
        "        out = self.fc(out)\n",
        "        \n",
        "        return out"
      ]
    },
    {
      "cell_type": "code",
      "execution_count": null,
      "id": "9f385e52",
      "metadata": {
        "id": "9f385e52"
      },
      "outputs": [],
      "source": [
        "class Model2(nn.Module):\n",
        "    def __init__(self, model1, model2, model3):\n",
        "        super(Model2, self).__init__()\n",
        "        \n",
        "        #self.dae = dae\n",
        "        self.model = model1\n",
        "        self.model2 = model2\n",
        "        self.model3 = model3\n",
        "        \n",
        "        self.fc = nn.Sequential(\n",
        "            nn.Linear(128, 64),\n",
        "            nn.BatchNorm1d(64),\n",
        "            nn.ReLU(),\n",
        "            nn.Linear(64, 32),\n",
        "            nn.BatchNorm1d(32),\n",
        "            nn.ReLU(),\n",
        "            nn.Linear(32, 26),\n",
        "            nn.BatchNorm1d(26),\n",
        "            nn.ReLU(),\n",
        "            \n",
        "        )\n",
        "        \n",
        "    \n",
        "        \n",
        "    def forward(self, x):\n",
        "        out1 = self.model(x)\n",
        "        out2 = self.model2(x)\n",
        "        out3 = self.model3(x)\n",
        "        \n",
        "        out = out1 + out2 + out3\n",
        "        \n",
        "        out = self.fc(out)\n",
        "        \n",
        "        return out"
      ]
    },
    {
      "cell_type": "code",
      "execution_count": null,
      "id": "c19588a7",
      "metadata": {
        "collapsed": true,
        "id": "c19588a7"
      },
      "outputs": [],
      "source": [
        "class Model3(nn.Module):\n",
        "    def __init__(self, train=False):\n",
        "        super(Model3, self).__init__()\n",
        "        \n",
        "        #self.dae = dae\n",
        "        self.model = torchvision.models.resnet18(pretrained=train)\n",
        "        self.model2 = torchvision.models.mobilenet_v2(pretrained=train)\n",
        "        self.model3 = torchvision.models.squeezenet1_1(pretrained=train)\n",
        "        \n",
        "        self.model2.classifier = nn.Sequential(\n",
        "            nn.Dropout(0.2),\n",
        "            nn.Linear(in_features=1280, out_features=26, bias=True)\n",
        "        )\n",
        "        self.model2.features[0][0] = nn.Conv2d(1, 32, kernel_size=(3, 3), stride=(2, 2), padding=(1, 1), bias=False)\n",
        "        \n",
        "        self.model.fc = nn.Linear(in_features=512, out_features=26, bias=True)\n",
        "        self.model.conv1 = nn.Conv2d(1, 64, kernel_size=(7, 7), stride=(2, 2), padding=(3, 3), bias=False)\n",
        "        \n",
        "        self.model3.classifier[1] = nn.Conv2d(512, 26, kernel_size=(1, 1), stride=(1, 1))\n",
        "        self.model3.features[0] = nn.Conv2d(1, 64, kernel_size=(3, 3), stride=(2, 2))\n",
        "        \n",
        "    def forward(self, x):\n",
        "        out1 = self.model(x)\n",
        "        out2 = self.model2(x)\n",
        "        out3 = self.model3(x)\n",
        "        \n",
        "        out = out1 + out2 + out3\n",
        "        \n",
        "        return out"
      ]
    },
    {
      "cell_type": "markdown",
      "source": [
        "# 학습"
      ],
      "metadata": {
        "id": "BS-GNdG72PTZ"
      },
      "id": "BS-GNdG72PTZ"
    },
    {
      "cell_type": "markdown",
      "id": "f38dbd10",
      "metadata": {
        "id": "f38dbd10"
      },
      "source": [
        "## train_dae"
      ]
    },
    {
      "cell_type": "code",
      "execution_count": null,
      "id": "f704c2f2",
      "metadata": {
        "id": "f704c2f2"
      },
      "outputs": [],
      "source": [
        "criterion = nn.MSELoss().to(device)\n",
        "dae = DAE()\n",
        "dae = dae.to(device)\n",
        "\n",
        "opt = torch.optim.Adam([param for param in dae.parameters() if param.requires_grad], lr=0.001)\n",
        "scheduler = torch.optim.lr_scheduler.StepLR(opt,step_size = 10, gamma = 0.8) "
      ]
    },
    {
      "cell_type": "code",
      "execution_count": null,
      "id": "12ad2df1",
      "metadata": {
        "id": "12ad2df1",
        "outputId": "dcdb935b-75c0-4408-cc50-c9ebdc247eb7"
      },
      "outputs": [
        {
          "name": "stderr",
          "output_type": "stream",
          "text": [
            "100%|████████████████████████████████████████████████████████████████████████████████████| 3900/3900 [00:45<00:00, 85.36it/s]"
          ]
        },
        {
          "name": "stdout",
          "output_type": "stream",
          "text": [
            "epoch : 1\t Loss : 0.0019292094\n"
          ]
        },
        {
          "name": "stderr",
          "output_type": "stream",
          "text": [
            "\n",
            "100%|████████████████████████████████████████████████████████████████████████████████████| 3900/3900 [00:43<00:00, 88.82it/s]"
          ]
        },
        {
          "name": "stdout",
          "output_type": "stream",
          "text": [
            "epoch : 2\t Loss : 0.0013109477\n"
          ]
        },
        {
          "name": "stderr",
          "output_type": "stream",
          "text": [
            "\n",
            "100%|████████████████████████████████████████████████████████████████████████████████████| 3900/3900 [00:45<00:00, 85.06it/s]"
          ]
        },
        {
          "name": "stdout",
          "output_type": "stream",
          "text": [
            "epoch : 3\t Loss : 0.0012819253\n"
          ]
        },
        {
          "name": "stderr",
          "output_type": "stream",
          "text": [
            "\n",
            "100%|████████████████████████████████████████████████████████████████████████████████████| 3900/3900 [00:43<00:00, 89.17it/s]"
          ]
        },
        {
          "name": "stdout",
          "output_type": "stream",
          "text": [
            "epoch : 4\t Loss : 0.0012769362\n"
          ]
        },
        {
          "name": "stderr",
          "output_type": "stream",
          "text": [
            "\n",
            "100%|████████████████████████████████████████████████████████████████████████████████████| 3900/3900 [00:43<00:00, 90.49it/s]"
          ]
        },
        {
          "name": "stdout",
          "output_type": "stream",
          "text": [
            "epoch : 5\t Loss : 0.0012747456\n"
          ]
        },
        {
          "name": "stderr",
          "output_type": "stream",
          "text": [
            "\n",
            "100%|████████████████████████████████████████████████████████████████████████████████████| 3900/3900 [00:46<00:00, 84.36it/s]"
          ]
        },
        {
          "name": "stdout",
          "output_type": "stream",
          "text": [
            "epoch : 6\t Loss : 0.0012733084\n"
          ]
        },
        {
          "name": "stderr",
          "output_type": "stream",
          "text": [
            "\n",
            "100%|████████████████████████████████████████████████████████████████████████████████████| 3900/3900 [00:44<00:00, 87.27it/s]"
          ]
        },
        {
          "name": "stdout",
          "output_type": "stream",
          "text": [
            "epoch : 7\t Loss : 0.0012721149\n"
          ]
        },
        {
          "name": "stderr",
          "output_type": "stream",
          "text": [
            "\n",
            "100%|████████████████████████████████████████████████████████████████████████████████████| 3900/3900 [00:46<00:00, 84.60it/s]"
          ]
        },
        {
          "name": "stdout",
          "output_type": "stream",
          "text": [
            "epoch : 8\t Loss : 0.0012706575\n"
          ]
        },
        {
          "name": "stderr",
          "output_type": "stream",
          "text": [
            "\n",
            "100%|████████████████████████████████████████████████████████████████████████████████████| 3900/3900 [00:45<00:00, 85.42it/s]"
          ]
        },
        {
          "name": "stdout",
          "output_type": "stream",
          "text": [
            "epoch : 9\t Loss : 0.0012693718\n"
          ]
        },
        {
          "name": "stderr",
          "output_type": "stream",
          "text": [
            "\n",
            "100%|████████████████████████████████████████████████████████████████████████████████████| 3900/3900 [00:46<00:00, 84.26it/s]"
          ]
        },
        {
          "name": "stdout",
          "output_type": "stream",
          "text": [
            "epoch : 10\t Loss : 0.0012688984\n"
          ]
        },
        {
          "name": "stderr",
          "output_type": "stream",
          "text": [
            "\n",
            "100%|████████████████████████████████████████████████████████████████████████████████████| 3900/3900 [00:44<00:00, 87.77it/s]"
          ]
        },
        {
          "name": "stdout",
          "output_type": "stream",
          "text": [
            "epoch : 11\t Loss : 0.0012679184\n"
          ]
        },
        {
          "name": "stderr",
          "output_type": "stream",
          "text": [
            "\n",
            "100%|████████████████████████████████████████████████████████████████████████████████████| 3900/3900 [00:44<00:00, 86.97it/s]"
          ]
        },
        {
          "name": "stdout",
          "output_type": "stream",
          "text": [
            "epoch : 12\t Loss : 0.0012676198\n"
          ]
        },
        {
          "name": "stderr",
          "output_type": "stream",
          "text": [
            "\n",
            "100%|████████████████████████████████████████████████████████████████████████████████████| 3900/3900 [00:44<00:00, 88.15it/s]"
          ]
        },
        {
          "name": "stdout",
          "output_type": "stream",
          "text": [
            "epoch : 13\t Loss : 0.0012670093\n"
          ]
        },
        {
          "name": "stderr",
          "output_type": "stream",
          "text": [
            "\n",
            "100%|████████████████████████████████████████████████████████████████████████████████████| 3900/3900 [00:43<00:00, 89.34it/s]"
          ]
        },
        {
          "name": "stdout",
          "output_type": "stream",
          "text": [
            "epoch : 14\t Loss : 0.0012669313\n"
          ]
        },
        {
          "name": "stderr",
          "output_type": "stream",
          "text": [
            "\n",
            "100%|████████████████████████████████████████████████████████████████████████████████████| 3900/3900 [00:45<00:00, 86.01it/s]"
          ]
        },
        {
          "name": "stdout",
          "output_type": "stream",
          "text": [
            "epoch : 15\t Loss : 0.0012663242\n"
          ]
        },
        {
          "name": "stderr",
          "output_type": "stream",
          "text": [
            "\n",
            "100%|████████████████████████████████████████████████████████████████████████████████████| 3900/3900 [00:45<00:00, 86.31it/s]"
          ]
        },
        {
          "name": "stdout",
          "output_type": "stream",
          "text": [
            "epoch : 16\t Loss : 0.0012655953\n"
          ]
        },
        {
          "name": "stderr",
          "output_type": "stream",
          "text": [
            "\n",
            "100%|████████████████████████████████████████████████████████████████████████████████████| 3900/3900 [00:45<00:00, 84.96it/s]"
          ]
        },
        {
          "name": "stdout",
          "output_type": "stream",
          "text": [
            "epoch : 17\t Loss : 0.0012651594\n"
          ]
        },
        {
          "name": "stderr",
          "output_type": "stream",
          "text": [
            "\n",
            "100%|████████████████████████████████████████████████████████████████████████████████████| 3900/3900 [00:45<00:00, 85.80it/s]"
          ]
        },
        {
          "name": "stdout",
          "output_type": "stream",
          "text": [
            "epoch : 18\t Loss : 0.0012650422\n"
          ]
        },
        {
          "name": "stderr",
          "output_type": "stream",
          "text": [
            "\n",
            "100%|████████████████████████████████████████████████████████████████████████████████████| 3900/3900 [00:44<00:00, 87.03it/s]"
          ]
        },
        {
          "name": "stdout",
          "output_type": "stream",
          "text": [
            "epoch : 19\t Loss : 0.0012643090\n"
          ]
        },
        {
          "name": "stderr",
          "output_type": "stream",
          "text": [
            "\n",
            "100%|████████████████████████████████████████████████████████████████████████████████████| 3900/3900 [00:44<00:00, 87.14it/s]"
          ]
        },
        {
          "name": "stdout",
          "output_type": "stream",
          "text": [
            "epoch : 20\t Loss : 0.0012640382\n"
          ]
        },
        {
          "name": "stderr",
          "output_type": "stream",
          "text": [
            "\n",
            "100%|████████████████████████████████████████████████████████████████████████████████████| 3900/3900 [00:43<00:00, 89.36it/s]"
          ]
        },
        {
          "name": "stdout",
          "output_type": "stream",
          "text": [
            "epoch : 21\t Loss : 0.0012637045\n"
          ]
        },
        {
          "name": "stderr",
          "output_type": "stream",
          "text": [
            "\n",
            "100%|████████████████████████████████████████████████████████████████████████████████████| 3900/3900 [00:44<00:00, 87.24it/s]"
          ]
        },
        {
          "name": "stdout",
          "output_type": "stream",
          "text": [
            "epoch : 22\t Loss : 0.0012632176\n"
          ]
        },
        {
          "name": "stderr",
          "output_type": "stream",
          "text": [
            "\n",
            "100%|████████████████████████████████████████████████████████████████████████████████████| 3900/3900 [00:44<00:00, 87.49it/s]"
          ]
        },
        {
          "name": "stdout",
          "output_type": "stream",
          "text": [
            "epoch : 23\t Loss : 0.0012633256\n"
          ]
        },
        {
          "name": "stderr",
          "output_type": "stream",
          "text": [
            "\n",
            "100%|████████████████████████████████████████████████████████████████████████████████████| 3900/3900 [00:44<00:00, 88.33it/s]"
          ]
        },
        {
          "name": "stdout",
          "output_type": "stream",
          "text": [
            "epoch : 24\t Loss : 0.0012634170\n"
          ]
        },
        {
          "name": "stderr",
          "output_type": "stream",
          "text": [
            "\n",
            "100%|████████████████████████████████████████████████████████████████████████████████████| 3900/3900 [00:42<00:00, 92.72it/s]"
          ]
        },
        {
          "name": "stdout",
          "output_type": "stream",
          "text": [
            "epoch : 25\t Loss : 0.0012629398\n"
          ]
        },
        {
          "name": "stderr",
          "output_type": "stream",
          "text": [
            "\n",
            "100%|████████████████████████████████████████████████████████████████████████████████████| 3900/3900 [00:43<00:00, 89.50it/s]"
          ]
        },
        {
          "name": "stdout",
          "output_type": "stream",
          "text": [
            "epoch : 26\t Loss : 0.0012627518\n"
          ]
        },
        {
          "name": "stderr",
          "output_type": "stream",
          "text": [
            "\n",
            " 58%|███████████████████████████████████████████████▊                                   | 2244/3900 [00:22<00:16, 101.01it/s]\n"
          ]
        },
        {
          "ename": "KeyboardInterrupt",
          "evalue": "",
          "output_type": "error",
          "traceback": [
            "\u001b[0;31m---------------------------------------------------------------------------\u001b[0m",
            "\u001b[0;31mKeyboardInterrupt\u001b[0m                         Traceback (most recent call last)",
            "Input \u001b[0;32mIn [203]\u001b[0m, in \u001b[0;36m<module>\u001b[0;34m\u001b[0m\n\u001b[1;32m     20\u001b[0m     loss_ \u001b[38;5;241m+\u001b[39m\u001b[38;5;241m=\u001b[39m loss\u001b[38;5;241m.\u001b[39mitem()\n\u001b[1;32m     22\u001b[0m     opt\u001b[38;5;241m.\u001b[39mzero_grad()\n\u001b[0;32m---> 23\u001b[0m     \u001b[43mloss\u001b[49m\u001b[38;5;241;43m.\u001b[39;49m\u001b[43mbackward\u001b[49m\u001b[43m(\u001b[49m\u001b[43m)\u001b[49m\n\u001b[1;32m     24\u001b[0m     opt\u001b[38;5;241m.\u001b[39mstep()\n\u001b[1;32m     27\u001b[0m epoch_loss \u001b[38;5;241m=\u001b[39m loss_ \u001b[38;5;241m/\u001b[39m \u001b[38;5;28mlen\u001b[39m(dae_loader\u001b[38;5;241m.\u001b[39mdataset)\n",
            "File \u001b[0;32m/opt/conda/lib/python3.8/site-packages/torch/tensor.py:221\u001b[0m, in \u001b[0;36mTensor.backward\u001b[0;34m(self, gradient, retain_graph, create_graph)\u001b[0m\n\u001b[1;32m    213\u001b[0m \u001b[38;5;28;01mif\u001b[39;00m \u001b[38;5;28mtype\u001b[39m(\u001b[38;5;28mself\u001b[39m) \u001b[38;5;129;01mis\u001b[39;00m \u001b[38;5;129;01mnot\u001b[39;00m Tensor \u001b[38;5;129;01mand\u001b[39;00m has_torch_function(relevant_args):\n\u001b[1;32m    214\u001b[0m     \u001b[38;5;28;01mreturn\u001b[39;00m handle_torch_function(\n\u001b[1;32m    215\u001b[0m         Tensor\u001b[38;5;241m.\u001b[39mbackward,\n\u001b[1;32m    216\u001b[0m         relevant_args,\n\u001b[0;32m   (...)\u001b[0m\n\u001b[1;32m    219\u001b[0m         retain_graph\u001b[38;5;241m=\u001b[39mretain_graph,\n\u001b[1;32m    220\u001b[0m         create_graph\u001b[38;5;241m=\u001b[39mcreate_graph)\n\u001b[0;32m--> 221\u001b[0m \u001b[43mtorch\u001b[49m\u001b[38;5;241;43m.\u001b[39;49m\u001b[43mautograd\u001b[49m\u001b[38;5;241;43m.\u001b[39;49m\u001b[43mbackward\u001b[49m\u001b[43m(\u001b[49m\u001b[38;5;28;43mself\u001b[39;49m\u001b[43m,\u001b[49m\u001b[43m \u001b[49m\u001b[43mgradient\u001b[49m\u001b[43m,\u001b[49m\u001b[43m \u001b[49m\u001b[43mretain_graph\u001b[49m\u001b[43m,\u001b[49m\u001b[43m \u001b[49m\u001b[43mcreate_graph\u001b[49m\u001b[43m)\u001b[49m\n",
            "File \u001b[0;32m/opt/conda/lib/python3.8/site-packages/torch/autograd/__init__.py:130\u001b[0m, in \u001b[0;36mbackward\u001b[0;34m(tensors, grad_tensors, retain_graph, create_graph, grad_variables)\u001b[0m\n\u001b[1;32m    127\u001b[0m \u001b[38;5;28;01mif\u001b[39;00m retain_graph \u001b[38;5;129;01mis\u001b[39;00m \u001b[38;5;28;01mNone\u001b[39;00m:\n\u001b[1;32m    128\u001b[0m     retain_graph \u001b[38;5;241m=\u001b[39m create_graph\n\u001b[0;32m--> 130\u001b[0m \u001b[43mVariable\u001b[49m\u001b[38;5;241;43m.\u001b[39;49m\u001b[43m_execution_engine\u001b[49m\u001b[38;5;241;43m.\u001b[39;49m\u001b[43mrun_backward\u001b[49m\u001b[43m(\u001b[49m\n\u001b[1;32m    131\u001b[0m \u001b[43m    \u001b[49m\u001b[43mtensors\u001b[49m\u001b[43m,\u001b[49m\u001b[43m \u001b[49m\u001b[43mgrad_tensors_\u001b[49m\u001b[43m,\u001b[49m\u001b[43m \u001b[49m\u001b[43mretain_graph\u001b[49m\u001b[43m,\u001b[49m\u001b[43m \u001b[49m\u001b[43mcreate_graph\u001b[49m\u001b[43m,\u001b[49m\n\u001b[1;32m    132\u001b[0m \u001b[43m    \u001b[49m\u001b[43mallow_unreachable\u001b[49m\u001b[38;5;241;43m=\u001b[39;49m\u001b[38;5;28;43;01mTrue\u001b[39;49;00m\u001b[43m)\u001b[49m\n",
            "\u001b[0;31mKeyboardInterrupt\u001b[0m: "
          ]
        }
      ],
      "source": [
        "train_loss = []\n",
        "for epoch in range(50):\n",
        "    dae.train()\n",
        "\n",
        "    loss_ = 0\n",
        "    \n",
        "    epoch_loss = 0\n",
        "\n",
        "    for batch, train in tqdm(enumerate(dae_loader), total=len(dae_loader)):\n",
        "        data, label = train\n",
        "        \n",
        "        data = data.to(device)\n",
        "        \n",
        "        label = label.to(device)\n",
        "\n",
        "        out = dae(data)\n",
        "\n",
        "        loss = criterion(out, label)\n",
        "\n",
        "        loss_ += loss.item()\n",
        "\n",
        "        opt.zero_grad()\n",
        "        loss.backward()\n",
        "        opt.step()\n",
        "\n",
        "        \n",
        "    epoch_loss = loss_ / len(dae_loader.dataset)\n",
        "    \n",
        "    train_loss.append(epoch_loss)\n",
        "    \n",
        "    print(f'epoch : {epoch+1}\\t Loss : {epoch_loss:.10f}')\n",
        "    \n",
        "    scheduler.step()"
      ]
    },
    {
      "cell_type": "markdown",
      "id": "901dc2fb",
      "metadata": {
        "id": "901dc2fb"
      },
      "source": [
        "## resnet train"
      ]
    },
    {
      "cell_type": "code",
      "execution_count": null,
      "id": "ae78a3b0",
      "metadata": {
        "id": "ae78a3b0"
      },
      "outputs": [],
      "source": [
        "criterion = nn.CrossEntropyLoss().to(device)\n",
        "resnet = Resnet18()\n",
        "resnet = resnet.to(device)\n",
        "\n",
        "opt = torch.optim.Adam([param for param in resnet.parameters() if param.requires_grad], lr=0.001)\n",
        "scheduler = torch.optim.lr_scheduler.StepLR(opt,step_size = 10, gamma = 0.8) "
      ]
    },
    {
      "cell_type": "code",
      "execution_count": null,
      "id": "4f9b81f7",
      "metadata": {
        "id": "4f9b81f7"
      },
      "outputs": [],
      "source": [
        "def evaluate(model, val_loader):\n",
        "    model.eval()\n",
        "    with torch.no_grad():\n",
        "\n",
        "        val_loss = 0\n",
        "        correct = 0\n",
        "\n",
        "        for batch_idx, sample in enumerate(val_loader):\n",
        "            data, label = sample\n",
        "            data = data.to(cuda)\n",
        "            label = label.to(cuda)\n",
        "\n",
        "            output = model(data)\n",
        "            loss = criterion(output, label)\n",
        "            val_loss += loss.item()\n",
        "\n",
        "            prediction = output.max(1, keepdim=True)[1]\n",
        "            correct += prediction.eq(label.view_as(prediction)).sum().item()\n",
        "\n",
        "        val_loss /= len(val_loader.dataset)\n",
        "        val_acc = (100. * correct) / len(test_loader.dataset)\n",
        "\n",
        "\n",
        "        return val_loss, val_acc"
      ]
    },
    {
      "cell_type": "code",
      "execution_count": null,
      "id": "c343091d",
      "metadata": {
        "scrolled": false,
        "id": "c343091d",
        "outputId": "693f4dd9-29ff-4d61-cec8-5232dc90f13e"
      },
      "outputs": [
        {
          "name": "stderr",
          "output_type": "stream",
          "text": [
            " 25%|█████████████████████▋                                                               | 478/1875 [00:18<00:53, 26.00it/s]\n"
          ]
        },
        {
          "ename": "KeyboardInterrupt",
          "evalue": "",
          "output_type": "error",
          "traceback": [
            "\u001b[0;31m---------------------------------------------------------------------------\u001b[0m",
            "\u001b[0;31mKeyboardInterrupt\u001b[0m                         Traceback (most recent call last)",
            "Input \u001b[0;32mIn [68]\u001b[0m, in \u001b[0;36m<module>\u001b[0;34m\u001b[0m\n\u001b[1;32m     45\u001b[0m     cost \u001b[38;5;241m+\u001b[39m\u001b[38;5;241m=\u001b[39m loss\u001b[38;5;241m.\u001b[39mitem()\n\u001b[1;32m     47\u001b[0m     acc \u001b[38;5;241m+\u001b[39m\u001b[38;5;241m=\u001b[39m pred\u001b[38;5;241m.\u001b[39meq(label\u001b[38;5;241m.\u001b[39mview_as(pred))\u001b[38;5;241m.\u001b[39msum()\u001b[38;5;241m.\u001b[39mitem()\n\u001b[0;32m---> 49\u001b[0m     \u001b[43mloss\u001b[49m\u001b[38;5;241;43m.\u001b[39;49m\u001b[43mbackward\u001b[49m\u001b[43m(\u001b[49m\u001b[43m)\u001b[49m\n\u001b[1;32m     50\u001b[0m     opt\u001b[38;5;241m.\u001b[39mstep()\n\u001b[1;32m     54\u001b[0m epoch_loss \u001b[38;5;241m=\u001b[39m cost \u001b[38;5;241m/\u001b[39m \u001b[38;5;28mlen\u001b[39m(train_loader\u001b[38;5;241m.\u001b[39mdataset)\n",
            "File \u001b[0;32m/opt/conda/lib/python3.8/site-packages/torch/tensor.py:221\u001b[0m, in \u001b[0;36mTensor.backward\u001b[0;34m(self, gradient, retain_graph, create_graph)\u001b[0m\n\u001b[1;32m    213\u001b[0m \u001b[38;5;28;01mif\u001b[39;00m \u001b[38;5;28mtype\u001b[39m(\u001b[38;5;28mself\u001b[39m) \u001b[38;5;129;01mis\u001b[39;00m \u001b[38;5;129;01mnot\u001b[39;00m Tensor \u001b[38;5;129;01mand\u001b[39;00m has_torch_function(relevant_args):\n\u001b[1;32m    214\u001b[0m     \u001b[38;5;28;01mreturn\u001b[39;00m handle_torch_function(\n\u001b[1;32m    215\u001b[0m         Tensor\u001b[38;5;241m.\u001b[39mbackward,\n\u001b[1;32m    216\u001b[0m         relevant_args,\n\u001b[0;32m   (...)\u001b[0m\n\u001b[1;32m    219\u001b[0m         retain_graph\u001b[38;5;241m=\u001b[39mretain_graph,\n\u001b[1;32m    220\u001b[0m         create_graph\u001b[38;5;241m=\u001b[39mcreate_graph)\n\u001b[0;32m--> 221\u001b[0m \u001b[43mtorch\u001b[49m\u001b[38;5;241;43m.\u001b[39;49m\u001b[43mautograd\u001b[49m\u001b[38;5;241;43m.\u001b[39;49m\u001b[43mbackward\u001b[49m\u001b[43m(\u001b[49m\u001b[38;5;28;43mself\u001b[39;49m\u001b[43m,\u001b[49m\u001b[43m \u001b[49m\u001b[43mgradient\u001b[49m\u001b[43m,\u001b[49m\u001b[43m \u001b[49m\u001b[43mretain_graph\u001b[49m\u001b[43m,\u001b[49m\u001b[43m \u001b[49m\u001b[43mcreate_graph\u001b[49m\u001b[43m)\u001b[49m\n",
            "File \u001b[0;32m/opt/conda/lib/python3.8/site-packages/torch/autograd/__init__.py:130\u001b[0m, in \u001b[0;36mbackward\u001b[0;34m(tensors, grad_tensors, retain_graph, create_graph, grad_variables)\u001b[0m\n\u001b[1;32m    127\u001b[0m \u001b[38;5;28;01mif\u001b[39;00m retain_graph \u001b[38;5;129;01mis\u001b[39;00m \u001b[38;5;28;01mNone\u001b[39;00m:\n\u001b[1;32m    128\u001b[0m     retain_graph \u001b[38;5;241m=\u001b[39m create_graph\n\u001b[0;32m--> 130\u001b[0m \u001b[43mVariable\u001b[49m\u001b[38;5;241;43m.\u001b[39;49m\u001b[43m_execution_engine\u001b[49m\u001b[38;5;241;43m.\u001b[39;49m\u001b[43mrun_backward\u001b[49m\u001b[43m(\u001b[49m\n\u001b[1;32m    131\u001b[0m \u001b[43m    \u001b[49m\u001b[43mtensors\u001b[49m\u001b[43m,\u001b[49m\u001b[43m \u001b[49m\u001b[43mgrad_tensors_\u001b[49m\u001b[43m,\u001b[49m\u001b[43m \u001b[49m\u001b[43mretain_graph\u001b[49m\u001b[43m,\u001b[49m\u001b[43m \u001b[49m\u001b[43mcreate_graph\u001b[49m\u001b[43m,\u001b[49m\n\u001b[1;32m    132\u001b[0m \u001b[43m    \u001b[49m\u001b[43mallow_unreachable\u001b[49m\u001b[38;5;241;43m=\u001b[39;49m\u001b[38;5;28;43;01mTrue\u001b[39;49;00m\u001b[43m)\u001b[49m\n",
            "\u001b[0;31mKeyboardInterrupt\u001b[0m: "
          ]
        }
      ],
      "source": [
        "# label값을 tensor로 바꾼후 model을 예측을 max로 바꾼후 loss 계산\n",
        "from tqdm import tqdm\n",
        "\n",
        "train_loss = []\n",
        "\n",
        "train_acc = []\n",
        "\n",
        "val_loss = []\n",
        "\n",
        "val_acc = []\n",
        "\n",
        "\n",
        "for epoch in range(50):\n",
        "    resnet.train()\n",
        "\n",
        "    cost = 0\n",
        "    \n",
        "    epoch_loss = 0\n",
        "    \n",
        "    acc = 0\n",
        "    \n",
        "    epoch_acc = 0\n",
        "    \n",
        "    eval_acc = 0\n",
        "    \n",
        "    eval_loss = 0\n",
        "\n",
        "    for batch, train in tqdm(enumerate(train_loader), total=len(train_loader)):\n",
        "        data, label = train\n",
        "        \n",
        "        data = data.to(device)\n",
        "        \n",
        "        label = label.to(device)\n",
        "        \n",
        "        opt.zero_grad()\n",
        "        \n",
        "        out = resnet(data)\n",
        "        \n",
        "        loss = criterion(out, label)\n",
        "        \n",
        "        pred = out\n",
        "        \n",
        "        pred = pred.max(dim=1, keepdim=True)[1]\n",
        "        \n",
        "        cost += loss.item()\n",
        "        \n",
        "        acc += pred.eq(label.view_as(pred)).sum().item()\n",
        "        \n",
        "        loss.backward()\n",
        "        opt.step()\n",
        "        \n",
        "\n",
        "        \n",
        "    epoch_loss = cost / len(train_loader.dataset)\n",
        "    \n",
        "    epoch_acc = (acc / len(train_loader.dataset)) * 100.\n",
        "    \n",
        "    \n",
        "    train_loss.append(epoch_loss)\n",
        "    train_acc.append(epoch_acc)\n",
        "\n",
        "\n",
        "    print(f'epoch : {epoch+1}\\t Loss : {epoch_loss:.6f}\\t acc : {epoch_acc:.6f}')\n",
        "    \n",
        "\n",
        "    scheduler.step()"
      ]
    },
    {
      "cell_type": "code",
      "execution_count": null,
      "id": "79babdd3",
      "metadata": {
        "id": "79babdd3"
      },
      "outputs": [],
      "source": [
        "def test(model, test_loader):\n",
        "    model.eval()\n",
        "    with torch.no_grad():\n",
        "\n",
        "        val_loss = 0\n",
        "        correct = 0\n",
        "\n",
        "        for batch_idx, sample in tqdm(enumerate(test_loader), total=len(test_loader0)):\n",
        "            data, label = sample\n",
        "            data = data.to(cuda)\n",
        "\n",
        "            output = model(data)\n",
        "            loss = criterion(output, label)\n",
        "            val_loss += loss.item()\n",
        "\n",
        "            prediction = output.max(1, keepdim=True)[1]\n",
        "            correct += prediction.eq(label.view_as(prediction)).sum().item()\n",
        "\n",
        "        val_loss /= len(test_loader.dataset)\n",
        "        val_acc = (100. * correct) / len(test_loader.dataset)\n",
        "\n",
        "\n",
        "        return val_loss, val_acc"
      ]
    },
    {
      "cell_type": "code",
      "execution_count": null,
      "id": "b470e39b",
      "metadata": {
        "id": "b470e39b",
        "outputId": "1768c3e3-af2c-4289-8ab7-ac787cd23063"
      },
      "outputs": [
        {
          "data": {
            "text/plain": [
              "(0.08835403752525647, 56.065)"
            ]
          },
          "execution_count": 316,
          "metadata": {},
          "output_type": "execute_result"
        }
      ],
      "source": [
        "evaluate(resnet, val_loader)"
      ]
    },
    {
      "cell_type": "markdown",
      "id": "e4d5c69d",
      "metadata": {
        "id": "e4d5c69d"
      },
      "source": [
        "## simple cnn train"
      ]
    },
    {
      "cell_type": "code",
      "execution_count": null,
      "id": "a7c2219a",
      "metadata": {
        "id": "a7c2219a"
      },
      "outputs": [],
      "source": [
        "criterion = nn.CrossEntropyLoss().to(device)\n",
        "simple = ModelM3()\n",
        "simple = simple.to(device)\n",
        "\n",
        "opt = torch.optim.Adam([param for param in simple.parameters() if param.requires_grad], lr=0.001)\n",
        "scheduler = torch.optim.lr_scheduler.StepLR(opt,step_size = 10, gamma = 0.8) "
      ]
    },
    {
      "cell_type": "code",
      "execution_count": null,
      "id": "d57c4025",
      "metadata": {
        "id": "d57c4025",
        "outputId": "a2798c92-cb93-456b-df06-34b2a184d673"
      },
      "outputs": [
        {
          "name": "stderr",
          "output_type": "stream",
          "text": [
            "100%|████████████████████████████████████████████████████████████████████████████████████| 1875/1875 [00:42<00:00, 44.28it/s]"
          ]
        },
        {
          "name": "stdout",
          "output_type": "stream",
          "text": [
            "epoch : 1\t Loss : 0.020353\t acc : 87.681667\n"
          ]
        },
        {
          "name": "stderr",
          "output_type": "stream",
          "text": [
            "\n",
            "100%|████████████████████████████████████████████████████████████████████████████████████| 1875/1875 [00:43<00:00, 43.38it/s]"
          ]
        },
        {
          "name": "stdout",
          "output_type": "stream",
          "text": [
            "epoch : 2\t Loss : 0.007338\t acc : 96.118333\n"
          ]
        },
        {
          "name": "stderr",
          "output_type": "stream",
          "text": [
            "\n",
            "100%|████████████████████████████████████████████████████████████████████████████████████| 1875/1875 [00:43<00:00, 43.19it/s]"
          ]
        },
        {
          "name": "stdout",
          "output_type": "stream",
          "text": [
            "epoch : 3\t Loss : 0.004378\t acc : 97.770000\n"
          ]
        },
        {
          "name": "stderr",
          "output_type": "stream",
          "text": [
            "\n",
            "100%|████████████████████████████████████████████████████████████████████████████████████| 1875/1875 [00:45<00:00, 41.46it/s]"
          ]
        },
        {
          "name": "stdout",
          "output_type": "stream",
          "text": [
            "epoch : 4\t Loss : 0.002817\t acc : 98.533333\n"
          ]
        },
        {
          "name": "stderr",
          "output_type": "stream",
          "text": [
            "\n",
            "100%|████████████████████████████████████████████████████████████████████████████████████| 1875/1875 [00:42<00:00, 43.83it/s]"
          ]
        },
        {
          "name": "stdout",
          "output_type": "stream",
          "text": [
            "epoch : 5\t Loss : 0.001965\t acc : 98.966667\n"
          ]
        },
        {
          "name": "stderr",
          "output_type": "stream",
          "text": [
            "\n",
            "100%|████████████████████████████████████████████████████████████████████████████████████| 1875/1875 [00:36<00:00, 51.70it/s]"
          ]
        },
        {
          "name": "stdout",
          "output_type": "stream",
          "text": [
            "epoch : 6\t Loss : 0.001545\t acc : 99.125000\n"
          ]
        },
        {
          "name": "stderr",
          "output_type": "stream",
          "text": [
            "\n",
            "100%|████████████████████████████████████████████████████████████████████████████████████| 1875/1875 [00:38<00:00, 48.28it/s]"
          ]
        },
        {
          "name": "stdout",
          "output_type": "stream",
          "text": [
            "epoch : 7\t Loss : 0.001059\t acc : 99.428333\n"
          ]
        },
        {
          "name": "stderr",
          "output_type": "stream",
          "text": [
            "\n",
            "100%|████████████████████████████████████████████████████████████████████████████████████| 1875/1875 [00:39<00:00, 47.56it/s]"
          ]
        },
        {
          "name": "stdout",
          "output_type": "stream",
          "text": [
            "epoch : 8\t Loss : 0.000915\t acc : 99.466667\n"
          ]
        },
        {
          "name": "stderr",
          "output_type": "stream",
          "text": [
            "\n",
            "100%|████████████████████████████████████████████████████████████████████████████████████| 1875/1875 [00:42<00:00, 44.21it/s]"
          ]
        },
        {
          "name": "stdout",
          "output_type": "stream",
          "text": [
            "epoch : 9\t Loss : 0.000719\t acc : 99.593333\n"
          ]
        },
        {
          "name": "stderr",
          "output_type": "stream",
          "text": [
            "\n",
            "100%|████████████████████████████████████████████████████████████████████████████████████| 1875/1875 [00:34<00:00, 54.50it/s]"
          ]
        },
        {
          "name": "stdout",
          "output_type": "stream",
          "text": [
            "epoch : 10\t Loss : 0.000563\t acc : 99.675000\n"
          ]
        },
        {
          "name": "stderr",
          "output_type": "stream",
          "text": [
            "\n",
            "100%|████████████████████████████████████████████████████████████████████████████████████| 1875/1875 [00:38<00:00, 48.80it/s]"
          ]
        },
        {
          "name": "stdout",
          "output_type": "stream",
          "text": [
            "epoch : 11\t Loss : 0.000371\t acc : 99.826667\n"
          ]
        },
        {
          "name": "stderr",
          "output_type": "stream",
          "text": [
            "\n",
            "100%|████████████████████████████████████████████████████████████████████████████████████| 1875/1875 [00:43<00:00, 43.48it/s]\n"
          ]
        },
        {
          "name": "stdout",
          "output_type": "stream",
          "text": [
            "epoch : 12\t Loss : 0.000294\t acc : 99.858333\n"
          ]
        },
        {
          "name": "stderr",
          "output_type": "stream",
          "text": [
            "100%|████████████████████████████████████████████████████████████████████████████████████| 1875/1875 [00:45<00:00, 41.41it/s]"
          ]
        },
        {
          "name": "stdout",
          "output_type": "stream",
          "text": [
            "epoch : 13\t Loss : 0.000355\t acc : 99.771667\n"
          ]
        },
        {
          "name": "stderr",
          "output_type": "stream",
          "text": [
            "\n",
            "100%|████████████████████████████████████████████████████████████████████████████████████| 1875/1875 [00:37<00:00, 49.97it/s]"
          ]
        },
        {
          "name": "stdout",
          "output_type": "stream",
          "text": [
            "epoch : 14\t Loss : 0.000228\t acc : 99.901667\n"
          ]
        },
        {
          "name": "stderr",
          "output_type": "stream",
          "text": [
            "\n",
            "100%|████████████████████████████████████████████████████████████████████████████████████| 1875/1875 [00:40<00:00, 45.92it/s]"
          ]
        },
        {
          "name": "stdout",
          "output_type": "stream",
          "text": [
            "epoch : 15\t Loss : 0.000285\t acc : 99.830000\n"
          ]
        },
        {
          "name": "stderr",
          "output_type": "stream",
          "text": [
            "\n",
            "100%|████████████████████████████████████████████████████████████████████████████████████| 1875/1875 [00:41<00:00, 45.46it/s]"
          ]
        },
        {
          "name": "stdout",
          "output_type": "stream",
          "text": [
            "epoch : 16\t Loss : 0.000202\t acc : 99.888333\n"
          ]
        },
        {
          "name": "stderr",
          "output_type": "stream",
          "text": [
            "\n",
            "100%|████████████████████████████████████████████████████████████████████████████████████| 1875/1875 [00:43<00:00, 42.80it/s]"
          ]
        },
        {
          "name": "stdout",
          "output_type": "stream",
          "text": [
            "epoch : 17\t Loss : 0.000183\t acc : 99.910000\n"
          ]
        },
        {
          "name": "stderr",
          "output_type": "stream",
          "text": [
            "\n",
            "100%|████████████████████████████████████████████████████████████████████████████████████| 1875/1875 [00:42<00:00, 44.31it/s]"
          ]
        },
        {
          "name": "stdout",
          "output_type": "stream",
          "text": [
            "epoch : 18\t Loss : 0.000197\t acc : 99.888333\n"
          ]
        },
        {
          "name": "stderr",
          "output_type": "stream",
          "text": [
            "\n",
            "100%|████████████████████████████████████████████████████████████████████████████████████| 1875/1875 [00:41<00:00, 44.93it/s]"
          ]
        },
        {
          "name": "stdout",
          "output_type": "stream",
          "text": [
            "epoch : 19\t Loss : 0.000168\t acc : 99.920000\n"
          ]
        },
        {
          "name": "stderr",
          "output_type": "stream",
          "text": [
            "\n",
            "100%|████████████████████████████████████████████████████████████████████████████████████| 1875/1875 [00:44<00:00, 41.97it/s]"
          ]
        },
        {
          "name": "stdout",
          "output_type": "stream",
          "text": [
            "epoch : 20\t Loss : 0.000187\t acc : 99.893333\n"
          ]
        },
        {
          "name": "stderr",
          "output_type": "stream",
          "text": [
            "\n",
            "100%|████████████████████████████████████████████████████████████████████████████████████| 1875/1875 [00:43<00:00, 43.06it/s]"
          ]
        },
        {
          "name": "stdout",
          "output_type": "stream",
          "text": [
            "epoch : 21\t Loss : 0.000106\t acc : 99.936667\n"
          ]
        },
        {
          "name": "stderr",
          "output_type": "stream",
          "text": [
            "\n",
            "100%|████████████████████████████████████████████████████████████████████████████████████| 1875/1875 [00:42<00:00, 43.88it/s]"
          ]
        },
        {
          "name": "stdout",
          "output_type": "stream",
          "text": [
            "epoch : 22\t Loss : 0.000085\t acc : 99.963333\n"
          ]
        },
        {
          "name": "stderr",
          "output_type": "stream",
          "text": [
            "\n",
            "100%|████████████████████████████████████████████████████████████████████████████████████| 1875/1875 [00:39<00:00, 47.01it/s]"
          ]
        },
        {
          "name": "stdout",
          "output_type": "stream",
          "text": [
            "epoch : 23\t Loss : 0.000123\t acc : 99.915000\n"
          ]
        },
        {
          "name": "stderr",
          "output_type": "stream",
          "text": [
            "\n",
            "100%|████████████████████████████████████████████████████████████████████████████████████| 1875/1875 [00:40<00:00, 46.24it/s]"
          ]
        },
        {
          "name": "stdout",
          "output_type": "stream",
          "text": [
            "epoch : 24\t Loss : 0.000078\t acc : 99.966667\n"
          ]
        },
        {
          "name": "stderr",
          "output_type": "stream",
          "text": [
            "\n",
            "100%|████████████████████████████████████████████████████████████████████████████████████| 1875/1875 [00:40<00:00, 46.65it/s]"
          ]
        },
        {
          "name": "stdout",
          "output_type": "stream",
          "text": [
            "epoch : 25\t Loss : 0.000072\t acc : 99.971667\n"
          ]
        },
        {
          "name": "stderr",
          "output_type": "stream",
          "text": [
            "\n",
            "100%|████████████████████████████████████████████████████████████████████████████████████| 1875/1875 [00:40<00:00, 46.52it/s]"
          ]
        },
        {
          "name": "stdout",
          "output_type": "stream",
          "text": [
            "epoch : 26\t Loss : 0.000069\t acc : 99.966667\n"
          ]
        },
        {
          "name": "stderr",
          "output_type": "stream",
          "text": [
            "\n",
            "100%|████████████████████████████████████████████████████████████████████████████████████| 1875/1875 [00:36<00:00, 50.88it/s]"
          ]
        },
        {
          "name": "stdout",
          "output_type": "stream",
          "text": [
            "epoch : 27\t Loss : 0.000105\t acc : 99.938333\n"
          ]
        },
        {
          "name": "stderr",
          "output_type": "stream",
          "text": [
            "\n",
            "100%|████████████████████████████████████████████████████████████████████████████████████| 1875/1875 [00:44<00:00, 42.37it/s]"
          ]
        },
        {
          "name": "stdout",
          "output_type": "stream",
          "text": [
            "epoch : 28\t Loss : 0.000049\t acc : 99.985000\n"
          ]
        },
        {
          "name": "stderr",
          "output_type": "stream",
          "text": [
            "\n",
            "100%|████████████████████████████████████████████████████████████████████████████████████| 1875/1875 [00:39<00:00, 47.66it/s]"
          ]
        },
        {
          "name": "stdout",
          "output_type": "stream",
          "text": [
            "epoch : 29\t Loss : 0.000069\t acc : 99.963333\n"
          ]
        },
        {
          "name": "stderr",
          "output_type": "stream",
          "text": [
            "\n",
            "100%|████████████████████████████████████████████████████████████████████████████████████| 1875/1875 [00:38<00:00, 48.81it/s]"
          ]
        },
        {
          "name": "stdout",
          "output_type": "stream",
          "text": [
            "epoch : 30\t Loss : 0.000071\t acc : 99.966667\n"
          ]
        },
        {
          "name": "stderr",
          "output_type": "stream",
          "text": [
            "\n",
            "100%|████████████████████████████████████████████████████████████████████████████████████| 1875/1875 [00:42<00:00, 44.42it/s]"
          ]
        },
        {
          "name": "stdout",
          "output_type": "stream",
          "text": [
            "epoch : 31\t Loss : 0.000047\t acc : 99.981667\n"
          ]
        },
        {
          "name": "stderr",
          "output_type": "stream",
          "text": [
            "\n",
            "100%|████████████████████████████████████████████████████████████████████████████████████| 1875/1875 [00:42<00:00, 43.92it/s]"
          ]
        },
        {
          "name": "stdout",
          "output_type": "stream",
          "text": [
            "epoch : 32\t Loss : 0.000034\t acc : 99.986667\n"
          ]
        },
        {
          "name": "stderr",
          "output_type": "stream",
          "text": [
            "\n",
            "100%|████████████████████████████████████████████████████████████████████████████████████| 1875/1875 [00:44<00:00, 42.57it/s]"
          ]
        },
        {
          "name": "stdout",
          "output_type": "stream",
          "text": [
            "epoch : 33\t Loss : 0.000059\t acc : 99.968333\n"
          ]
        },
        {
          "name": "stderr",
          "output_type": "stream",
          "text": [
            "\n",
            "100%|████████████████████████████████████████████████████████████████████████████████████| 1875/1875 [00:43<00:00, 43.08it/s]"
          ]
        },
        {
          "name": "stdout",
          "output_type": "stream",
          "text": [
            "epoch : 34\t Loss : 0.000049\t acc : 99.975000\n"
          ]
        },
        {
          "name": "stderr",
          "output_type": "stream",
          "text": [
            "\n",
            "100%|████████████████████████████████████████████████████████████████████████████████████| 1875/1875 [00:37<00:00, 49.85it/s]"
          ]
        },
        {
          "name": "stdout",
          "output_type": "stream",
          "text": [
            "epoch : 35\t Loss : 0.000026\t acc : 99.998333\n"
          ]
        },
        {
          "name": "stderr",
          "output_type": "stream",
          "text": [
            "\n",
            "100%|████████████████████████████████████████████████████████████████████████████████████| 1875/1875 [00:35<00:00, 52.74it/s]"
          ]
        },
        {
          "name": "stdout",
          "output_type": "stream",
          "text": [
            "epoch : 36\t Loss : 0.000041\t acc : 99.976667\n"
          ]
        },
        {
          "name": "stderr",
          "output_type": "stream",
          "text": [
            "\n",
            "100%|████████████████████████████████████████████████████████████████████████████████████| 1875/1875 [00:40<00:00, 46.43it/s]"
          ]
        },
        {
          "name": "stdout",
          "output_type": "stream",
          "text": [
            "epoch : 37\t Loss : 0.000041\t acc : 99.980000\n"
          ]
        },
        {
          "name": "stderr",
          "output_type": "stream",
          "text": [
            "\n",
            "100%|████████████████████████████████████████████████████████████████████████████████████| 1875/1875 [00:43<00:00, 43.23it/s]"
          ]
        },
        {
          "name": "stdout",
          "output_type": "stream",
          "text": [
            "epoch : 38\t Loss : 0.000057\t acc : 99.971667\n"
          ]
        },
        {
          "name": "stderr",
          "output_type": "stream",
          "text": [
            "\n",
            "100%|████████████████████████████████████████████████████████████████████████████████████| 1875/1875 [00:43<00:00, 42.82it/s]"
          ]
        },
        {
          "name": "stdout",
          "output_type": "stream",
          "text": [
            "epoch : 39\t Loss : 0.000020\t acc : 99.993333\n"
          ]
        },
        {
          "name": "stderr",
          "output_type": "stream",
          "text": [
            "\n",
            "100%|████████████████████████████████████████████████████████████████████████████████████| 1875/1875 [00:42<00:00, 43.76it/s]"
          ]
        },
        {
          "name": "stdout",
          "output_type": "stream",
          "text": [
            "epoch : 40\t Loss : 0.000032\t acc : 99.988333\n"
          ]
        },
        {
          "name": "stderr",
          "output_type": "stream",
          "text": [
            "\n",
            "100%|████████████████████████████████████████████████████████████████████████████████████| 1875/1875 [00:42<00:00, 44.36it/s]"
          ]
        },
        {
          "name": "stdout",
          "output_type": "stream",
          "text": [
            "epoch : 41\t Loss : 0.000026\t acc : 99.990000\n"
          ]
        },
        {
          "name": "stderr",
          "output_type": "stream",
          "text": [
            "\n",
            "100%|████████████████████████████████████████████████████████████████████████████████████| 1875/1875 [00:43<00:00, 43.30it/s]"
          ]
        },
        {
          "name": "stdout",
          "output_type": "stream",
          "text": [
            "epoch : 42\t Loss : 0.000016\t acc : 99.995000\n"
          ]
        },
        {
          "name": "stderr",
          "output_type": "stream",
          "text": [
            "\n",
            "100%|████████████████████████████████████████████████████████████████████████████████████| 1875/1875 [00:39<00:00, 46.91it/s]"
          ]
        },
        {
          "name": "stdout",
          "output_type": "stream",
          "text": [
            "epoch : 43\t Loss : 0.000018\t acc : 99.995000\n"
          ]
        },
        {
          "name": "stderr",
          "output_type": "stream",
          "text": [
            "\n",
            "100%|████████████████████████████████████████████████████████████████████████████████████| 1875/1875 [00:41<00:00, 44.69it/s]"
          ]
        },
        {
          "name": "stdout",
          "output_type": "stream",
          "text": [
            "epoch : 44\t Loss : 0.000015\t acc : 99.993333\n"
          ]
        },
        {
          "name": "stderr",
          "output_type": "stream",
          "text": [
            "\n",
            "100%|████████████████████████████████████████████████████████████████████████████████████| 1875/1875 [00:39<00:00, 47.30it/s]"
          ]
        },
        {
          "name": "stdout",
          "output_type": "stream",
          "text": [
            "epoch : 45\t Loss : 0.000036\t acc : 99.973333\n"
          ]
        },
        {
          "name": "stderr",
          "output_type": "stream",
          "text": [
            "\n",
            "100%|████████████████████████████████████████████████████████████████████████████████████| 1875/1875 [00:40<00:00, 46.02it/s]"
          ]
        },
        {
          "name": "stdout",
          "output_type": "stream",
          "text": [
            "epoch : 46\t Loss : 0.000009\t acc : 100.000000\n"
          ]
        },
        {
          "name": "stderr",
          "output_type": "stream",
          "text": [
            "\n",
            "100%|████████████████████████████████████████████████████████████████████████████████████| 1875/1875 [00:40<00:00, 46.87it/s]"
          ]
        },
        {
          "name": "stdout",
          "output_type": "stream",
          "text": [
            "epoch : 47\t Loss : 0.000013\t acc : 99.991667\n"
          ]
        },
        {
          "name": "stderr",
          "output_type": "stream",
          "text": [
            "\n",
            "100%|████████████████████████████████████████████████████████████████████████████████████| 1875/1875 [00:42<00:00, 44.48it/s]"
          ]
        },
        {
          "name": "stdout",
          "output_type": "stream",
          "text": [
            "epoch : 48\t Loss : 0.000015\t acc : 100.000000\n"
          ]
        },
        {
          "name": "stderr",
          "output_type": "stream",
          "text": [
            "\n",
            "100%|████████████████████████████████████████████████████████████████████████████████████| 1875/1875 [00:44<00:00, 41.78it/s]"
          ]
        },
        {
          "name": "stdout",
          "output_type": "stream",
          "text": [
            "epoch : 49\t Loss : 0.000026\t acc : 99.983333\n"
          ]
        },
        {
          "name": "stderr",
          "output_type": "stream",
          "text": [
            "\n",
            "100%|████████████████████████████████████████████████████████████████████████████████████| 1875/1875 [00:38<00:00, 48.57it/s]"
          ]
        },
        {
          "name": "stdout",
          "output_type": "stream",
          "text": [
            "epoch : 50\t Loss : 0.000022\t acc : 99.985000\n"
          ]
        },
        {
          "name": "stderr",
          "output_type": "stream",
          "text": [
            "\n"
          ]
        }
      ],
      "source": [
        "# label값을 tensor로 바꾼후 model을 예측을 max로 바꾼후 loss 계산\n",
        "from tqdm import tqdm\n",
        "\n",
        "train_loss = []\n",
        "\n",
        "train_acc = []\n",
        "\n",
        "val_loss = []\n",
        "\n",
        "val_acc = []\n",
        "\n",
        "\n",
        "for epoch in range(50):\n",
        "    simple.train()\n",
        "\n",
        "    cost = 0\n",
        "    \n",
        "    epoch_loss = 0\n",
        "    \n",
        "    acc = 0\n",
        "    \n",
        "    epoch_acc = 0\n",
        "    \n",
        "    eval_acc = 0\n",
        "    \n",
        "    eval_loss = 0\n",
        "\n",
        "    for batch, train in tqdm(enumerate(train_loader), total=len(train_loader)):\n",
        "        data, label = train\n",
        "        \n",
        "        data = data.to(device)\n",
        "        \n",
        "        label = label.to(device)\n",
        "        \n",
        "        opt.zero_grad()\n",
        "        \n",
        "        out = simple(data)\n",
        "        \n",
        "        loss = criterion(out, label)\n",
        "        \n",
        "        pred = out\n",
        "        \n",
        "        pred = pred.max(dim=1, keepdim=True)[1]\n",
        "        \n",
        "        cost += loss.item()\n",
        "        \n",
        "        acc += pred.eq(label.view_as(pred)).sum().item()\n",
        "        \n",
        "        loss.backward()\n",
        "        opt.step()\n",
        "        \n",
        "\n",
        "        \n",
        "    epoch_loss = cost / len(train_loader.dataset)\n",
        "    \n",
        "    epoch_acc = (acc / len(train_loader.dataset)) * 100.\n",
        "    \n",
        "    \n",
        "    train_loss.append(epoch_loss)\n",
        "    train_acc.append(epoch_acc)\n",
        "    \n",
        "#     eval_acc, eval_loss = evaluate(resnet, val_dataset)\n",
        "    \n",
        "#     val_loss.append(eval_loss)\n",
        "#     val_acc.append(eval_acc)\n",
        "\n",
        "\n",
        "    print(f'epoch : {epoch+1}\\t Loss : {epoch_loss:.6f}\\t acc : {epoch_acc:.6f}')\n",
        "    \n",
        "\n",
        "    scheduler.step()"
      ]
    },
    {
      "cell_type": "code",
      "execution_count": null,
      "id": "402a9935",
      "metadata": {
        "id": "402a9935"
      },
      "outputs": [],
      "source": [
        "torch.save(simple, './model/result/simple.pt')"
      ]
    },
    {
      "cell_type": "markdown",
      "id": "03f49310",
      "metadata": {
        "id": "03f49310"
      },
      "source": [
        "# 앙상블 모델 학습"
      ]
    },
    {
      "cell_type": "code",
      "execution_count": null,
      "id": "2513d72f",
      "metadata": {
        "id": "2513d72f"
      },
      "outputs": [],
      "source": [
        "simple = torch.load('./model/result/simple.pt')"
      ]
    },
    {
      "cell_type": "code",
      "execution_count": null,
      "id": "03b52892",
      "metadata": {
        "id": "03b52892"
      },
      "outputs": [],
      "source": [
        "resnet = torch.load('./model/result/resnet18.pt')"
      ]
    },
    {
      "cell_type": "code",
      "execution_count": null,
      "id": "0965dfac",
      "metadata": {
        "id": "0965dfac"
      },
      "outputs": [],
      "source": [
        "dae = torch.load('./model/result/dae.pt')"
      ]
    },
    {
      "cell_type": "code",
      "execution_count": null,
      "id": "0c942ecc",
      "metadata": {
        "id": "0c942ecc"
      },
      "outputs": [],
      "source": [
        "criterion = nn.CrossEntropyLoss().to(device)\n",
        "\n",
        "model1 = ModelM3()\n",
        "model2 = ModelM5()\n",
        "model3 = ModelM7()\n",
        "\n",
        "\n",
        "model = Model2(model1, model2, model3)\n",
        "model = model.to(device)\n",
        "\n",
        "opt = torch.optim.Adam([param for param in model.parameters() if param.requires_grad], lr=0.01)\n",
        "scheduler = torch.optim.lr_scheduler.StepLR(opt,step_size = 10, gamma = 0.8) "
      ]
    },
    {
      "cell_type": "code",
      "execution_count": null,
      "id": "9a31f2b5",
      "metadata": {
        "scrolled": false,
        "id": "9a31f2b5",
        "outputId": "5d9d85bc-01a3-41ea-a95f-fa8323dcc88a"
      },
      "outputs": [
        {
          "name": "stderr",
          "output_type": "stream",
          "text": [
            "100%|████████████████████████████████████████████████████████████████████████████████████| 1875/1875 [01:07<00:00, 27.89it/s]"
          ]
        },
        {
          "name": "stdout",
          "output_type": "stream",
          "text": [
            "epoch : 1\t Loss : 0.021004\t acc : 81.728333\n"
          ]
        },
        {
          "name": "stderr",
          "output_type": "stream",
          "text": [
            "\n",
            "100%|████████████████████████████████████████████████████████████████████████████████████| 1875/1875 [01:06<00:00, 28.04it/s]"
          ]
        },
        {
          "name": "stdout",
          "output_type": "stream",
          "text": [
            "epoch : 2\t Loss : 0.005075\t acc : 95.638333\n"
          ]
        },
        {
          "name": "stderr",
          "output_type": "stream",
          "text": [
            "\n",
            "100%|████████████████████████████████████████████████████████████████████████████████████| 1875/1875 [01:06<00:00, 28.05it/s]"
          ]
        },
        {
          "name": "stdout",
          "output_type": "stream",
          "text": [
            "epoch : 3\t Loss : 0.003366\t acc : 97.056667\n"
          ]
        },
        {
          "name": "stderr",
          "output_type": "stream",
          "text": [
            "\n",
            "100%|████████████████████████████████████████████████████████████████████████████████████| 1875/1875 [01:05<00:00, 28.53it/s]"
          ]
        },
        {
          "name": "stdout",
          "output_type": "stream",
          "text": [
            "epoch : 4\t Loss : 0.002595\t acc : 97.726667\n"
          ]
        },
        {
          "name": "stderr",
          "output_type": "stream",
          "text": [
            "\n",
            "100%|████████████████████████████████████████████████████████████████████████████████████| 1875/1875 [01:07<00:00, 27.71it/s]"
          ]
        },
        {
          "name": "stdout",
          "output_type": "stream",
          "text": [
            "epoch : 5\t Loss : 0.002010\t acc : 98.208333\n"
          ]
        },
        {
          "name": "stderr",
          "output_type": "stream",
          "text": [
            "\n",
            "100%|████████████████████████████████████████████████████████████████████████████████████| 1875/1875 [01:07<00:00, 27.94it/s]"
          ]
        },
        {
          "name": "stdout",
          "output_type": "stream",
          "text": [
            "epoch : 6\t Loss : 0.001661\t acc : 98.481667\n"
          ]
        },
        {
          "name": "stderr",
          "output_type": "stream",
          "text": [
            "\n",
            "100%|████████████████████████████████████████████████████████████████████████████████████| 1875/1875 [01:03<00:00, 29.33it/s]"
          ]
        },
        {
          "name": "stdout",
          "output_type": "stream",
          "text": [
            "epoch : 7\t Loss : 0.001351\t acc : 98.795000\n"
          ]
        },
        {
          "name": "stderr",
          "output_type": "stream",
          "text": [
            "\n",
            "100%|████████████████████████████████████████████████████████████████████████████████████| 1875/1875 [01:07<00:00, 27.83it/s]"
          ]
        },
        {
          "name": "stdout",
          "output_type": "stream",
          "text": [
            "epoch : 8\t Loss : 0.001069\t acc : 99.041667\n"
          ]
        },
        {
          "name": "stderr",
          "output_type": "stream",
          "text": [
            "\n",
            "100%|████████████████████████████████████████████████████████████████████████████████████| 1875/1875 [01:12<00:00, 26.01it/s]"
          ]
        },
        {
          "name": "stdout",
          "output_type": "stream",
          "text": [
            "epoch : 9\t Loss : 0.000955\t acc : 99.083333\n"
          ]
        },
        {
          "name": "stderr",
          "output_type": "stream",
          "text": [
            "\n",
            "100%|████████████████████████████████████████████████████████████████████████████████████| 1875/1875 [01:08<00:00, 27.52it/s]"
          ]
        },
        {
          "name": "stdout",
          "output_type": "stream",
          "text": [
            "epoch : 10\t Loss : 0.000843\t acc : 99.273333\n"
          ]
        },
        {
          "name": "stderr",
          "output_type": "stream",
          "text": [
            "\n",
            "100%|████████████████████████████████████████████████████████████████████████████████████| 1875/1875 [01:09<00:00, 26.96it/s]"
          ]
        },
        {
          "name": "stdout",
          "output_type": "stream",
          "text": [
            "epoch : 11\t Loss : 0.000414\t acc : 99.621667\n"
          ]
        },
        {
          "name": "stderr",
          "output_type": "stream",
          "text": [
            "\n",
            "100%|████████████████████████████████████████████████████████████████████████████████████| 1875/1875 [01:07<00:00, 27.75it/s]"
          ]
        },
        {
          "name": "stdout",
          "output_type": "stream",
          "text": [
            "epoch : 12\t Loss : 0.000550\t acc : 99.470000\n"
          ]
        },
        {
          "name": "stderr",
          "output_type": "stream",
          "text": [
            "\n",
            "100%|████████████████████████████████████████████████████████████████████████████████████| 1875/1875 [01:05<00:00, 28.42it/s]"
          ]
        },
        {
          "name": "stdout",
          "output_type": "stream",
          "text": [
            "epoch : 13\t Loss : 0.000445\t acc : 99.600000\n"
          ]
        },
        {
          "name": "stderr",
          "output_type": "stream",
          "text": [
            "\n",
            "100%|████████████████████████████████████████████████████████████████████████████████████| 1875/1875 [01:10<00:00, 26.49it/s]"
          ]
        },
        {
          "name": "stdout",
          "output_type": "stream",
          "text": [
            "epoch : 14\t Loss : 0.000403\t acc : 99.618333\n"
          ]
        },
        {
          "name": "stderr",
          "output_type": "stream",
          "text": [
            "\n",
            "100%|████████████████████████████████████████████████████████████████████████████████████| 1875/1875 [01:08<00:00, 27.54it/s]"
          ]
        },
        {
          "name": "stdout",
          "output_type": "stream",
          "text": [
            "epoch : 15\t Loss : 0.000376\t acc : 99.635000\n"
          ]
        },
        {
          "name": "stderr",
          "output_type": "stream",
          "text": [
            "\n",
            "100%|████████████████████████████████████████████████████████████████████████████████████| 1875/1875 [01:09<00:00, 27.10it/s]"
          ]
        },
        {
          "name": "stdout",
          "output_type": "stream",
          "text": [
            "epoch : 16\t Loss : 0.000376\t acc : 99.633333\n"
          ]
        },
        {
          "name": "stderr",
          "output_type": "stream",
          "text": [
            "\n",
            "100%|████████████████████████████████████████████████████████████████████████████████████| 1875/1875 [01:06<00:00, 28.35it/s]"
          ]
        },
        {
          "name": "stdout",
          "output_type": "stream",
          "text": [
            "epoch : 17\t Loss : 0.000310\t acc : 99.708333\n"
          ]
        },
        {
          "name": "stderr",
          "output_type": "stream",
          "text": [
            "\n",
            "100%|████████████████████████████████████████████████████████████████████████████████████| 1875/1875 [01:11<00:00, 26.26it/s]"
          ]
        },
        {
          "name": "stdout",
          "output_type": "stream",
          "text": [
            "epoch : 18\t Loss : 0.000284\t acc : 99.736667\n"
          ]
        },
        {
          "name": "stderr",
          "output_type": "stream",
          "text": [
            "\n",
            "100%|████████████████████████████████████████████████████████████████████████████████████| 1875/1875 [01:06<00:00, 28.15it/s]"
          ]
        },
        {
          "name": "stdout",
          "output_type": "stream",
          "text": [
            "epoch : 19\t Loss : 0.000283\t acc : 99.743333\n"
          ]
        },
        {
          "name": "stderr",
          "output_type": "stream",
          "text": [
            "\n",
            "100%|████████████████████████████████████████████████████████████████████████████████████| 1875/1875 [01:06<00:00, 28.13it/s]"
          ]
        },
        {
          "name": "stdout",
          "output_type": "stream",
          "text": [
            "epoch : 20\t Loss : 0.000287\t acc : 99.725000\n"
          ]
        },
        {
          "name": "stderr",
          "output_type": "stream",
          "text": [
            "\n",
            "100%|████████████████████████████████████████████████████████████████████████████████████| 1875/1875 [01:07<00:00, 27.86it/s]"
          ]
        },
        {
          "name": "stdout",
          "output_type": "stream",
          "text": [
            "epoch : 21\t Loss : 0.000181\t acc : 99.826667\n"
          ]
        },
        {
          "name": "stderr",
          "output_type": "stream",
          "text": [
            "\n",
            "100%|████████████████████████████████████████████████████████████████████████████████████| 1875/1875 [01:04<00:00, 28.89it/s]"
          ]
        },
        {
          "name": "stdout",
          "output_type": "stream",
          "text": [
            "epoch : 22\t Loss : 0.000181\t acc : 99.843333\n"
          ]
        },
        {
          "name": "stderr",
          "output_type": "stream",
          "text": [
            "\n",
            "100%|████████████████████████████████████████████████████████████████████████████████████| 1875/1875 [01:06<00:00, 28.20it/s]"
          ]
        },
        {
          "name": "stdout",
          "output_type": "stream",
          "text": [
            "epoch : 23\t Loss : 0.000166\t acc : 99.840000\n"
          ]
        },
        {
          "name": "stderr",
          "output_type": "stream",
          "text": [
            "\n",
            "100%|████████████████████████████████████████████████████████████████████████████████████| 1875/1875 [01:09<00:00, 27.15it/s]"
          ]
        },
        {
          "name": "stdout",
          "output_type": "stream",
          "text": [
            "epoch : 24\t Loss : 0.000154\t acc : 99.846667\n"
          ]
        },
        {
          "name": "stderr",
          "output_type": "stream",
          "text": [
            "\n",
            "100%|████████████████████████████████████████████████████████████████████████████████████| 1875/1875 [01:08<00:00, 27.48it/s]"
          ]
        },
        {
          "name": "stdout",
          "output_type": "stream",
          "text": [
            "epoch : 25\t Loss : 0.000131\t acc : 99.883333\n"
          ]
        },
        {
          "name": "stderr",
          "output_type": "stream",
          "text": [
            "\n",
            "100%|████████████████████████████████████████████████████████████████████████████████████| 1875/1875 [01:07<00:00, 27.97it/s]"
          ]
        },
        {
          "name": "stdout",
          "output_type": "stream",
          "text": [
            "epoch : 26\t Loss : 0.000171\t acc : 99.845000\n"
          ]
        },
        {
          "name": "stderr",
          "output_type": "stream",
          "text": [
            "\n",
            "100%|████████████████████████████████████████████████████████████████████████████████████| 1875/1875 [01:07<00:00, 27.63it/s]"
          ]
        },
        {
          "name": "stdout",
          "output_type": "stream",
          "text": [
            "epoch : 27\t Loss : 0.000167\t acc : 99.845000\n"
          ]
        },
        {
          "name": "stderr",
          "output_type": "stream",
          "text": [
            "\n",
            "100%|████████████████████████████████████████████████████████████████████████████████████| 1875/1875 [01:07<00:00, 27.74it/s]"
          ]
        },
        {
          "name": "stdout",
          "output_type": "stream",
          "text": [
            "epoch : 28\t Loss : 0.000110\t acc : 99.910000\n"
          ]
        },
        {
          "name": "stderr",
          "output_type": "stream",
          "text": [
            "\n",
            "100%|████████████████████████████████████████████████████████████████████████████████████| 1875/1875 [01:04<00:00, 29.14it/s]"
          ]
        },
        {
          "name": "stdout",
          "output_type": "stream",
          "text": [
            "epoch : 29\t Loss : 0.000150\t acc : 99.863333\n"
          ]
        },
        {
          "name": "stderr",
          "output_type": "stream",
          "text": [
            "\n",
            "100%|████████████████████████████████████████████████████████████████████████████████████| 1875/1875 [01:09<00:00, 27.15it/s]"
          ]
        },
        {
          "name": "stdout",
          "output_type": "stream",
          "text": [
            "epoch : 30\t Loss : 0.000117\t acc : 99.876667\n"
          ]
        },
        {
          "name": "stderr",
          "output_type": "stream",
          "text": [
            "\n",
            "100%|████████████████████████████████████████████████████████████████████████████████████| 1875/1875 [01:09<00:00, 26.98it/s]"
          ]
        },
        {
          "name": "stdout",
          "output_type": "stream",
          "text": [
            "epoch : 31\t Loss : 0.000087\t acc : 99.915000\n"
          ]
        },
        {
          "name": "stderr",
          "output_type": "stream",
          "text": [
            "\n",
            "100%|████████████████████████████████████████████████████████████████████████████████████| 1875/1875 [01:09<00:00, 26.79it/s]"
          ]
        },
        {
          "name": "stdout",
          "output_type": "stream",
          "text": [
            "epoch : 32\t Loss : 0.000119\t acc : 99.886667\n"
          ]
        },
        {
          "name": "stderr",
          "output_type": "stream",
          "text": [
            "\n",
            "100%|████████████████████████████████████████████████████████████████████████████████████| 1875/1875 [01:09<00:00, 27.02it/s]"
          ]
        },
        {
          "name": "stdout",
          "output_type": "stream",
          "text": [
            "epoch : 33\t Loss : 0.000077\t acc : 99.936667\n"
          ]
        },
        {
          "name": "stderr",
          "output_type": "stream",
          "text": [
            "\n",
            "100%|████████████████████████████████████████████████████████████████████████████████████| 1875/1875 [01:06<00:00, 28.00it/s]"
          ]
        },
        {
          "name": "stdout",
          "output_type": "stream",
          "text": [
            "epoch : 34\t Loss : 0.000121\t acc : 99.911667\n"
          ]
        },
        {
          "name": "stderr",
          "output_type": "stream",
          "text": [
            "\n",
            "100%|████████████████████████████████████████████████████████████████████████████████████| 1875/1875 [01:06<00:00, 28.29it/s]"
          ]
        },
        {
          "name": "stdout",
          "output_type": "stream",
          "text": [
            "epoch : 35\t Loss : 0.000054\t acc : 99.958333\n"
          ]
        },
        {
          "name": "stderr",
          "output_type": "stream",
          "text": [
            "\n",
            "100%|████████████████████████████████████████████████████████████████████████████████████| 1875/1875 [01:06<00:00, 28.23it/s]"
          ]
        },
        {
          "name": "stdout",
          "output_type": "stream",
          "text": [
            "epoch : 36\t Loss : 0.000106\t acc : 99.886667\n"
          ]
        },
        {
          "name": "stderr",
          "output_type": "stream",
          "text": [
            "\n",
            "100%|████████████████████████████████████████████████████████████████████████████████████| 1875/1875 [01:06<00:00, 28.07it/s]"
          ]
        },
        {
          "name": "stdout",
          "output_type": "stream",
          "text": [
            "epoch : 37\t Loss : 0.000069\t acc : 99.931667\n"
          ]
        },
        {
          "name": "stderr",
          "output_type": "stream",
          "text": [
            "\n",
            "100%|████████████████████████████████████████████████████████████████████████████████████| 1875/1875 [01:09<00:00, 27.13it/s]"
          ]
        },
        {
          "name": "stdout",
          "output_type": "stream",
          "text": [
            "epoch : 38\t Loss : 0.000075\t acc : 99.915000\n"
          ]
        },
        {
          "name": "stderr",
          "output_type": "stream",
          "text": [
            "\n",
            "100%|████████████████████████████████████████████████████████████████████████████████████| 1875/1875 [01:08<00:00, 27.32it/s]"
          ]
        },
        {
          "name": "stdout",
          "output_type": "stream",
          "text": [
            "epoch : 39\t Loss : 0.000069\t acc : 99.943333\n"
          ]
        },
        {
          "name": "stderr",
          "output_type": "stream",
          "text": [
            "\n",
            "100%|████████████████████████████████████████████████████████████████████████████████████| 1875/1875 [01:09<00:00, 26.94it/s]"
          ]
        },
        {
          "name": "stdout",
          "output_type": "stream",
          "text": [
            "epoch : 40\t Loss : 0.000100\t acc : 99.923333\n"
          ]
        },
        {
          "name": "stderr",
          "output_type": "stream",
          "text": [
            "\n",
            "100%|████████████████████████████████████████████████████████████████████████████████████| 1875/1875 [01:07<00:00, 27.88it/s]"
          ]
        },
        {
          "name": "stdout",
          "output_type": "stream",
          "text": [
            "epoch : 41\t Loss : 0.000048\t acc : 99.968333\n"
          ]
        },
        {
          "name": "stderr",
          "output_type": "stream",
          "text": [
            "\n",
            "100%|████████████████████████████████████████████████████████████████████████████████████| 1875/1875 [01:06<00:00, 28.32it/s]"
          ]
        },
        {
          "name": "stdout",
          "output_type": "stream",
          "text": [
            "epoch : 42\t Loss : 0.000048\t acc : 99.961667\n"
          ]
        },
        {
          "name": "stderr",
          "output_type": "stream",
          "text": [
            "\n",
            "100%|████████████████████████████████████████████████████████████████████████████████████| 1875/1875 [01:05<00:00, 28.45it/s]"
          ]
        },
        {
          "name": "stdout",
          "output_type": "stream",
          "text": [
            "epoch : 43\t Loss : 0.000045\t acc : 99.958333\n"
          ]
        },
        {
          "name": "stderr",
          "output_type": "stream",
          "text": [
            "\n",
            "100%|████████████████████████████████████████████████████████████████████████████████████| 1875/1875 [01:10<00:00, 26.77it/s]"
          ]
        },
        {
          "name": "stdout",
          "output_type": "stream",
          "text": [
            "epoch : 44\t Loss : 0.000039\t acc : 99.961667\n"
          ]
        },
        {
          "name": "stderr",
          "output_type": "stream",
          "text": [
            "\n",
            "100%|████████████████████████████████████████████████████████████████████████████████████| 1875/1875 [01:13<00:00, 25.67it/s]"
          ]
        },
        {
          "name": "stdout",
          "output_type": "stream",
          "text": [
            "epoch : 45\t Loss : 0.000063\t acc : 99.948333\n"
          ]
        },
        {
          "name": "stderr",
          "output_type": "stream",
          "text": [
            "\n",
            "100%|████████████████████████████████████████████████████████████████████████████████████| 1875/1875 [01:06<00:00, 28.35it/s]"
          ]
        },
        {
          "name": "stdout",
          "output_type": "stream",
          "text": [
            "epoch : 46\t Loss : 0.000054\t acc : 99.941667\n"
          ]
        },
        {
          "name": "stderr",
          "output_type": "stream",
          "text": [
            "\n",
            "100%|████████████████████████████████████████████████████████████████████████████████████| 1875/1875 [01:06<00:00, 28.14it/s]"
          ]
        },
        {
          "name": "stdout",
          "output_type": "stream",
          "text": [
            "epoch : 47\t Loss : 0.000029\t acc : 99.975000\n"
          ]
        },
        {
          "name": "stderr",
          "output_type": "stream",
          "text": [
            "\n",
            "100%|████████████████████████████████████████████████████████████████████████████████████| 1875/1875 [01:06<00:00, 28.34it/s]"
          ]
        },
        {
          "name": "stdout",
          "output_type": "stream",
          "text": [
            "epoch : 48\t Loss : 0.000052\t acc : 99.946667\n"
          ]
        },
        {
          "name": "stderr",
          "output_type": "stream",
          "text": [
            "\n",
            "100%|████████████████████████████████████████████████████████████████████████████████████| 1875/1875 [01:06<00:00, 27.99it/s]"
          ]
        },
        {
          "name": "stdout",
          "output_type": "stream",
          "text": [
            "epoch : 49\t Loss : 0.000048\t acc : 99.956667\n"
          ]
        },
        {
          "name": "stderr",
          "output_type": "stream",
          "text": [
            "\n",
            "100%|████████████████████████████████████████████████████████████████████████████████████| 1875/1875 [01:07<00:00, 27.90it/s]"
          ]
        },
        {
          "name": "stdout",
          "output_type": "stream",
          "text": [
            "epoch : 50\t Loss : 0.000024\t acc : 99.981667\n"
          ]
        },
        {
          "name": "stderr",
          "output_type": "stream",
          "text": [
            "\n",
            "100%|████████████████████████████████████████████████████████████████████████████████████| 1875/1875 [01:08<00:00, 27.48it/s]"
          ]
        },
        {
          "name": "stdout",
          "output_type": "stream",
          "text": [
            "epoch : 51\t Loss : 0.000024\t acc : 99.975000\n"
          ]
        },
        {
          "name": "stderr",
          "output_type": "stream",
          "text": [
            "\n",
            "100%|████████████████████████████████████████████████████████████████████████████████████| 1875/1875 [01:08<00:00, 27.45it/s]"
          ]
        },
        {
          "name": "stdout",
          "output_type": "stream",
          "text": [
            "epoch : 52\t Loss : 0.000032\t acc : 99.976667\n"
          ]
        },
        {
          "name": "stderr",
          "output_type": "stream",
          "text": [
            "\n",
            "100%|████████████████████████████████████████████████████████████████████████████████████| 1875/1875 [01:04<00:00, 29.11it/s]"
          ]
        },
        {
          "name": "stdout",
          "output_type": "stream",
          "text": [
            "epoch : 53\t Loss : 0.000027\t acc : 99.975000\n"
          ]
        },
        {
          "name": "stderr",
          "output_type": "stream",
          "text": [
            "\n",
            "100%|████████████████████████████████████████████████████████████████████████████████████| 1875/1875 [01:08<00:00, 27.47it/s]"
          ]
        },
        {
          "name": "stdout",
          "output_type": "stream",
          "text": [
            "epoch : 54\t Loss : 0.000026\t acc : 99.981667\n"
          ]
        },
        {
          "name": "stderr",
          "output_type": "stream",
          "text": [
            "\n",
            "100%|████████████████████████████████████████████████████████████████████████████████████| 1875/1875 [01:05<00:00, 28.58it/s]"
          ]
        },
        {
          "name": "stdout",
          "output_type": "stream",
          "text": [
            "epoch : 55\t Loss : 0.000032\t acc : 99.973333\n"
          ]
        },
        {
          "name": "stderr",
          "output_type": "stream",
          "text": [
            "\n",
            "100%|████████████████████████████████████████████████████████████████████████████████████| 1875/1875 [01:06<00:00, 28.05it/s]"
          ]
        },
        {
          "name": "stdout",
          "output_type": "stream",
          "text": [
            "epoch : 56\t Loss : 0.000034\t acc : 99.965000\n"
          ]
        },
        {
          "name": "stderr",
          "output_type": "stream",
          "text": [
            "\n",
            "100%|████████████████████████████████████████████████████████████████████████████████████| 1875/1875 [01:06<00:00, 28.18it/s]"
          ]
        },
        {
          "name": "stdout",
          "output_type": "stream",
          "text": [
            "epoch : 57\t Loss : 0.000022\t acc : 99.981667\n"
          ]
        },
        {
          "name": "stderr",
          "output_type": "stream",
          "text": [
            "\n",
            "100%|████████████████████████████████████████████████████████████████████████████████████| 1875/1875 [01:06<00:00, 28.31it/s]"
          ]
        },
        {
          "name": "stdout",
          "output_type": "stream",
          "text": [
            "epoch : 58\t Loss : 0.000024\t acc : 99.981667\n"
          ]
        },
        {
          "name": "stderr",
          "output_type": "stream",
          "text": [
            "\n",
            "100%|████████████████████████████████████████████████████████████████████████████████████| 1875/1875 [01:06<00:00, 28.06it/s]"
          ]
        },
        {
          "name": "stdout",
          "output_type": "stream",
          "text": [
            "epoch : 59\t Loss : 0.000034\t acc : 99.971667\n"
          ]
        },
        {
          "name": "stderr",
          "output_type": "stream",
          "text": [
            "\n",
            "100%|████████████████████████████████████████████████████████████████████████████████████| 1875/1875 [01:07<00:00, 27.93it/s]"
          ]
        },
        {
          "name": "stdout",
          "output_type": "stream",
          "text": [
            "epoch : 60\t Loss : 0.000033\t acc : 99.973333\n"
          ]
        },
        {
          "name": "stderr",
          "output_type": "stream",
          "text": [
            "\n",
            "100%|████████████████████████████████████████████████████████████████████████████████████| 1875/1875 [01:06<00:00, 28.13it/s]"
          ]
        },
        {
          "name": "stdout",
          "output_type": "stream",
          "text": [
            "epoch : 61\t Loss : 0.000014\t acc : 99.991667\n"
          ]
        },
        {
          "name": "stderr",
          "output_type": "stream",
          "text": [
            "\n",
            "100%|████████████████████████████████████████████████████████████████████████████████████| 1875/1875 [01:05<00:00, 28.72it/s]"
          ]
        },
        {
          "name": "stdout",
          "output_type": "stream",
          "text": [
            "epoch : 62\t Loss : 0.000011\t acc : 99.991667\n"
          ]
        },
        {
          "name": "stderr",
          "output_type": "stream",
          "text": [
            "\n",
            "100%|████████████████████████████████████████████████████████████████████████████████████| 1875/1875 [01:06<00:00, 28.11it/s]"
          ]
        },
        {
          "name": "stdout",
          "output_type": "stream",
          "text": [
            "epoch : 63\t Loss : 0.000012\t acc : 99.986667\n"
          ]
        },
        {
          "name": "stderr",
          "output_type": "stream",
          "text": [
            "\n",
            "100%|████████████████████████████████████████████████████████████████████████████████████| 1875/1875 [01:08<00:00, 27.18it/s]"
          ]
        },
        {
          "name": "stdout",
          "output_type": "stream",
          "text": [
            "epoch : 64\t Loss : 0.000010\t acc : 99.988333\n"
          ]
        },
        {
          "name": "stderr",
          "output_type": "stream",
          "text": [
            "\n",
            "100%|████████████████████████████████████████████████████████████████████████████████████| 1875/1875 [01:06<00:00, 28.14it/s]"
          ]
        },
        {
          "name": "stdout",
          "output_type": "stream",
          "text": [
            "epoch : 65\t Loss : 0.000015\t acc : 99.985000\n"
          ]
        },
        {
          "name": "stderr",
          "output_type": "stream",
          "text": [
            "\n",
            "100%|████████████████████████████████████████████████████████████████████████████████████| 1875/1875 [01:07<00:00, 27.98it/s]"
          ]
        },
        {
          "name": "stdout",
          "output_type": "stream",
          "text": [
            "epoch : 66\t Loss : 0.000012\t acc : 99.990000\n"
          ]
        },
        {
          "name": "stderr",
          "output_type": "stream",
          "text": [
            "\n",
            "100%|████████████████████████████████████████████████████████████████████████████████████| 1875/1875 [01:09<00:00, 26.85it/s]\n"
          ]
        },
        {
          "name": "stdout",
          "output_type": "stream",
          "text": [
            "epoch : 67\t Loss : 0.000018\t acc : 99.985000\n"
          ]
        },
        {
          "name": "stderr",
          "output_type": "stream",
          "text": [
            "100%|████████████████████████████████████████████████████████████████████████████████████| 1875/1875 [01:10<00:00, 26.46it/s]"
          ]
        },
        {
          "name": "stdout",
          "output_type": "stream",
          "text": [
            "epoch : 68\t Loss : 0.000022\t acc : 99.976667\n"
          ]
        },
        {
          "name": "stderr",
          "output_type": "stream",
          "text": [
            "\n",
            "100%|████████████████████████████████████████████████████████████████████████████████████| 1875/1875 [01:08<00:00, 27.44it/s]"
          ]
        },
        {
          "name": "stdout",
          "output_type": "stream",
          "text": [
            "epoch : 69\t Loss : 0.000007\t acc : 99.995000\n"
          ]
        },
        {
          "name": "stderr",
          "output_type": "stream",
          "text": [
            "\n",
            "100%|████████████████████████████████████████████████████████████████████████████████████| 1875/1875 [01:09<00:00, 27.06it/s]"
          ]
        },
        {
          "name": "stdout",
          "output_type": "stream",
          "text": [
            "epoch : 70\t Loss : 0.000019\t acc : 99.978333\n"
          ]
        },
        {
          "name": "stderr",
          "output_type": "stream",
          "text": [
            "\n",
            "100%|████████████████████████████████████████████████████████████████████████████████████| 1875/1875 [01:05<00:00, 28.81it/s]"
          ]
        },
        {
          "name": "stdout",
          "output_type": "stream",
          "text": [
            "epoch : 71\t Loss : 0.000014\t acc : 99.986667\n"
          ]
        },
        {
          "name": "stderr",
          "output_type": "stream",
          "text": [
            "\n",
            "100%|████████████████████████████████████████████████████████████████████████████████████| 1875/1875 [01:08<00:00, 27.57it/s]"
          ]
        },
        {
          "name": "stdout",
          "output_type": "stream",
          "text": [
            "epoch : 72\t Loss : 0.000012\t acc : 99.990000\n"
          ]
        },
        {
          "name": "stderr",
          "output_type": "stream",
          "text": [
            "\n",
            "100%|████████████████████████████████████████████████████████████████████████████████████| 1875/1875 [01:02<00:00, 29.81it/s]\n"
          ]
        },
        {
          "name": "stdout",
          "output_type": "stream",
          "text": [
            "epoch : 73\t Loss : 0.000005\t acc : 99.996667\n"
          ]
        },
        {
          "name": "stderr",
          "output_type": "stream",
          "text": [
            "100%|████████████████████████████████████████████████████████████████████████████████████| 1875/1875 [01:10<00:00, 26.59it/s]"
          ]
        },
        {
          "name": "stdout",
          "output_type": "stream",
          "text": [
            "epoch : 74\t Loss : 0.000013\t acc : 99.991667\n"
          ]
        },
        {
          "name": "stderr",
          "output_type": "stream",
          "text": [
            "\n",
            "100%|████████████████████████████████████████████████████████████████████████████████████| 1875/1875 [01:07<00:00, 27.85it/s]"
          ]
        },
        {
          "name": "stdout",
          "output_type": "stream",
          "text": [
            "epoch : 75\t Loss : 0.000010\t acc : 99.993333\n"
          ]
        },
        {
          "name": "stderr",
          "output_type": "stream",
          "text": [
            "\n",
            "100%|████████████████████████████████████████████████████████████████████████████████████| 1875/1875 [01:08<00:00, 27.49it/s]"
          ]
        },
        {
          "name": "stdout",
          "output_type": "stream",
          "text": [
            "epoch : 76\t Loss : 0.000004\t acc : 100.000000\n"
          ]
        },
        {
          "name": "stderr",
          "output_type": "stream",
          "text": [
            "\n",
            "100%|████████████████████████████████████████████████████████████████████████████████████| 1875/1875 [01:10<00:00, 26.66it/s]"
          ]
        },
        {
          "name": "stdout",
          "output_type": "stream",
          "text": [
            "epoch : 77\t Loss : 0.000023\t acc : 99.980000\n"
          ]
        },
        {
          "name": "stderr",
          "output_type": "stream",
          "text": [
            "\n",
            "100%|████████████████████████████████████████████████████████████████████████████████████| 1875/1875 [01:09<00:00, 26.82it/s]"
          ]
        },
        {
          "name": "stdout",
          "output_type": "stream",
          "text": [
            "epoch : 78\t Loss : 0.000012\t acc : 99.986667\n"
          ]
        },
        {
          "name": "stderr",
          "output_type": "stream",
          "text": [
            "\n",
            "100%|████████████████████████████████████████████████████████████████████████████████████| 1875/1875 [01:09<00:00, 26.91it/s]"
          ]
        },
        {
          "name": "stdout",
          "output_type": "stream",
          "text": [
            "epoch : 79\t Loss : 0.000006\t acc : 99.995000\n"
          ]
        },
        {
          "name": "stderr",
          "output_type": "stream",
          "text": [
            "\n",
            "100%|████████████████████████████████████████████████████████████████████████████████████| 1875/1875 [01:06<00:00, 28.19it/s]"
          ]
        },
        {
          "name": "stdout",
          "output_type": "stream",
          "text": [
            "epoch : 80\t Loss : 0.000009\t acc : 99.991667\n"
          ]
        },
        {
          "name": "stderr",
          "output_type": "stream",
          "text": [
            "\n",
            "100%|████████████████████████████████████████████████████████████████████████████████████| 1875/1875 [01:07<00:00, 27.98it/s]"
          ]
        },
        {
          "name": "stdout",
          "output_type": "stream",
          "text": [
            "epoch : 81\t Loss : 0.000004\t acc : 100.000000\n"
          ]
        },
        {
          "name": "stderr",
          "output_type": "stream",
          "text": [
            "\n",
            "100%|████████████████████████████████████████████████████████████████████████████████████| 1875/1875 [01:04<00:00, 29.07it/s]"
          ]
        },
        {
          "name": "stdout",
          "output_type": "stream",
          "text": [
            "epoch : 82\t Loss : 0.000007\t acc : 99.996667\n"
          ]
        },
        {
          "name": "stderr",
          "output_type": "stream",
          "text": [
            "\n",
            "100%|████████████████████████████████████████████████████████████████████████████████████| 1875/1875 [01:10<00:00, 26.53it/s]"
          ]
        },
        {
          "name": "stdout",
          "output_type": "stream",
          "text": [
            "epoch : 83\t Loss : 0.000006\t acc : 99.996667\n"
          ]
        },
        {
          "name": "stderr",
          "output_type": "stream",
          "text": [
            "\n",
            "100%|████████████████████████████████████████████████████████████████████████████████████| 1875/1875 [01:08<00:00, 27.45it/s]"
          ]
        },
        {
          "name": "stdout",
          "output_type": "stream",
          "text": [
            "epoch : 84\t Loss : 0.000015\t acc : 99.991667\n"
          ]
        },
        {
          "name": "stderr",
          "output_type": "stream",
          "text": [
            "\n",
            "100%|████████████████████████████████████████████████████████████████████████████████████| 1875/1875 [01:08<00:00, 27.34it/s]"
          ]
        },
        {
          "name": "stdout",
          "output_type": "stream",
          "text": [
            "epoch : 85\t Loss : 0.000005\t acc : 99.996667\n"
          ]
        },
        {
          "name": "stderr",
          "output_type": "stream",
          "text": [
            "\n",
            "100%|████████████████████████████████████████████████████████████████████████████████████| 1875/1875 [01:05<00:00, 28.44it/s]"
          ]
        },
        {
          "name": "stdout",
          "output_type": "stream",
          "text": [
            "epoch : 86\t Loss : 0.000003\t acc : 100.000000\n"
          ]
        },
        {
          "name": "stderr",
          "output_type": "stream",
          "text": [
            "\n",
            "100%|████████████████████████████████████████████████████████████████████████████████████| 1875/1875 [01:11<00:00, 26.27it/s]"
          ]
        },
        {
          "name": "stdout",
          "output_type": "stream",
          "text": [
            "epoch : 87\t Loss : 0.000007\t acc : 99.991667\n"
          ]
        },
        {
          "name": "stderr",
          "output_type": "stream",
          "text": [
            "\n",
            "100%|████████████████████████████████████████████████████████████████████████████████████| 1875/1875 [01:05<00:00, 28.53it/s]"
          ]
        },
        {
          "name": "stdout",
          "output_type": "stream",
          "text": [
            "epoch : 88\t Loss : 0.000004\t acc : 99.996667\n"
          ]
        },
        {
          "name": "stderr",
          "output_type": "stream",
          "text": [
            "\n",
            "100%|████████████████████████████████████████████████████████████████████████████████████| 1875/1875 [01:10<00:00, 26.71it/s]"
          ]
        },
        {
          "name": "stdout",
          "output_type": "stream",
          "text": [
            "epoch : 89\t Loss : 0.000007\t acc : 99.993333\n"
          ]
        },
        {
          "name": "stderr",
          "output_type": "stream",
          "text": [
            "\n",
            "100%|████████████████████████████████████████████████████████████████████████████████████| 1875/1875 [01:06<00:00, 28.30it/s]"
          ]
        },
        {
          "name": "stdout",
          "output_type": "stream",
          "text": [
            "epoch : 90\t Loss : 0.000007\t acc : 99.996667\n"
          ]
        },
        {
          "name": "stderr",
          "output_type": "stream",
          "text": [
            "\n",
            "100%|████████████████████████████████████████████████████████████████████████████████████| 1875/1875 [01:05<00:00, 28.68it/s]"
          ]
        },
        {
          "name": "stdout",
          "output_type": "stream",
          "text": [
            "epoch : 91\t Loss : 0.000004\t acc : 99.995000\n"
          ]
        },
        {
          "name": "stderr",
          "output_type": "stream",
          "text": [
            "\n",
            "100%|████████████████████████████████████████████████████████████████████████████████████| 1875/1875 [01:05<00:00, 28.74it/s]"
          ]
        },
        {
          "name": "stdout",
          "output_type": "stream",
          "text": [
            "epoch : 92\t Loss : 0.000003\t acc : 99.998333\n"
          ]
        },
        {
          "name": "stderr",
          "output_type": "stream",
          "text": [
            "\n",
            "100%|████████████████████████████████████████████████████████████████████████████████████| 1875/1875 [01:05<00:00, 28.69it/s]"
          ]
        },
        {
          "name": "stdout",
          "output_type": "stream",
          "text": [
            "epoch : 93\t Loss : 0.000002\t acc : 99.998333\n"
          ]
        },
        {
          "name": "stderr",
          "output_type": "stream",
          "text": [
            "\n",
            "100%|████████████████████████████████████████████████████████████████████████████████████| 1875/1875 [01:07<00:00, 27.73it/s]"
          ]
        },
        {
          "name": "stdout",
          "output_type": "stream",
          "text": [
            "epoch : 94\t Loss : 0.000003\t acc : 99.998333\n"
          ]
        },
        {
          "name": "stderr",
          "output_type": "stream",
          "text": [
            "\n",
            "100%|████████████████████████████████████████████████████████████████████████████████████| 1875/1875 [01:05<00:00, 28.59it/s]"
          ]
        },
        {
          "name": "stdout",
          "output_type": "stream",
          "text": [
            "epoch : 95\t Loss : 0.000004\t acc : 99.998333\n"
          ]
        },
        {
          "name": "stderr",
          "output_type": "stream",
          "text": [
            "\n",
            "100%|████████████████████████████████████████████████████████████████████████████████████| 1875/1875 [01:08<00:00, 27.56it/s]"
          ]
        },
        {
          "name": "stdout",
          "output_type": "stream",
          "text": [
            "epoch : 96\t Loss : 0.000001\t acc : 100.000000\n"
          ]
        },
        {
          "name": "stderr",
          "output_type": "stream",
          "text": [
            "\n",
            "100%|████████████████████████████████████████████████████████████████████████████████████| 1875/1875 [01:09<00:00, 26.88it/s]"
          ]
        },
        {
          "name": "stdout",
          "output_type": "stream",
          "text": [
            "epoch : 97\t Loss : 0.000002\t acc : 100.000000\n"
          ]
        },
        {
          "name": "stderr",
          "output_type": "stream",
          "text": [
            "\n",
            "100%|████████████████████████████████████████████████████████████████████████████████████| 1875/1875 [01:07<00:00, 27.87it/s]"
          ]
        },
        {
          "name": "stdout",
          "output_type": "stream",
          "text": [
            "epoch : 98\t Loss : 0.000007\t acc : 99.993333\n"
          ]
        },
        {
          "name": "stderr",
          "output_type": "stream",
          "text": [
            "\n",
            "100%|████████████████████████████████████████████████████████████████████████████████████| 1875/1875 [01:08<00:00, 27.45it/s]"
          ]
        },
        {
          "name": "stdout",
          "output_type": "stream",
          "text": [
            "epoch : 99\t Loss : 0.000008\t acc : 99.990000\n"
          ]
        },
        {
          "name": "stderr",
          "output_type": "stream",
          "text": [
            "\n",
            "100%|████████████████████████████████████████████████████████████████████████████████████| 1875/1875 [01:09<00:00, 27.14it/s]"
          ]
        },
        {
          "name": "stdout",
          "output_type": "stream",
          "text": [
            "epoch : 100\t Loss : 0.000003\t acc : 99.996667\n"
          ]
        },
        {
          "name": "stderr",
          "output_type": "stream",
          "text": [
            "\n"
          ]
        }
      ],
      "source": [
        "# label값을 tensor로 바꾼후 model을 예측을 max로 바꾼후 loss 계산\n",
        "from tqdm import tqdm\n",
        "\n",
        "train_loss = []\n",
        "\n",
        "train_acc = []\n",
        "\n",
        "\n",
        "\n",
        "\n",
        "for epoch in range(100):\n",
        "    model.train()\n",
        "\n",
        "    cost = 0\n",
        "    \n",
        "    epoch_loss = 0\n",
        "    \n",
        "    acc = 0\n",
        "    \n",
        "    epoch_acc = 0\n",
        "    \n",
        "\n",
        "    for batch, train in tqdm(enumerate(train_loader), total=len(train_loader)):\n",
        "        data, label = train\n",
        "        \n",
        "        data = data.to(device)\n",
        "        \n",
        "        label = label.to(device)\n",
        "        \n",
        "        opt.zero_grad()\n",
        "        \n",
        "        out = model(data)\n",
        "        \n",
        "        loss = criterion(out, label)\n",
        "        \n",
        "        pred = out\n",
        "        \n",
        "        pred = pred.max(dim=1, keepdim=True)[1]\n",
        "        \n",
        "        cost += loss.item()\n",
        "        \n",
        "        acc += pred.eq(label.view_as(pred)).sum().item()\n",
        "        \n",
        "        loss.backward()\n",
        "        opt.step()\n",
        "        \n",
        "\n",
        "        \n",
        "    epoch_loss = cost / len(train_loader.dataset)\n",
        "    \n",
        "    epoch_acc = (acc / len(train_loader.dataset)) * 100.\n",
        "    \n",
        "    \n",
        "    train_loss.append(epoch_loss)\n",
        "    train_acc.append(epoch_acc)\n",
        "\n",
        "\n",
        "    print(f'epoch : {epoch+1}\\t Loss : {epoch_loss:.6f}\\t acc : {epoch_acc:.6f}')\n",
        "    \n",
        "\n",
        "    scheduler.step()"
      ]
    },
    {
      "cell_type": "code",
      "execution_count": null,
      "id": "9dedca6f",
      "metadata": {
        "id": "9dedca6f"
      },
      "outputs": [],
      "source": [
        "def test(model, test_loader):\n",
        "    model.eval()\n",
        "    with torch.no_grad():\n",
        "\n",
        "        val_loss = 0\n",
        "        correct = 0\n",
        "\n",
        "        for batch_idx, sample in tqdm(enumerate(test_loader), total=len(test_loader0)):\n",
        "            data, label = sample\n",
        "            data = data.to(cuda)\n",
        "\n",
        "            output = model(data)\n",
        "            loss = criterion(output, label)\n",
        "            val_loss += loss.item()\n",
        "\n",
        "            prediction = output.max(1, keepdim=True)[1]\n",
        "            correct += prediction.eq(label.view_as(prediction)).sum().item()\n",
        "\n",
        "        val_loss /= len(test_loader.dataset)\n",
        "        val_acc = (100. * correct) / len(test_loader.dataset)\n",
        "\n",
        "\n",
        "        return val_loss, val_acc\n"
      ]
    },
    {
      "cell_type": "code",
      "execution_count": null,
      "id": "ba3fd88f",
      "metadata": {
        "id": "ba3fd88f",
        "outputId": "39804acc-7d49-4f79-bd53-3fd03fcd919f"
      },
      "outputs": [
        {
          "data": {
            "text/plain": [
              "(7.853079674167323e-05, 99.91833333333334)"
            ]
          },
          "execution_count": 454,
          "metadata": {},
          "output_type": "execute_result"
        }
      ],
      "source": [
        "evaluate(model, val_loader)"
      ]
    },
    {
      "cell_type": "markdown",
      "id": "e5f1bf8f",
      "metadata": {
        "id": "e5f1bf8f"
      },
      "source": [
        "# 저장"
      ]
    },
    {
      "cell_type": "code",
      "execution_count": null,
      "id": "3b80e4f2",
      "metadata": {
        "id": "3b80e4f2"
      },
      "outputs": [],
      "source": [
        "def submission(model, test_loader):\n",
        "    prediction = np.array([], dtype='uint8')\n",
        "    model.eval()\n",
        "    with torch.no_grad():\n",
        "\n",
        "        for batch_idx, sample in enumerate(test_loader):\n",
        "            data = sample\n",
        "            data = data.to(device)\n",
        "\n",
        "            output = model(data)\n",
        "            \n",
        "            out = output.max(1, keepdim=True)[1].cpu().numpy()\n",
        "            out = np.reshape(out, out.shape[0])\n",
        "            prediction = np.hstack((prediction, out))\n",
        "        \n",
        "        pred = prediction.reshape(20800, 1)\n",
        "        submission = pd.DataFrame(pred, columns=['Category'])\n",
        "        submission.index.name = 'Id'\n",
        "\n",
        "        submission.to_csv('./submission/submission_0228_5.csv')"
      ]
    },
    {
      "cell_type": "code",
      "execution_count": null,
      "id": "11aee3da",
      "metadata": {
        "id": "11aee3da"
      },
      "outputs": [],
      "source": [
        "submission(model, test_loader)"
      ]
    },
    {
      "cell_type": "code",
      "execution_count": null,
      "id": "8705fc46",
      "metadata": {
        "id": "8705fc46"
      },
      "outputs": [],
      "source": [
        "torch.save(model, './model/result/dae_resnet18_submission_emnist.pt')"
      ]
    },
    {
      "cell_type": "code",
      "execution_count": null,
      "id": "33741955",
      "metadata": {
        "id": "33741955",
        "outputId": "fe88354a-3010-4c8b-d76b-1665cdf34008"
      },
      "outputs": [
        {
          "data": {
            "text/plain": [
              "<matplotlib.image.AxesImage at 0x7f92a27d3460>"
            ]
          },
          "execution_count": 242,
          "metadata": {},
          "output_type": "execute_result"
        },
        {
          "data": {
            "image/png": "[encoded data removed]",
            "text/plain": [
              "<Figure size 432x288 with 1 Axes>"
            ]
          },
          "metadata": {
            "needs_background": "light"
          },
          "output_type": "display_data"
        }
      ],
      "source": [
        "a = train_dataset[418][0]\n",
        "a = a.reshape(1, 1, 28, 28).to(device)\n",
        "model.eval()\n",
        "out = dae(a)\n",
        "plt.imshow(out.to('cpu').detach().numpy().squeeze())"
      ]
    },
    {
      "cell_type": "code",
      "execution_count": null,
      "id": "c33e431a",
      "metadata": {
        "id": "c33e431a"
      },
      "outputs": [],
      "source": [
        ""
      ]
    }
  ],
  "metadata": {
    "kernelspec": {
      "display_name": "Python 3 (ipykernel)",
      "language": "python",
      "name": "python3"
    },
    "language_info": {
      "codemirror_mode": {
        "name": "ipython",
        "version": 3
      },
      "file_extension": ".py",
      "mimetype": "text/x-python",
      "name": "python",
      "nbconvert_exporter": "python",
      "pygments_lexer": "ipython3",
      "version": "3.8.3"
    },
    "colab": {
      "name": "dae_resnet.ipynb",
      "provenance": [],
      "collapsed_sections": [
        "3c625050",
        "5ed131b9",
        "dad64567",
        "abf3fb6e",
        "54d5086b",
        "BS-GNdG72PTZ",
        "f38dbd10",
        "901dc2fb",
        "e4d5c69d",
        "03f49310",
        "e5f1bf8f"
      ]
    }
  },
  "nbformat": 4,
  "nbformat_minor": 5
}