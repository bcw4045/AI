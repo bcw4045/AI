{
  "cells": [
    {
      "cell_type": "markdown",
      "source": [
        "# 라이브러리 임포트"
      ],
      "metadata": {
        "id": "KKWsCX6iD3lY"
      },
      "id": "KKWsCX6iD3lY"
    },
    {
      "cell_type": "code",
      "execution_count": null,
      "id": "ace9f48f",
      "metadata": {
        "id": "ace9f48f"
      },
      "outputs": [],
      "source": [
        "from torchvision.datasets import MNIST\n",
        "import numpy as np\n",
        "import torch.nn as nn\n",
        "import torch.nn.functional as F\n",
        "from torch.utils.data.dataloader import DataLoader\n",
        "from torchvision.transforms import transforms\n",
        "import matplotlib.pyplot as plt\n",
        "import torch"
      ]
    },
    {
      "cell_type": "markdown",
      "source": [
        "# CUDA 설정"
      ],
      "metadata": {
        "id": "-IKUUds9D8MI"
      },
      "id": "-IKUUds9D8MI"
    },
    {
      "cell_type": "code",
      "execution_count": null,
      "id": "8c584032",
      "metadata": {
        "id": "8c584032",
        "outputId": "d8beff04-8038-4f61-a220-add0c45fa622"
      },
      "outputs": [
        {
          "name": "stdout",
          "output_type": "stream",
          "text": [
            "cuda\n"
          ]
        }
      ],
      "source": [
        "if torch.cuda.is_available():\n",
        "    cuda = torch.device('cuda')\n",
        "else:\n",
        "    cuda = torch.device('cpu')\n",
        "\n",
        "print(cuda)"
      ]
    },
    {
      "cell_type": "markdown",
      "source": [
        "# 데이터 전처리 및 로드"
      ],
      "metadata": {
        "id": "E4o7isZvD-IW"
      },
      "id": "E4o7isZvD-IW"
    },
    {
      "cell_type": "markdown",
      "source": [
        "## data augmentation"
      ],
      "metadata": {
        "id": "u35jYI_4EDXy"
      },
      "id": "u35jYI_4EDXy"
    },
    {
      "cell_type": "code",
      "execution_count": null,
      "id": "85031740",
      "metadata": {
        "id": "85031740"
      },
      "outputs": [],
      "source": [
        "train_trans = transforms.Compose([\n",
        "    transforms.ToTensor(),\n",
        "    transforms.Normalize(0.5, 0.5),\n",
        "    transforms.RandomCrop(28, padding=4),\n",
        "    transforms.RandomChoice([\n",
        "        transforms.RandomHorizontalFlip(),\n",
        "        transforms.RandomVerticalFlip()\n",
        "    ]),\n",
        "    transforms.RandomRotation((0, 360))\n",
        "])\n",
        "\n",
        "test_trans = transforms.Compose([\n",
        "    transforms.ToTensor(),\n",
        "    transforms.Normalize(0.5, 0.5)\n",
        "])"
      ]
    },
    {
      "cell_type": "markdown",
      "source": [
        "## data load"
      ],
      "metadata": {
        "id": "4TtCan8bEGI3"
      },
      "id": "4TtCan8bEGI3"
    },
    {
      "cell_type": "code",
      "execution_count": null,
      "id": "76bc85d1",
      "metadata": {
        "id": "76bc85d1"
      },
      "outputs": [],
      "source": [
        "train_data = MNIST(root='./data', download=True, train=True, transform=train_trans)\n",
        "test_data = MNIST(root='./data', download=True, train=False, transform=test_trans)"
      ]
    },
    {
      "cell_type": "code",
      "execution_count": null,
      "id": "1a47dca6",
      "metadata": {
        "id": "1a47dca6"
      },
      "outputs": [],
      "source": [
        "batch_size = 128\n",
        "torch.manual_seed(777)\n",
        "train_load = DataLoader(train_data, batch_size, num_workers=4, shuffle=True)\n",
        "test_load = DataLoader(test_data, batch_size, num_workers=4, shuffle=True)"
      ]
    },
    {
      "cell_type": "markdown",
      "source": [
        "## 데이터 시각화"
      ],
      "metadata": {
        "id": "zvjYq2OvEJ1O"
      },
      "id": "zvjYq2OvEJ1O"
    },
    {
      "cell_type": "code",
      "execution_count": null,
      "id": "561d171a",
      "metadata": {
        "id": "561d171a",
        "outputId": "45a42d0d-2c7d-4f3e-ba11-094f310fd5ff"
      },
      "outputs": [
        {
          "name": "stdout",
          "output_type": "stream",
          "text": [
            "39370\n",
            "(1, 28, 28)\n",
            "(28, 28, 1)\n"
          ]
        },
        {
          "data": {
            "image/png": "[encoded data removed]",
            "text/plain": [
              "<Figure size 432x288 with 1 Axes>"
            ]
          },
          "metadata": {
            "needs_background": "light"
          },
          "output_type": "display_data"
        }
      ],
      "source": [
        "def imshow(img):\n",
        "    show_img = img.numpy()\n",
        "    print(show_img.shape)\n",
        "    plt.imshow(np.transpose(show_img, (1, 2, 0)), cmap=\"gray\")\n",
        "    print(np.transpose(show_img, (1, 2, 0)).shape)\n",
        "    plt.show()\n",
        "\n",
        "rand = np.random.randint(len(train_data))\n",
        "print(rand)\n",
        "imshow(train_data[rand][0])"
      ]
    },
    {
      "cell_type": "markdown",
      "source": [
        "# 모델 정의"
      ],
      "metadata": {
        "id": "zqe0nRotET4G"
      },
      "id": "zqe0nRotET4G"
    },
    {
      "cell_type": "markdown",
      "source": [
        "## Pretrained-model"
      ],
      "metadata": {
        "id": "EIsI91lKrpkY"
      },
      "id": "EIsI91lKrpkY"
    },
    {
      "cell_type": "code",
      "source": [
        "model = torchvision.models.densenet161(pretrained=True)\n",
        "# for param in model.parameters():  # weight를 고정시키고 사용할 경우 쓰는 코드\n",
        "#     param.requires_grad = False"
      ],
      "metadata": {
        "id": "-kR2ZpT8ruH_"
      },
      "id": "-kR2ZpT8ruH_",
      "execution_count": null,
      "outputs": []
    },
    {
      "cell_type": "code",
      "source": [
        "# 출력층과 입력층을 데이터에 맞게 변환\n",
        "model.features.conv0 = nn.Conv2d(1, 96, kernel_size=(7, 7), stride=(2, 2), padding=(3, 3), bias=False)\n",
        "model.classifier = nn.Sequential(\n",
        "    nn.Linear(2208, 256, True),\n",
        "    nn.ReLU(),\n",
        "    nn.Linear(256, 128, True),\n",
        "    nn.ReLU(),\n",
        "    nn.Linear(128, 10, True)\n",
        ")\n"
      ],
      "metadata": {
        "id": "vN5Dmp9Krzao"
      },
      "id": "vN5Dmp9Krzao",
      "execution_count": null,
      "outputs": []
    },
    {
      "cell_type": "markdown",
      "source": [
        "## DNN"
      ],
      "metadata": {
        "id": "ytToGyy3rZFd"
      },
      "id": "ytToGyy3rZFd"
    },
    {
      "cell_type": "code",
      "source": [
        "class DNN(nn.Module):\n",
        "    def __init__(self, num_class=10):\n",
        "        super(DNN, self).__init__()     \n",
        "        self.layer1 = nn.Linear(28*28, 256)\n",
        "        self.dropout1 = nn.Dropout(0.5)\n",
        "        self.layer2 = nn.Linear(256, 128)\n",
        "        self.dropout2 = nn.Dropout(0.5)\n",
        "        self.layer3 = nn.Linear(128, num_class)\n",
        "        self.model = nn.Sequential(\n",
        "            self.layer1,\n",
        "            nn.BatchNorm1d(256),\n",
        "            nn.ReLU(),\n",
        "            self.dropout1,\n",
        "            self.layer2,\n",
        "            nn.BatchNorm1d(128),\n",
        "            nn.ReLU(),\n",
        "            self.layer3\n",
        "        )\n",
        "    \n",
        "    def forward(self, x):\n",
        "        out = self.model(x.view(-1, 28*28))\n",
        "        return out"
      ],
      "metadata": {
        "id": "7bfXrGJ6rYzJ"
      },
      "id": "7bfXrGJ6rYzJ",
      "execution_count": null,
      "outputs": []
    },
    {
      "cell_type": "markdown",
      "source": [
        "## CNN"
      ],
      "metadata": {
        "id": "W8wH8z2prWMh"
      },
      "id": "W8wH8z2prWMh"
    },
    {
      "cell_type": "code",
      "execution_count": null,
      "id": "5bf9b836",
      "metadata": {
        "id": "5bf9b836"
      },
      "outputs": [],
      "source": [
        "class CNN(nn.Module):\n",
        "    def __init__(self, num_classes = 10):\n",
        "        super(CNN, self).__init__()\n",
        "        self.conv1 = nn.Sequential(\n",
        "            nn.Conv2d(1, 64, kernel_size = (3, 3), stride=1, padding=1),\n",
        "            #nn.BatchNorm2d(64),\n",
        "            nn.ReLU()#,\n",
        "            #nn.Dropout(0.5)\n",
        "        )\n",
        "        self.maxpool = nn.MaxPool2d(2)\n",
        "        self.conv2 = nn.Sequential(\n",
        "            nn.Conv2d(64, 64, kernel_size = (3, 3), stride=1, padding=1),\n",
        "            #nn.BatchNorm2d(64),\n",
        "            nn.ReLU()#,\n",
        "            #nn.Dropout(0.5)\n",
        "        )\n",
        "        \n",
        "        self.conv3 = nn.Sequential(\n",
        "            nn.Conv2d(64, 128, kernel_size = (3, 3), stride=1, padding=1),\n",
        "            #nn.BatchNorm2d(128),\n",
        "            nn.ReLU()#,\n",
        "            #nn.Dropout(0.5)\n",
        "        )\n",
        "        \n",
        "        self.conv4 = nn.Sequential(\n",
        "            nn.Conv2d(128, 128, kernel_size = (3, 3), stride=1, padding=1),\n",
        "            #nn.BatchNorm2d(128),\n",
        "            nn.ReLU()#,\n",
        "            #nn.Dropout(0.5)\n",
        "        )\n",
        "        \n",
        "        self.conv5 = nn.Sequential(\n",
        "            nn.Conv2d(128, 256, kernel_size = (3, 3), stride=1, padding=1),\n",
        "            #nn.BatchNorm2d(256),\n",
        "            nn.ReLU()#,\n",
        "           # nn.Dropout(0.5)\n",
        "        )\n",
        "        \n",
        "        self.conv6 = nn.Sequential(\n",
        "            nn.Conv2d(256, 256, kernel_size = (3, 3), stride=1, padding=1),\n",
        "            #nn.BatchNorm2d(256),\n",
        "            nn.ReLU()#,\n",
        "            #nn.Dropout(0.5)\n",
        "        )\n",
        "        \n",
        "        self.conv7 = nn.Sequential(\n",
        "            nn.Conv2d(256, 512, kernel_size = (3, 3), stride=1, padding=1),\n",
        "            #nn.BatchNorm2d(512),\n",
        "            nn.ReLU()#,\n",
        "            #nn.Dropout(0.5)\n",
        "        )\n",
        "        \n",
        "        self.conv8 = nn.Sequential(\n",
        "            nn.Conv2d(512, 512, kernel_size = (3, 3), stride=1, padding=1),\n",
        "            #nn.BatchNorm2d(512),\n",
        "            nn.ReLU()\n",
        "        )\n",
        "        \n",
        "        self.fc = nn.Sequential(\n",
        "            nn.Linear(512*3*3, 256),\n",
        "            nn.ReLU(),\n",
        "            nn.Dropout(0.5),\n",
        "            nn.Linear(256, 128),\n",
        "            nn.ReLU(),\n",
        "            nn.Linear(128, num_classes)\n",
        "        )\n",
        "        \n",
        "    def forward(self, x):\n",
        "        x=self.conv1(x)\n",
        "        x=self.maxpool(x)\n",
        "        x=self.conv2(x)\n",
        "        \n",
        "        x=self.conv3(x)\n",
        "        x=self.maxpool(x)\n",
        "        x=self.conv4(x)\n",
        "        \n",
        "        x=self.maxpool(x)\n",
        "        x=self.conv5(x)\n",
        "        x=self.conv6(x)\n",
        "        x=self.conv7(x)\n",
        "        x=self.conv8(x)\n",
        "        \n",
        "        x=x.view(x.size(0), -1)\n",
        "        x = self.fc(x)\n",
        "\n",
        "        return x"
      ]
    },
    {
      "cell_type": "markdown",
      "source": [
        "## 모델 선언"
      ],
      "metadata": {
        "id": "HFYGjILWrc0U"
      },
      "id": "HFYGjILWrc0U"
    },
    {
      "cell_type": "code",
      "execution_count": null,
      "id": "a7eed4a7",
      "metadata": {
        "scrolled": true,
        "id": "a7eed4a7",
        "outputId": "b610309f-17af-491f-be04-e13403982d8b"
      },
      "outputs": [
        {
          "name": "stdout",
          "output_type": "stream",
          "text": [
            "CNN(\n",
            "  (conv1): Sequential(\n",
            "    (0): Conv2d(1, 64, kernel_size=(3, 3), stride=(1, 1), padding=(1, 1))\n",
            "    (1): ReLU()\n",
            "  )\n",
            "  (maxpool): MaxPool2d(kernel_size=2, stride=2, padding=0, dilation=1, ceil_mode=False)\n",
            "  (conv2): Sequential(\n",
            "    (0): Conv2d(64, 64, kernel_size=(3, 3), stride=(1, 1), padding=(1, 1))\n",
            "    (1): ReLU()\n",
            "  )\n",
            "  (conv3): Sequential(\n",
            "    (0): Conv2d(64, 128, kernel_size=(3, 3), stride=(1, 1), padding=(1, 1))\n",
            "    (1): ReLU()\n",
            "  )\n",
            "  (conv4): Sequential(\n",
            "    (0): Conv2d(128, 128, kernel_size=(3, 3), stride=(1, 1), padding=(1, 1))\n",
            "    (1): ReLU()\n",
            "  )\n",
            "  (conv5): Sequential(\n",
            "    (0): Conv2d(128, 256, kernel_size=(3, 3), stride=(1, 1), padding=(1, 1))\n",
            "    (1): ReLU()\n",
            "  )\n",
            "  (conv6): Sequential(\n",
            "    (0): Conv2d(256, 256, kernel_size=(3, 3), stride=(1, 1), padding=(1, 1))\n",
            "    (1): ReLU()\n",
            "  )\n",
            "  (conv7): Sequential(\n",
            "    (0): Conv2d(256, 512, kernel_size=(3, 3), stride=(1, 1), padding=(1, 1))\n",
            "    (1): ReLU()\n",
            "  )\n",
            "  (conv8): Sequential(\n",
            "    (0): Conv2d(512, 512, kernel_size=(3, 3), stride=(1, 1), padding=(1, 1))\n",
            "    (1): ReLU()\n",
            "  )\n",
            "  (fc): Sequential(\n",
            "    (0): Linear(in_features=4608, out_features=256, bias=True)\n",
            "    (1): ReLU()\n",
            "    (2): Dropout(p=0.5, inplace=False)\n",
            "    (3): Linear(in_features=256, out_features=128, bias=True)\n",
            "    (4): ReLU()\n",
            "    (5): Linear(in_features=128, out_features=10, bias=True)\n",
            "  )\n",
            ")\n"
          ]
        }
      ],
      "source": [
        "model = CNN()\n",
        "print(model)"
      ]
    },
    {
      "cell_type": "markdown",
      "source": [
        "# 평가 함수"
      ],
      "metadata": {
        "id": "1NEvz6JuEW1_"
      },
      "id": "1NEvz6JuEW1_"
    },
    {
      "cell_type": "code",
      "execution_count": null,
      "id": "59bfd693",
      "metadata": {
        "id": "59bfd693"
      },
      "outputs": [],
      "source": [
        "def evaluate(model, test_loader):\n",
        "    model.eval()\n",
        "    \n",
        "    val_loss = 0\n",
        "    correct = 0\n",
        "    \n",
        "    with torch.no_grad():\n",
        "        for batch_idx, sample in enumerate(test_loader):\n",
        "            data, label = sample\n",
        "            data = data.to(cuda)\n",
        "            label = label.to(cuda)\n",
        "\n",
        "            output = model(data)\n",
        "            loss = criterion(output,label)\n",
        "            val_loss += loss.item()\n",
        "\n",
        "            prediction = output.max(1, keepdim=True)[1]\n",
        "            correct += prediction.eq(label.view_as(prediction)).sum().item()\n",
        "\n",
        "        val_loss /= len(test_loader.dataset)\n",
        "        val_acc = (100. * correct) / len(test_loader.dataset)\n",
        "\n",
        "\n",
        "    return val_loss, val_acc"
      ]
    },
    {
      "cell_type": "markdown",
      "source": [
        "# 학습"
      ],
      "metadata": {
        "id": "BJCy89JmEaan"
      },
      "id": "BJCy89JmEaan"
    },
    {
      "cell_type": "code",
      "execution_count": null,
      "id": "1f7dba82",
      "metadata": {
        "id": "1f7dba82",
        "outputId": "79fdb75b-4f48-45d7-9f2d-c44e46417fae"
      },
      "outputs": [
        {
          "name": "stdout",
          "output_type": "stream",
          "text": [
            "epoch : 1\t Loss : 0.014442\t Acc : 28.816666666666666\n",
            "(0.009659464514255523, 50.16)\n",
            "epoch : 2\t Loss : 0.008966\t Acc : 57.68333333333333\n",
            "(0.007453957045078278, 66.63)\n",
            "epoch : 3\t Loss : 0.006870\t Acc : 68.62333333333333\n",
            "(0.006364388579130173, 72.64)\n",
            "epoch : 4\t Loss : 0.005460\t Acc : 76.96\n",
            "(0.003852068844437599, 83.53)\n",
            "epoch : 5\t Loss : 0.004437\t Acc : 81.67\n",
            "(0.0036188308298587797, 83.94)\n",
            "epoch : 6\t Loss : 0.004057\t Acc : 83.58166666666666\n",
            "(0.0034347049236297606, 85.93)\n",
            "epoch : 7\t Loss : 0.003652\t Acc : 85.265\n",
            "(0.0032415734469890592, 86.19)\n",
            "epoch : 8\t Loss : 0.003442\t Acc : 85.94\n",
            "(0.0025518768824636935, 88.89)\n",
            "epoch : 9\t Loss : 0.003271\t Acc : 86.73\n",
            "(0.0026990519627928733, 89.55)\n",
            "epoch : 10\t Loss : 0.003176\t Acc : 87.15\n",
            "(0.0026680547028779984, 88.25)\n",
            "epoch : 11\t Loss : 0.002926\t Acc : 88.085\n",
            "(0.0025316192552447317, 89.08)\n",
            "epoch : 12\t Loss : 0.002852\t Acc : 88.4\n",
            "(0.002407360449433327, 90.51)\n",
            "epoch : 13\t Loss : 0.002765\t Acc : 88.91\n",
            "(0.0025532616555690767, 90.03)\n",
            "epoch : 14\t Loss : 0.002717\t Acc : 88.98\n",
            "(0.0026266730189323426, 89.8)\n",
            "epoch : 15\t Loss : 0.002623\t Acc : 89.365\n",
            "(0.0024141766518354416, 89.92)\n",
            "epoch : 16\t Loss : 0.002541\t Acc : 89.53833333333333\n",
            "(0.0022448158726096155, 90.86)\n",
            "epoch : 17\t Loss : 0.002504\t Acc : 89.74\n",
            "(0.002352826439589262, 90.46)\n",
            "epoch : 18\t Loss : 0.002505\t Acc : 89.65333333333334\n",
            "(0.002121142414212227, 90.59)\n",
            "epoch : 19\t Loss : 0.002477\t Acc : 89.87166666666667\n",
            "(0.002457711064442992, 90.17)\n",
            "epoch : 20\t Loss : 0.002396\t Acc : 90.21\n",
            "(0.0022408108085393906, 91.87)\n",
            "epoch : 21\t Loss : 0.002286\t Acc : 90.67666666666666\n",
            "(0.0022185423254966734, 91.13)\n",
            "epoch : 22\t Loss : 0.002220\t Acc : 90.81833333333333\n",
            "(0.001956918066740036, 92.27)\n",
            "epoch : 23\t Loss : 0.002225\t Acc : 90.94166666666666\n",
            "(0.001969915169477463, 92.49)\n",
            "epoch : 24\t Loss : 0.002176\t Acc : 91.17\n",
            "(0.0020264217972755434, 91.26)\n",
            "epoch : 25\t Loss : 0.002157\t Acc : 91.145\n",
            "(0.0016621543437242508, 93.54)\n",
            "epoch : 26\t Loss : 0.002085\t Acc : 91.33833333333334\n",
            "(0.0015153815783560277, 94.43)\n",
            "epoch : 27\t Loss : 0.002082\t Acc : 91.44166666666666\n",
            "(0.0018181296259164811, 93.11)\n",
            "epoch : 28\t Loss : 0.002060\t Acc : 91.555\n",
            "(0.0020853577435016634, 92.29)\n",
            "epoch : 29\t Loss : 0.002039\t Acc : 91.54666666666667\n",
            "(0.0017576532624661923, 93.55)\n",
            "epoch : 30\t Loss : 0.001987\t Acc : 91.78833333333333\n",
            "(0.0017841196469962598, 93.15)\n",
            "epoch : 31\t Loss : 0.001948\t Acc : 91.99666666666667\n",
            "(0.0018043203428387642, 92.79)\n",
            "epoch : 32\t Loss : 0.001897\t Acc : 92.15666666666667\n",
            "(0.001673684123158455, 93.86)\n",
            "epoch : 33\t Loss : 0.001894\t Acc : 92.195\n",
            "(0.0016030094869434834, 93.92)\n",
            "epoch : 34\t Loss : 0.001885\t Acc : 92.25333333333333\n",
            "(0.0018785298377275467, 91.78)\n",
            "epoch : 35\t Loss : 0.001835\t Acc : 92.57333333333334\n",
            "(0.0018669649109244347, 92.85)\n",
            "epoch : 36\t Loss : 0.001829\t Acc : 92.52666666666667\n",
            "(0.0018077718928456307, 93.12)\n",
            "epoch : 37\t Loss : 0.001786\t Acc : 92.59166666666667\n",
            "(0.002062336640805006, 91.73)\n",
            "epoch : 38\t Loss : 0.001794\t Acc : 92.66166666666666\n",
            "(0.0017484149672091008, 92.99)\n",
            "epoch : 39\t Loss : 0.001845\t Acc : 92.44666666666667\n",
            "(0.002102857438288629, 90.57)\n",
            "epoch : 40\t Loss : 0.001770\t Acc : 92.805\n",
            "(0.0015071935124695301, 94.06)\n",
            "epoch : 41\t Loss : 0.001683\t Acc : 93.16666666666667\n",
            "(0.001658821365237236, 93.39)\n",
            "epoch : 42\t Loss : 0.001688\t Acc : 93.18166666666667\n",
            "(0.001576394459605217, 94.26)\n",
            "epoch : 43\t Loss : 0.001664\t Acc : 93.18\n",
            "(0.0015732773423194886, 93.6)\n",
            "epoch : 44\t Loss : 0.001642\t Acc : 93.26833333333333\n",
            "(0.0016300589852035045, 94.3)\n",
            "epoch : 45\t Loss : 0.001645\t Acc : 93.20833333333333\n",
            "(0.0017212846715003252, 93.14)\n",
            "epoch : 46\t Loss : 0.001627\t Acc : 93.21\n",
            "(0.001601284860819578, 93.98)\n",
            "epoch : 47\t Loss : 0.001581\t Acc : 93.42166666666667\n",
            "(0.0015221177779138088, 94.45)\n",
            "epoch : 48\t Loss : 0.001604\t Acc : 93.455\n",
            "(0.0012995572946965695, 95.23)\n",
            "epoch : 49\t Loss : 0.001561\t Acc : 93.515\n",
            "(0.0014447238594293595, 94.14)\n",
            "epoch : 50\t Loss : 0.001570\t Acc : 93.57\n",
            "(0.0013538471568375827, 94.82)\n"
          ]
        }
      ],
      "source": [
        "opt = torch.optim.Adam([param for param in model.parameters() if param.requires_grad], lr=0.001)\n",
        "# 미분값이 0에 가까워질수록 학습률을 줄여주기 위해 사용한다. lr에 감마값을 곱해준다.\n",
        "scheduler = torch.optim.lr_scheduler.StepLR(opt,step_size = 10, gamma = 0.8) \n",
        "criterion = nn.CrossEntropyLoss().to(cuda)\n",
        "save_path = '/MNIST/MNIST_CNN_models/'\n",
        "model = model.to(cuda)\n",
        "\n",
        "for epoch in range(50):\n",
        "    model.train()\n",
        "\n",
        "    train_acc = []\n",
        "    train_loss = []\n",
        "\n",
        "    for batch, train in enumerate(train_load):\n",
        "        data, label = train\n",
        "\n",
        "        data = data.to(cuda)\n",
        "        label = label.to(cuda)\n",
        "\n",
        "        out = model(data)\n",
        "\n",
        "        loss = criterion(out, label)\n",
        "\n",
        "        train_loss += [loss.item()]\n",
        "\n",
        "        pred = out.max(1, keepdim=True)[1]\n",
        "\n",
        "        acc = pred.eq(label.view_as(pred)).sum().item()\n",
        "\n",
        "        train_acc += [acc]\n",
        "\n",
        "        opt.zero_grad()\n",
        "        loss.backward()\n",
        "        opt.step()\n",
        "\n",
        "        #print(f'Batch Size : {batch+1}\\t Loss : {loss.item():.6f}\\t Acc : {100*(acc / len(data))}')\n",
        "\n",
        "    epoch_loss = sum(train_loss) / len(train_load.dataset)\n",
        "    epoch_acc = (100.*sum(train_acc)) / len(train_load.dataset)\n",
        "    print(f'epoch : {epoch+1}\\t Loss : {epoch_loss:.6f}\\t Acc : {epoch_acc}')\n",
        "    print(evaluate(model, test_load))\n",
        "\n",
        "    scheduler.step()\n",
        "\n",
        "#     if (epoch+1) % 50 == 0:\n",
        "#         torch.save(model.state_dict(), save_path+'model_12'+str(epoch+1)+'.pth')\n",
        "        "
      ]
    },
    {
      "cell_type": "code",
      "execution_count": null,
      "id": "b1fed4b8",
      "metadata": {
        "id": "b1fed4b8"
      },
      "outputs": [],
      "source": [
        ""
      ]
    }
  ],
  "metadata": {
    "kernelspec": {
      "display_name": "Python 3",
      "language": "python",
      "name": "python3"
    },
    "language_info": {
      "codemirror_mode": {
        "name": "ipython",
        "version": 3
      },
      "file_extension": ".py",
      "mimetype": "text/x-python",
      "name": "python",
      "nbconvert_exporter": "python",
      "pygments_lexer": "ipython3",
      "version": "3.8.3"
    },
    "colab": {
      "name": "MNIST_CNN.ipynb",
      "provenance": [],
      "collapsed_sections": []
    }
  },
  "nbformat": 4,
  "nbformat_minor": 5
}