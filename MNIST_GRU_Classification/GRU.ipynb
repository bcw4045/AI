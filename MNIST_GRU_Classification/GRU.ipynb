{
  "cells": [
    {
      "cell_type": "markdown",
      "id": "b09b090c",
      "metadata": {
        "id": "b09b090c"
      },
      "source": [
        "# 라이브러리 임포트 "
      ]
    },
    {
      "cell_type": "code",
      "execution_count": null,
      "id": "d65cb74c",
      "metadata": {
        "id": "d65cb74c"
      },
      "outputs": [],
      "source": [
        "import torch\n",
        "import torch.nn as nn\n",
        "import torch.nn.functional as F\n",
        "import torch.optim as optim\n",
        "from torchvision import datasets, transforms\n",
        "from torch.autograd import Variable\n",
        "import os\n",
        "import matplotlib.pyplot as plt\n",
        "import numpy as np\n",
        "from torchvision.datasets import MNIST\n",
        "import numpy as np\n",
        "import torch.nn as nn\n",
        "import torch.nn.functional as F\n",
        "from torch.utils.data.dataloader import DataLoader\n",
        "from torchvision.transforms import transforms"
      ]
    },
    {
      "cell_type": "markdown",
      "id": "f116f182",
      "metadata": {
        "id": "f116f182"
      },
      "source": [
        "# CUDA 설정"
      ]
    },
    {
      "cell_type": "code",
      "execution_count": null,
      "id": "e33ddcd6",
      "metadata": {
        "id": "e33ddcd6",
        "outputId": "781f82a1-7d24-4ba8-8d2a-e51a1b611713"
      },
      "outputs": [
        {
          "name": "stdout",
          "output_type": "stream",
          "text": [
            "cuda\n"
          ]
        }
      ],
      "source": [
        "if torch.cuda.is_available():\n",
        "    cuda = torch.device('cuda')\n",
        "else:\n",
        "    cuda = torch.device('cpu')\n",
        "\n",
        "print(cuda)"
      ]
    },
    {
      "cell_type": "code",
      "execution_count": null,
      "id": "89c4c277",
      "metadata": {
        "id": "89c4c277",
        "outputId": "58a505cc-6f58-4de1-b800-b5ee3be3537a"
      },
      "outputs": [
        {
          "data": {
            "text/plain": [
              "<torch._C.Generator at 0x7f4a500f4770>"
            ]
          },
          "execution_count": 539,
          "metadata": {},
          "output_type": "execute_result"
        }
      ],
      "source": [
        "torch.manual_seed(777)"
      ]
    },
    {
      "cell_type": "markdown",
      "id": "20dd223e",
      "metadata": {
        "id": "20dd223e"
      },
      "source": [
        "# 데이터 로드"
      ]
    },
    {
      "cell_type": "code",
      "execution_count": null,
      "id": "76a9defa",
      "metadata": {
        "id": "76a9defa"
      },
      "outputs": [],
      "source": [
        "train_trans = transforms.Compose([\n",
        "    transforms.ToTensor(),\n",
        "    transforms.Normalize(mean=0.1307, std=0.3081),\n",
        "])\n",
        "\n",
        "test_trans = transforms.Compose([\n",
        "    transforms.ToTensor(),\n",
        "    transforms.Normalize(mean=0.1307, std=0.3081)\n",
        "])"
      ]
    },
    {
      "cell_type": "code",
      "execution_count": null,
      "id": "fa5c0939",
      "metadata": {
        "id": "fa5c0939"
      },
      "outputs": [],
      "source": [
        "train_data = MNIST(root='./data', download=True, train=True, transform=train_trans)\n",
        "test_data = MNIST(root='./data', download=True, train=False, transform=test_trans)"
      ]
    },
    {
      "cell_type": "code",
      "execution_count": null,
      "id": "a9edef42",
      "metadata": {
        "id": "a9edef42"
      },
      "outputs": [],
      "source": [
        "batch_size = 128\n",
        "train_load = DataLoader(train_data, batch_size, num_workers=2, shuffle=True)\n",
        "test_load = DataLoader(test_data, batch_size, num_workers=2, shuffle=True)"
      ]
    },
    {
      "cell_type": "markdown",
      "id": "a317b9a5",
      "metadata": {
        "id": "a317b9a5"
      },
      "source": [
        "# GRU Cell을 이용한 RNN 구현"
      ]
    },
    {
      "cell_type": "markdown",
      "source": [
        "## single_gru"
      ],
      "metadata": {
        "id": "fqzjEd3DttUu"
      },
      "id": "fqzjEd3DttUu"
    },
    {
      "cell_type": "code",
      "execution_count": null,
      "id": "fe5cd4d7",
      "metadata": {
        "id": "fe5cd4d7"
      },
      "outputs": [],
      "source": [
        "# GRUCell 구현\n",
        "class RNN(nn.Module):\n",
        "    def __init__(self, input_size, sequence_length ,hidden_size, layer_size, num_class, batch_size):\n",
        "        super(RNN, self).__init__()\n",
        "        \n",
        "        self.hidden_size = hidden_size\n",
        "        self.input_size = input_size\n",
        "        self.layer = layer_size\n",
        "        self.num_class = num_class\n",
        "\n",
        "        self.seq = sequence_length\n",
        "        self.gru = nn.GRUCell(self.input_size, self.hidden_size*2)\n",
        "        self.fc = nn.Linear(self.hidden_size*2, self.num_class)\n",
        "      \n",
        "        \n",
        "    def forward(self, x, test=False, label=None):\n",
        "        if test == False:\n",
        "            hx = torch.zeros(self.layer, x.size(0), self.hidden_size*2).to('cuda')\n",
        "\n",
        "            hx = hx[0,:,:] # 차원을 줄이기 위해 사용\n",
        "            out = []\n",
        "            for i in range(self.seq):\n",
        "                hx = self.gru(x[:, i ,:], hx) # 입력 size = > (batch_size, input_size) hx = > (batch_size, hidden_size)\n",
        "                out.append(hx)\n",
        "\n",
        "            out = self.fc(out[-1])\n",
        "\n",
        "            return out\n",
        "        else:\n",
        "            hx = torch.zeros(self.layer, x.size(0), self.hidden_size*2).to('cuda')\n",
        "            hx = hx[0,:,:] # 차원을 줄이기 위해 사용\n",
        "            for i in range(self.seq):\n",
        "                hx = self.gru(x[:, i ,:], hx) # 입력 size = > (batch_size, input_size) hx = > (batch_size, hidden_size)\n",
        "                out = self.fc(hx)\n",
        "                pred = out.max(1, keepdim=True)[1]\n",
        "                acc = pred.eq(label.view_as(pred)).sum().item()\n",
        "                if acc == self.batch_size:\n",
        "                    #print(f'time step {i}')\n",
        "                    return out\n",
        "            \n",
        "            return out\n",
        "                \n",
        "                \n",
        "        "
      ]
    },
    {
      "cell_type": "markdown",
      "source": [
        "## multi_gru"
      ],
      "metadata": {
        "id": "NPGzWoStty1C"
      },
      "id": "NPGzWoStty1C"
    },
    {
      "cell_type": "code",
      "source": [
        "# GRUCell 구현\n",
        "class Multi_RNN(nn.Module):\n",
        "    def __init__(self, input_size, sequence_length ,hidden_size, layer_size, num_class, batch_size):\n",
        "        super(Multi_RNN, self).__init__()\n",
        "        \n",
        "        self.hidden_size = hidden_size\n",
        "        self.input_size = input_size\n",
        "        self.layer = layer_size\n",
        "        self.num_class = num_class\n",
        "        self.batch_size = batch_size\n",
        "        self.seq = sequence_length\n",
        "        self.gru1 = nn.GRUCell(self.input_size, self.hidden_size)\n",
        "        self.gru2 = nn.GRUCell(self.hidden_size, self.hidden_size*2)\n",
        "        self.gru3 = nn.GRUCell(self.hidden_size*2, self.hidden_size*4)\n",
        "        self.dropout = nn.Dropout(0.5)\n",
        "        \n",
        "        self.fc = nn.Linear(self.hidden_size*4, self.num_class)\n",
        "        \n",
        "        \n",
        "    def forward(self, x, test=False, label=None):\n",
        "        if test == False:\n",
        "            hx1 = torch.zeros(x.size(0), self.hidden_size).to('cuda')\n",
        "            hx2 = torch.zeros(x.size(0), self.hidden_size*2).to('cuda')\n",
        "            hx3 = torch.zeros(x.size(0), self.hidden_size*4).to('cuda')\n",
        "            out = []\n",
        "            for i in range(self.seq):\n",
        "                hx1 = self.gru1(x[:, i ,:], hx1) # 입력 size = > (batch_size, input_size) hx = > (batch_size, hidden_size)\n",
        "                hx1 = self.dropout(hx1)\n",
        "                hx2 = self.gru2(hx1, hx2)\n",
        "                hx2 = self.dropout(hx2)\n",
        "                hx3 = self.gru3(hx2, hx3)\n",
        "                \n",
        "                out.append(hx3)\n",
        "\n",
        "            out = self.fc(out[-1])\n",
        "\n",
        "            return out\n",
        "        else:\n",
        "            hx1 = torch.zeros(x.size(0), self.hidden_size).to('cuda')\n",
        "            hx2 = torch.zeros(x.size(0), self.hidden_size*2).to('cuda')\n",
        "            hx3 = torch.zeros(x.size(0), self.hidden_size*4).to('cuda')\n",
        "            out = []\n",
        "            for i in range(self.seq):\n",
        "                hx1 = self.gru1(x[:, i ,:], hx1) # 입력 size = > (batch_size, input_size) hx = > (batch_size, hidden_size)\n",
        "                hx2 = self.gru2(hx1, hx2)\n",
        "                hx3 = self.gru3(hx2, hx3)\n",
        "                out = self.fc(hx3)\n",
        "                pred = out.max(1, keepdim=True)[1]\n",
        "                acc = pred.eq(label.view_as(pred)).sum().item()\n",
        "                if acc == self.batch_size:\n",
        "                    #print(f'time step {i}')\n",
        "                    return out\n",
        "            \n",
        "            return out\n",
        "                "
      ],
      "metadata": {
        "id": "d7v3_3_rt4nQ"
      },
      "id": "d7v3_3_rt4nQ",
      "execution_count": null,
      "outputs": []
    },
    {
      "cell_type": "markdown",
      "id": "77af700d",
      "metadata": {
        "id": "77af700d"
      },
      "source": [
        "# 학습 설정 및 모델 객체화"
      ]
    },
    {
      "cell_type": "code",
      "execution_count": null,
      "id": "1ea0f329",
      "metadata": {
        "id": "1ea0f329"
      },
      "outputs": [],
      "source": [
        "sequence_length = 28\n",
        "input_size = 28\n",
        "hidden_size = 128\n",
        "\n",
        "num_classes = 10\n",
        "\n",
        "model = RNN(input_size, sequence_length, hidden_size, num_layers, num_classes, batch_size)"
      ]
    },
    {
      "cell_type": "markdown",
      "id": "59107490",
      "metadata": {
        "id": "59107490"
      },
      "source": [
        "# 모델 학습 및 평가"
      ]
    },
    {
      "cell_type": "code",
      "execution_count": null,
      "id": "01fb7bf8",
      "metadata": {
        "id": "01fb7bf8"
      },
      "outputs": [],
      "source": [
        "# 평가 함수\n",
        "def evaluate(model, test_loader):\n",
        "    model.eval()\n",
        "    \n",
        "    val_loss = 0\n",
        "    correct = 0\n",
        "    \n",
        "    with torch.no_grad():\n",
        "        for batch_idx, sample in enumerate(test_loader):\n",
        "            data, label = sample\n",
        "            data = data.reshape(-1, 28, 28)\n",
        "            data = data.to(cuda)\n",
        "            label = label.to(cuda)\n",
        "\n",
        "            output = model(data, True, label)\n",
        "            loss = criterion(output,label)\n",
        "            val_loss += loss.item()\n",
        "\n",
        "            prediction = output.max(1, keepdim=True)[1]\n",
        "            correct += prediction.eq(label.view_as(prediction)).sum().item()\n",
        "\n",
        "        val_loss /= len(test_loader.dataset)\n",
        "        val_acc = (100. * correct) / len(test_loader.dataset)\n",
        "\n",
        "\n",
        "    return val_loss, val_acc"
      ]
    },
    {
      "cell_type": "code",
      "execution_count": null,
      "id": "ac6adae2",
      "metadata": {
        "id": "ac6adae2",
        "outputId": "d22df70c-655b-4de8-f645-71a6e1b6c6c4"
      },
      "outputs": [
        {
          "name": "stdout",
          "output_type": "stream",
          "text": [
            "epoch : 1\t Loss : 0.006460\t Acc : 71.205\n",
            "0.00261277726739645 89.56\n",
            "epoch : 2\t Loss : 0.001987\t Acc : 92.355\n",
            "0.0013211830578744412 94.78\n",
            "epoch : 3\t Loss : 0.001182\t Acc : 95.56666666666666\n",
            "0.0008250142117962241 96.83\n",
            "epoch : 4\t Loss : 0.000838\t Acc : 96.90166666666667\n",
            "0.0007529868412762881 97.24\n",
            "epoch : 5\t Loss : 0.000692\t Acc : 97.34333333333333\n",
            "0.0005943833074532449 97.7\n",
            "epoch : 6\t Loss : 0.000575\t Acc : 97.875\n",
            "0.0005340178694576025 97.96\n",
            "epoch : 7\t Loss : 0.000481\t Acc : 98.22666666666667\n",
            "0.0004551753137260675 98.23\n",
            "epoch : 8\t Loss : 0.000449\t Acc : 98.30333333333333\n",
            "0.0005164464157540351 98.05\n",
            "epoch : 9\t Loss : 0.000392\t Acc : 98.485\n",
            "0.0004784300486091524 98.31\n",
            "epoch : 10\t Loss : 0.000334\t Acc : 98.69833333333334\n",
            "0.0004857259118463844 98.33\n",
            "epoch : 11\t Loss : 0.000294\t Acc : 98.87166666666667\n",
            "0.00037787168599897995 98.65\n",
            "epoch : 12\t Loss : 0.000255\t Acc : 98.99333333333334\n",
            "0.00042012152737006545 98.78\n",
            "epoch : 13\t Loss : 0.000237\t Acc : 99.10166666666667\n",
            "0.0003664981432259083 98.65\n",
            "epoch : 14\t Loss : 0.000211\t Acc : 99.22166666666666\n",
            "0.00039530916099902243 98.7\n",
            "epoch : 15\t Loss : 0.000199\t Acc : 99.21833333333333\n",
            "0.00043434252685401587 98.62\n",
            "epoch : 16\t Loss : 0.000193\t Acc : 99.28166666666667\n",
            "0.00040095719161909073 98.82\n",
            "epoch : 17\t Loss : 0.000178\t Acc : 99.29\n",
            "0.0003752326044603251 98.8\n",
            "epoch : 18\t Loss : 0.000150\t Acc : 99.42833333333333\n",
            "0.00038205127011751755 98.74\n",
            "epoch : 19\t Loss : 0.000169\t Acc : 99.32\n",
            "0.00032215329774553536 98.97\n",
            "epoch : 20\t Loss : 0.000137\t Acc : 99.47666666666667\n",
            "0.0003836306640179828 98.88\n",
            "epoch : 21\t Loss : 0.000098\t Acc : 99.64\n",
            "0.0003571653841790976 99.11\n",
            "epoch : 22\t Loss : 0.000097\t Acc : 99.61333333333333\n",
            "0.0004070280176354572 98.91\n",
            "epoch : 23\t Loss : 0.000098\t Acc : 99.615\n",
            "0.0003695065098036139 98.97\n",
            "epoch : 24\t Loss : 0.000091\t Acc : 99.66666666666667\n",
            "0.00038808606726524887 98.98\n",
            "epoch : 25\t Loss : 0.000086\t Acc : 99.67333333333333\n",
            "0.00043735036045618474 98.84\n",
            "epoch : 26\t Loss : 0.000089\t Acc : 99.65666666666667\n",
            "0.000426710422958422 99.02\n",
            "epoch : 27\t Loss : 0.000080\t Acc : 99.7\n",
            "0.0004630439377069706 98.7\n",
            "epoch : 28\t Loss : 0.000089\t Acc : 99.63333333333334\n",
            "0.0004296432390139671 98.96\n",
            "epoch : 29\t Loss : 0.000080\t Acc : 99.67333333333333\n",
            "0.0004962315559714625 98.91\n",
            "epoch : 30\t Loss : 0.000077\t Acc : 99.69166666666666\n",
            "0.0004407101876542583 98.9\n",
            "epoch : 31\t Loss : 0.000043\t Acc : 99.86\n",
            "0.0005486580077566031 98.71\n",
            "epoch : 32\t Loss : 0.000053\t Acc : 99.79166666666667\n",
            "0.00047928690738317526 98.97\n",
            "epoch : 33\t Loss : 0.000044\t Acc : 99.845\n",
            "0.00045384164414244877 99.0\n",
            "epoch : 34\t Loss : 0.000035\t Acc : 99.875\n",
            "0.0005039234998923917 98.97\n",
            "epoch : 35\t Loss : 0.000058\t Acc : 99.79166666666667\n",
            "0.0004777609982149443 99.0\n",
            "epoch : 36\t Loss : 0.000038\t Acc : 99.86666666666666\n",
            "0.0004445318422240234 99.04\n",
            "epoch : 37\t Loss : 0.000043\t Acc : 99.81\n",
            "0.0005369614211580483 98.87\n",
            "epoch : 38\t Loss : 0.000042\t Acc : 99.845\n",
            "0.0006051456692373904 99.04\n",
            "epoch : 39\t Loss : 0.000048\t Acc : 99.8\n",
            "0.0005168473656554852 98.92\n",
            "epoch : 40\t Loss : 0.000042\t Acc : 99.83333333333333\n",
            "0.0005054921322211157 98.88\n",
            "epoch : 41\t Loss : 0.000025\t Acc : 99.90166666666667\n",
            "0.00045938793905224884 99.03\n",
            "epoch : 42\t Loss : 0.000013\t Acc : 99.95166666666667\n",
            "0.0005234533916540385 99.06\n",
            "epoch : 43\t Loss : 0.000031\t Acc : 99.88833333333334\n",
            "0.0005166240953754823 98.9\n",
            "epoch : 44\t Loss : 0.000031\t Acc : 99.865\n",
            "0.0006191626665836338 98.92\n",
            "epoch : 45\t Loss : 0.000029\t Acc : 99.89166666666667\n",
            "0.0005375379317807358 99.01\n",
            "epoch : 46\t Loss : 0.000023\t Acc : 99.915\n",
            "0.0005392521815414512 99.01\n",
            "epoch : 47\t Loss : 0.000023\t Acc : 99.92\n",
            "0.0006253314682893688 98.85\n",
            "epoch : 48\t Loss : 0.000011\t Acc : 99.96\n",
            "0.0005562864994239589 99.03\n",
            "epoch : 49\t Loss : 0.000029\t Acc : 99.90333333333334\n",
            "0.0006236396834246989 98.9\n",
            "epoch : 50\t Loss : 0.000043\t Acc : 99.84833333333333\n",
            "0.0005054540528779853 99.07\n"
          ]
        }
      ],
      "source": [
        "opt = torch.optim.Adam([param for param in model.parameters() if param.requires_grad], lr=0.001)\n",
        "\n",
        "# 미분값이 0에 가까워질수록 학습률을 줄여주기 위해 사용한다. lr에 감마값을 곱해준다.\n",
        "\n",
        "scheduler = torch.optim.lr_scheduler.StepLR(opt,step_size = 10, gamma = 0.8) \n",
        "criterion = nn.CrossEntropyLoss().to(cuda)\n",
        "model = model.to(cuda)\n",
        "train_acc = []\n",
        "train_loss = []\n",
        "\n",
        "test_acc = []\n",
        "test_loss = []\n",
        "\n",
        "for epoch in range(50):\n",
        "    model.train()\n",
        "\n",
        "    accuracy = 0\n",
        "    loss_ = 0\n",
        "    \n",
        "    loss_test = 0\n",
        "    accuracy_test = 0\n",
        "\n",
        "    for batch, train in enumerate(train_load):\n",
        "        data, label = train\n",
        "\n",
        "        data = data.reshape(-1, 28, 28)\n",
        "        data = data.to(cuda)\n",
        "        label = label.to(cuda)\n",
        "\n",
        "        out = model(data)\n",
        "\n",
        "        loss = criterion(out, label)\n",
        "\n",
        "        loss_ += loss.item()\n",
        "\n",
        "        pred = out.max(1, keepdim=True)[1]\n",
        "\n",
        "        acc = pred.eq(label.view_as(pred)).sum().item()\n",
        "\n",
        "        accuracy += acc\n",
        "\n",
        "        opt.zero_grad()\n",
        "        loss.backward()\n",
        "        opt.step()\n",
        "\n",
        "        \n",
        "    epoch_loss = loss_ / len(train_load.dataset)\n",
        "    epoch_acc = (100.*accuracy) / len(train_load.dataset)\n",
        "    \n",
        "    train_loss.append(epoch_loss)\n",
        "    train_acc.append(epoch_acc)\n",
        "    \n",
        "    print(f'epoch : {epoch+1}\\t Loss : {epoch_loss:.6f}\\t Acc : {epoch_acc}')\n",
        "    loss_test, accuracy_test = evaluate(model, test_load)\n",
        "    test_loss.append(loss_test)\n",
        "    test_acc.append(accuracy_test)\n",
        "    \n",
        "    print(loss_test, accuracy_test)\n",
        "\n",
        "    scheduler.step()\n"
      ]
    },
    {
      "cell_type": "code",
      "execution_count": null,
      "id": "b692e856",
      "metadata": {
        "id": "b692e856",
        "outputId": "addbc536-4ed9-400e-a314-7048293baf8c"
      },
      "outputs": [
        {
          "name": "stdout",
          "output_type": "stream",
          "text": [
            "(0.0005253338096883453, 98.99)\n"
          ]
        }
      ],
      "source": [
        "print(evaluate(model, test_load))"
      ]
    },
    {
      "cell_type": "markdown",
      "id": "9b9bf9d4",
      "metadata": {
        "id": "9b9bf9d4"
      },
      "source": [
        "# GRU 구현"
      ]
    },
    {
      "cell_type": "code",
      "execution_count": null,
      "id": "0a24cd09",
      "metadata": {
        "id": "0a24cd09"
      },
      "outputs": [],
      "source": [
        "class RNN2(nn.Module):\n",
        "    def __init__(self, input_size, hidden_size, layer_size, num_class):\n",
        "        super(RNN2, self).__init__()\n",
        "        self.hidden_size = hidden_size\n",
        "        self.input_size = input_size\n",
        "        self.layer = layer_size\n",
        "        self.num_class = num_class\n",
        "        \n",
        "        self.gru = nn.GRU(input_size, self.hidden_size*2, self.layer, batch_first=True)\n",
        "        #self.fc = nn.Linear(self.hidden_size, self.num_class)\n",
        "        self.fc = nn.Sequential(\n",
        "            nn.Linear(self.hidden_size*2, 128),\n",
        "            nn.ReLU(),\n",
        "            nn.Dropout(0.5),\n",
        "            nn.Linear(128, 64),\n",
        "            nn.ReLU(),\n",
        "            nn.Linear(64, 10)\n",
        "        )\n",
        "        \n",
        "    def forward(self, x):\n",
        "        hx = torch.zeros(self.layer, x.size(0), self.hidden_size*2).to('cuda')\n",
        "        out, _ = self.gru(x, hx)\n",
        "        out = self.fc(out[:, -1, :])\n",
        "    \n",
        "        return out"
      ]
    },
    {
      "cell_type": "markdown",
      "id": "6cb7b29d",
      "metadata": {
        "id": "6cb7b29d"
      },
      "source": [
        "# 학습 설정 및 모델 객체화"
      ]
    },
    {
      "cell_type": "code",
      "execution_count": null,
      "id": "c881d5b4",
      "metadata": {
        "id": "c881d5b4"
      },
      "outputs": [],
      "source": [
        "input_size = 28\n",
        "hidden_size = 128\n",
        "num_layers = 1\n",
        "num_classes = 10\n",
        "\n",
        "model = RNN2(input_size, hidden_size, num_layers, num_classes)"
      ]
    },
    {
      "cell_type": "markdown",
      "id": "6fc418fd",
      "metadata": {
        "id": "6fc418fd"
      },
      "source": [
        "# 모델 학습 및 평가"
      ]
    },
    {
      "cell_type": "code",
      "execution_count": null,
      "id": "bc471285",
      "metadata": {
        "id": "bc471285"
      },
      "outputs": [],
      "source": [
        "def evaluate(model, test_loader):\n",
        "    model.eval()\n",
        "    \n",
        "    val_loss = 0\n",
        "    correct = 0\n",
        "    \n",
        "    with torch.no_grad():\n",
        "        for batch_idx, sample in enumerate(test_loader):\n",
        "            data, label = sample\n",
        "            data = data.reshape(-1, 28, 28)\n",
        "            data = data.to(cuda)\n",
        "            label = label.to(cuda)\n",
        "\n",
        "            output = model(data)\n",
        "            loss = criterion(output,label)\n",
        "            val_loss += loss.item()\n",
        "\n",
        "            prediction = output.max(1, keepdim=True)[1]\n",
        "            correct += prediction.eq(label.view_as(prediction)).sum().item()\n",
        "\n",
        "        val_loss /= len(test_loader.dataset)\n",
        "        val_acc = (100. * correct) / len(test_loader.dataset)\n",
        "\n",
        "\n",
        "    return val_loss, val_acc"
      ]
    },
    {
      "cell_type": "code",
      "execution_count": null,
      "id": "5f9cdae4",
      "metadata": {
        "id": "5f9cdae4",
        "outputId": "9b256c90-6a24-4e06-b82d-2016c72d1cd9"
      },
      "outputs": [
        {
          "name": "stdout",
          "output_type": "stream",
          "text": [
            "epoch : 1\t Loss : 0.006663\t Acc : 70.40666666666667\n",
            "0.0024453244104981424 90.91\n",
            "epoch : 2\t Loss : 0.001954\t Acc : 92.89166666666667\n",
            "0.0012103027317672968 95.1\n",
            "epoch : 3\t Loss : 0.001088\t Acc : 96.085\n",
            "0.0007962903561070561 96.98\n",
            "epoch : 4\t Loss : 0.000762\t Acc : 97.275\n",
            "0.0005699967806227505 97.78\n",
            "epoch : 5\t Loss : 0.000600\t Acc : 97.885\n",
            "0.0006052789299050346 98.04\n",
            "epoch : 6\t Loss : 0.000489\t Acc : 98.23666666666666\n",
            "0.0005076343753607944 98.35\n",
            "epoch : 7\t Loss : 0.000420\t Acc : 98.52666666666667\n",
            "0.0005031658638035879 98.25\n",
            "epoch : 8\t Loss : 0.000375\t Acc : 98.66\n",
            "0.0004693086785962805 98.19\n",
            "epoch : 9\t Loss : 0.000329\t Acc : 98.79333333333334\n",
            "0.0004163190145744011 98.51\n",
            "epoch : 10\t Loss : 0.000289\t Acc : 99.015\n",
            "0.00036647669021040204 98.83\n",
            "epoch : 11\t Loss : 0.000225\t Acc : 99.21666666666667\n",
            "0.00036139820822281765 98.79\n",
            "epoch : 12\t Loss : 0.000209\t Acc : 99.235\n",
            "0.000394527717854362 98.73\n",
            "epoch : 13\t Loss : 0.000185\t Acc : 99.305\n",
            "0.0003511115780798718 98.81\n",
            "epoch : 14\t Loss : 0.000174\t Acc : 99.355\n",
            "0.00033542529880069196 99.01\n",
            "epoch : 15\t Loss : 0.000162\t Acc : 99.41166666666666\n",
            "0.00035034345278636464 98.98\n",
            "epoch : 16\t Loss : 0.000155\t Acc : 99.43666666666667\n",
            "0.0004431513165908655 98.62\n",
            "epoch : 17\t Loss : 0.000137\t Acc : 99.47666666666667\n",
            "0.0004015941760131682 98.85\n",
            "epoch : 18\t Loss : 0.000116\t Acc : 99.59166666666667\n",
            "0.00032517778208457457 99.02\n",
            "epoch : 19\t Loss : 0.000120\t Acc : 99.545\n",
            "0.0004294731440139003 98.68\n",
            "epoch : 20\t Loss : 0.000105\t Acc : 99.59833333333333\n",
            "0.0003564858587604249 98.99\n",
            "epoch : 21\t Loss : 0.000086\t Acc : 99.68833333333333\n",
            "0.0004006750471988198 98.86\n",
            "epoch : 22\t Loss : 0.000067\t Acc : 99.77333333333333\n",
            "0.00039718223659338035 98.87\n",
            "epoch : 23\t Loss : 0.000076\t Acc : 99.73833333333333\n",
            "0.0003522999388340395 99.05\n",
            "epoch : 24\t Loss : 0.000074\t Acc : 99.74333333333334\n",
            "0.0003780072893368924 98.96\n",
            "epoch : 25\t Loss : 0.000056\t Acc : 99.81833333333333\n",
            "0.0003526699745667429 99.09\n",
            "epoch : 26\t Loss : 0.000050\t Acc : 99.835\n",
            "0.0004195058616689494 98.95\n",
            "epoch : 27\t Loss : 0.000080\t Acc : 99.73166666666667\n",
            "0.0003545619180180438 98.98\n",
            "epoch : 28\t Loss : 0.000057\t Acc : 99.82166666666667\n",
            "0.0004560409015141886 99.01\n",
            "epoch : 29\t Loss : 0.000057\t Acc : 99.79166666666667\n",
            "0.0004939730365862488 98.88\n",
            "epoch : 30\t Loss : 0.000073\t Acc : 99.73333333333333\n",
            "0.0004630603773985058 98.67\n",
            "epoch : 31\t Loss : 0.000035\t Acc : 99.86333333333333\n",
            "0.00044284521953100013 99.09\n",
            "epoch : 32\t Loss : 0.000024\t Acc : 99.90833333333333\n",
            "0.0004552040214442968 99.1\n",
            "epoch : 33\t Loss : 0.000030\t Acc : 99.89833333333333\n",
            "0.0004437538320304043 99.01\n",
            "epoch : 34\t Loss : 0.000047\t Acc : 99.82\n",
            "0.0004033450733193604 99.06\n",
            "epoch : 35\t Loss : 0.000026\t Acc : 99.905\n",
            "0.00038157474776276103 99.12\n",
            "epoch : 36\t Loss : 0.000010\t Acc : 99.97\n",
            "0.0003929790964791209 99.25\n",
            "epoch : 37\t Loss : 0.000051\t Acc : 99.82666666666667\n",
            "0.00040112362261279485 99.06\n",
            "epoch : 38\t Loss : 0.000039\t Acc : 99.85166666666667\n",
            "0.0004250215968554585 99.06\n",
            "epoch : 39\t Loss : 0.000021\t Acc : 99.93166666666667\n",
            "0.00037891195694764976 99.11\n",
            "epoch : 40\t Loss : 0.000036\t Acc : 99.875\n",
            "0.0004536832615174717 98.99\n",
            "epoch : 41\t Loss : 0.000022\t Acc : 99.925\n",
            "0.00039950630423873007 99.16\n",
            "epoch : 42\t Loss : 0.000012\t Acc : 99.95666666666666\n",
            "0.00039574448932658013 99.23\n",
            "epoch : 43\t Loss : 0.000009\t Acc : 99.98\n",
            "0.0003891181160572728 99.17\n",
            "epoch : 44\t Loss : 0.000016\t Acc : 99.94333333333333\n",
            "0.0004952786618742607 99.04\n",
            "epoch : 45\t Loss : 0.000038\t Acc : 99.875\n",
            "0.0003756747399531349 99.18\n",
            "epoch : 46\t Loss : 0.000033\t Acc : 99.885\n",
            "0.0003934547655952656 99.2\n",
            "epoch : 47\t Loss : 0.000011\t Acc : 99.95666666666666\n",
            "0.0004064722979290764 99.15\n",
            "epoch : 48\t Loss : 0.000025\t Acc : 99.91833333333334\n",
            "0.0004397789855696146 99.05\n",
            "epoch : 49\t Loss : 0.000009\t Acc : 99.95666666666666\n",
            "0.00048110583237106537 99.07\n",
            "epoch : 50\t Loss : 0.000026\t Acc : 99.94166666666666\n",
            "0.0004357078265958627 99.19\n"
          ]
        }
      ],
      "source": [
        "opt = torch.optim.Adam([param for param in model.parameters() if param.requires_grad], lr=0.001)\n",
        "\n",
        "# 미분값이 0에 가까워질수록 학습률을 줄여주기 위해 사용한다. lr에 감마값을 곱해준다.\n",
        "\n",
        "scheduler = torch.optim.lr_scheduler.StepLR(opt,step_size = 10, gamma = 0.8) \n",
        "criterion = nn.CrossEntropyLoss().to(cuda)\n",
        "model = model.to(cuda)\n",
        "train_acc = []\n",
        "train_loss = []\n",
        "\n",
        "test_acc = []\n",
        "test_loss = []\n",
        "\n",
        "for epoch in range(50):\n",
        "    model.train()\n",
        "\n",
        "    accuracy = 0\n",
        "    loss_ = 0\n",
        "    \n",
        "    loss_test = 0\n",
        "    accuracy_test = 0\n",
        "\n",
        "    for batch, train in enumerate(train_load):\n",
        "        data, label = train\n",
        "\n",
        "        data = data.reshape(-1, 28, 28)\n",
        "        data = data.to(cuda)\n",
        "        label = label.to(cuda)\n",
        "\n",
        "        out = model(data)\n",
        "\n",
        "        loss = criterion(out, label)\n",
        "\n",
        "        loss_ += loss.item()\n",
        "\n",
        "        pred = out.max(1, keepdim=True)[1]\n",
        "\n",
        "        acc = pred.eq(label.view_as(pred)).sum().item()\n",
        "\n",
        "        accuracy += acc\n",
        "\n",
        "        opt.zero_grad()\n",
        "        loss.backward()\n",
        "        opt.step()\n",
        "\n",
        "        \n",
        "    epoch_loss = loss_ / len(train_load.dataset)\n",
        "    epoch_acc = (100.*accuracy) / len(train_load.dataset)\n",
        "    \n",
        "    train_loss.append(epoch_loss)\n",
        "    train_acc.append(epoch_acc)\n",
        "    \n",
        "    print(f'epoch : {epoch+1}\\t Loss : {epoch_loss:.6f}\\t Acc : {epoch_acc}')\n",
        "    loss_test, accuracy_test = evaluate(model, test_load)\n",
        "    test_loss.append(loss_test)\n",
        "    test_acc.append(accuracy_test)\n",
        "    \n",
        "    print(loss_test, accuracy_test)\n",
        "\n",
        "    scheduler.step()\n"
      ]
    },
    {
      "cell_type": "code",
      "execution_count": null,
      "id": "4b68ca46",
      "metadata": {
        "id": "4b68ca46",
        "outputId": "51a8cf5d-0438-4045-d320-ec67b33eb7e0"
      },
      "outputs": [
        {
          "name": "stdout",
          "output_type": "stream",
          "text": [
            "(0.0004357078284192916, 99.19)\n"
          ]
        }
      ],
      "source": [
        "print(evaluate(model, test_load))"
      ]
    },
    {
      "cell_type": "markdown",
      "id": "d0613f00",
      "metadata": {
        "id": "d0613f00"
      },
      "source": [
        "# 학습과정 시각화"
      ]
    },
    {
      "cell_type": "code",
      "execution_count": null,
      "id": "6481a79f",
      "metadata": {
        "id": "6481a79f"
      },
      "outputs": [],
      "source": [
        "%matplotlib inline\n",
        "import matplotlib.pyplot as plt"
      ]
    },
    {
      "cell_type": "code",
      "execution_count": null,
      "id": "cb0986a8",
      "metadata": {
        "id": "cb0986a8",
        "outputId": "b63cfd19-6e33-4b39-9937-7abd1e746760"
      },
      "outputs": [
        {
          "data": {
            "image/png": "[encoded data removed]",
            "text/plain": [
              "<Figure size 432x288 with 1 Axes>"
            ]
          },
          "metadata": {
            "needs_background": "light"
          },
          "output_type": "display_data"
        }
      ],
      "source": [
        "plt.plot(train_acc, 'b', label='train')\n",
        "plt.plot(test_acc, 'r', label='test')\n",
        "plt.legend()\n",
        "plt.show()"
      ]
    },
    {
      "cell_type": "code",
      "execution_count": null,
      "id": "4f161d08",
      "metadata": {
        "id": "4f161d08",
        "outputId": "415b6e10-7866-4680-dca8-9b3bf929f350"
      },
      "outputs": [
        {
          "data": {
            "image/png": "[encoded data removed]",
            "text/plain": [
              "<Figure size 432x288 with 1 Axes>"
            ]
          },
          "metadata": {
            "needs_background": "light"
          },
          "output_type": "display_data"
        }
      ],
      "source": [
        "plt.plot(train_loss, 'b', label='train')\n",
        "plt.plot(test_loss, 'r', label='test')\n",
        "plt.legend()\n",
        "plt.show()"
      ]
    }
  ],
  "metadata": {
    "kernelspec": {
      "display_name": "Python 3",
      "language": "python",
      "name": "python3"
    },
    "language_info": {
      "codemirror_mode": {
        "name": "ipython",
        "version": 3
      },
      "file_extension": ".py",
      "mimetype": "text/x-python",
      "name": "python",
      "nbconvert_exporter": "python",
      "pygments_lexer": "ipython3",
      "version": "3.8.3"
    },
    "colab": {
      "name": "GRU.ipynb",
      "provenance": [],
      "collapsed_sections": []
    }
  },
  "nbformat": 4,
  "nbformat_minor": 5
}