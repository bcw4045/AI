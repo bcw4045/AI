{
  "cells": [
    {
      "cell_type": "markdown",
      "id": "8a79c53a",
      "metadata": {
        "id": "8a79c53a"
      },
      "source": [
        "# 라이브러리 임포트"
      ]
    },
    {
      "cell_type": "code",
      "execution_count": null,
      "id": "04b03563",
      "metadata": {
        "id": "04b03563"
      },
      "outputs": [],
      "source": [
        "import numpy as np\n",
        "from torchvision import transforms\n",
        "import matplotlib.pyplot as plt\n",
        "from tqdm import tqdm\n",
        "from torchvision import transforms\n",
        "import torch.nn as nn\n",
        "from torch.utils.data import DataLoader,Dataset\n",
        "import torch\n",
        "import torch.optim as optim\n",
        "from torch.autograd import Variable\n",
        "from torchvision.datasets import MNIST"
      ]
    },
    {
      "cell_type": "markdown",
      "id": "ce90f508",
      "metadata": {
        "id": "ce90f508"
      },
      "source": [
        "# CUDA 설정"
      ]
    },
    {
      "cell_type": "code",
      "execution_count": null,
      "id": "20455b5c",
      "metadata": {
        "id": "20455b5c",
        "outputId": "d29785c0-e8fa-4455-83b5-016667e0596e"
      },
      "outputs": [
        {
          "name": "stdout",
          "output_type": "stream",
          "text": [
            "cuda\n"
          ]
        }
      ],
      "source": [
        "if torch.cuda.is_available():\n",
        "    cuda = torch.device('cuda')\n",
        "else:\n",
        "    cuda = torch.device('cpu')\n",
        "\n",
        "print(cuda)"
      ]
    },
    {
      "cell_type": "code",
      "execution_count": null,
      "id": "fcb23dbc",
      "metadata": {
        "id": "fcb23dbc",
        "outputId": "a5b92ba3-423b-4707-ef86-3cea1289e255"
      },
      "outputs": [
        {
          "data": {
            "text/plain": [
              "<torch._C.Generator at 0x7f117009fa10>"
            ]
          },
          "execution_count": 3,
          "metadata": {},
          "output_type": "execute_result"
        }
      ],
      "source": [
        "torch.manual_seed(777)"
      ]
    },
    {
      "cell_type": "markdown",
      "id": "30b185f7",
      "metadata": {
        "id": "30b185f7"
      },
      "source": [
        "# 노이즈 함수 정의"
      ]
    },
    {
      "cell_type": "code",
      "execution_count": null,
      "id": "d3ff7820",
      "metadata": {
        "id": "d3ff7820"
      },
      "outputs": [],
      "source": [
        "import math\n",
        "import numbers\n",
        "import random\n",
        "import warnings\n",
        "from collections.abc import Sequence\n",
        "from typing import Tuple, List, Optional\n",
        "\n",
        "import torch\n",
        "from torch import Tensor\n",
        "\n",
        "class RandomErasing(torch.nn.Module):\n",
        "    def __init__(self, p=1, scale=(0.02, 0.33), ratio=(0.3, 3.3), value=0, inplace=False):\n",
        "        super().__init__()\n",
        "        if not isinstance(value, (numbers.Number, str, tuple, list)):\n",
        "              raise TypeError(\"Argument value should be either a number or str or a sequence\")\n",
        "        if isinstance(value, str) and value != \"random\":\n",
        "              raise ValueError(\"If value is str, it should be 'random'\")\n",
        "        if not isinstance(scale, (tuple, list)):\n",
        "              raise TypeError(\"Scale should be a sequence\")\n",
        "        if not isinstance(ratio, (tuple, list)):\n",
        "              raise TypeError(\"Ratio should be a sequence\")\n",
        "        if (scale[0] > scale[1]) or (ratio[0] > ratio[1]):\n",
        "              warnings.warn(\"Scale and ratio should be of kind (min, max)\")\n",
        "        if scale[0] < 0 or scale[1] > 1:\n",
        "              raise ValueError(\"Scale should be between 0 and 1\")\n",
        "        if p < 0 or p > 1:\n",
        "              raise ValueError(\"Random erasing probability should be between 0 and 1\")\n",
        "\n",
        "        self.p = p\n",
        "        self.scale = scale\n",
        "        self.ratio = ratio\n",
        "        self.value = value\n",
        "        self.inplace = inplace\n",
        "\n",
        "\n",
        "    def get_params(\n",
        "            self, img: Tensor, scale: Tuple[float, float], ratio: Tuple[float, float], value: Optional[List[float]] = None\n",
        "    ) -> Tuple[int, int, int, int, Tensor]:\n",
        "\n",
        "        img_c, img_h, img_w = img.shape[-3], img.shape[-2], img.shape[-1]\n",
        "        area = img_h * img_w\n",
        "\n",
        "        log_ratio = torch.log(torch.tensor(ratio))\n",
        "        for _ in range(10):\n",
        "            erase_area = area * torch.empty(1).uniform_(scale[0], scale[1]).item()\n",
        "            aspect_ratio = torch.exp(\n",
        "                torch.empty(1).uniform_(log_ratio[0], log_ratio[1])\n",
        "            ).item()\n",
        "\n",
        "            h = int(round(math.sqrt(erase_area * aspect_ratio)))\n",
        "            w = int(round(math.sqrt(erase_area / aspect_ratio)))\n",
        "            if not (h < img_h and w < img_w):\n",
        "                continue\n",
        "\n",
        "            if value is None:\n",
        "                v = torch.empty([img_c, h, w], dtype=torch.float32).normal_()\n",
        "            else:\n",
        "                v = torch.tensor(value)[:, None, None]\n",
        "\n",
        "            i = torch.randint(0, img_h - h + 1, size=(1, )).item()\n",
        "            j = torch.randint(0, img_w - w + 1, size=(1, )).item()\n",
        "            return i, j, h, w, v\n",
        "\n",
        "        # Return original image\n",
        "        return 0, 0, img_h, img_w, img\n",
        "\n",
        "\n",
        "#[docs]    \n",
        "    def forward(self, img):\n",
        "        \"\"\"\n",
        "        Args:\n",
        "            img (Tensor): Tensor image to be erased.\n",
        "\n",
        "        Returns:\n",
        "            img (Tensor): Erased Tensor image.\n",
        "        \"\"\"\n",
        "        if torch.rand(1) < self.p:\n",
        "\n",
        "            # cast self.value to script acceptable type\n",
        "            if isinstance(self.value, (int, float)):\n",
        "                value = [self.value, ]\n",
        "            elif isinstance(self.value, str):\n",
        "                value = None\n",
        "            elif isinstance(self.value, tuple):\n",
        "                value = list(self.value)\n",
        "            else:\n",
        "                value = self.value\n",
        "\n",
        "            if value is not None and not (len(value) in (1, img.shape[-3])):\n",
        "                raise ValueError(\n",
        "                    \"If value is a sequence, it should have either a single value or \"\n",
        "                    \"{} (number of input channels)\".format(img.shape[-3])\n",
        "                )\n",
        "\n",
        "            x, y, h, w, v = self.get_params(img, scale=self.scale, ratio=self.ratio, value=value)\n",
        "            return transforms.functional.erase(img, x, y, h, w, v, self.inplace)\n",
        "        return img"
      ]
    },
    {
      "cell_type": "code",
      "execution_count": null,
      "id": "13cca9eb",
      "metadata": {
        "id": "13cca9eb"
      },
      "outputs": [],
      "source": [
        "def add_noise(img):\n",
        "    noise = torch.randn(img.size())*0.2\n",
        "    noisy_img = img+noise\n",
        "    return noisy_img"
      ]
    },
    {
      "cell_type": "markdown",
      "id": "d5dd2813",
      "metadata": {
        "id": "d5dd2813"
      },
      "source": [
        "# 노이즈 시각화"
      ]
    },
    {
      "cell_type": "code",
      "execution_count": null,
      "id": "c11e3c70",
      "metadata": {
        "id": "c11e3c70",
        "outputId": "74e7a3a2-ce79-42ac-8c71-57c0f1ac202a"
      },
      "outputs": [
        {
          "name": "stdout",
          "output_type": "stream",
          "text": [
            "6\n"
          ]
        },
        {
          "data": {
            "text/plain": [
              "<matplotlib.image.AxesImage at 0x7f106262ce20>"
            ]
          },
          "execution_count": 212,
          "metadata": {},
          "output_type": "execute_result"
        },
        {
          "data": {
            "image/png": "[encoded data removed]",
            "text/plain": [
              "<Figure size 432x288 with 1 Axes>"
            ]
          },
          "metadata": {
            "needs_background": "light"
          },
          "output_type": "display_data"
        }
      ],
      "source": [
        "e = RandomErasing()\n",
        "idx = np.random.randint(0, 60000)\n",
        "origin, label = train_load.dataset[idx]\n",
        "noisy_data = add_noise(origin)\n",
        "noisy_data = e(noisy_data)\n",
        "print(label)\n",
        "plt.imshow(noisy_data.squeeze(),cmap=\"gray\")"
      ]
    },
    {
      "cell_type": "markdown",
      "id": "f2a4a174",
      "metadata": {
        "id": "f2a4a174"
      },
      "source": [
        "# 데이터 로드"
      ]
    },
    {
      "cell_type": "code",
      "execution_count": null,
      "id": "f483f2ec",
      "metadata": {
        "id": "f483f2ec"
      },
      "outputs": [],
      "source": [
        "train_trans = transforms.Compose([\n",
        "    transforms.ToTensor(),\n",
        "])\n",
        "\n",
        "test_trans = transforms.Compose([\n",
        "    transforms.ToTensor(),\n",
        "])"
      ]
    },
    {
      "cell_type": "code",
      "execution_count": null,
      "id": "52ab1250",
      "metadata": {
        "id": "52ab1250"
      },
      "outputs": [],
      "source": [
        "train_data = MNIST(root='./data', download=True, train=True, transform=train_trans)\n",
        "test_data = MNIST(root='./data', download=True, train=False, transform=test_trans)"
      ]
    },
    {
      "cell_type": "code",
      "execution_count": null,
      "id": "d86c9920",
      "metadata": {
        "id": "d86c9920"
      },
      "outputs": [],
      "source": [
        "batch_size = 128\n",
        "train_load = DataLoader(train_data, batch_size, num_workers=4, shuffle=True)\n",
        "test_load = DataLoader(test_data, batch_size, num_workers=4, shuffle=True)"
      ]
    },
    {
      "cell_type": "markdown",
      "id": "181b6dd2",
      "metadata": {
        "id": "181b6dd2"
      },
      "source": [
        "# DAE 모델 정의"
      ]
    },
    {
      "cell_type": "markdown",
      "source": [
        "## DNN_DAE"
      ],
      "metadata": {
        "id": "Og2lMKirvHRD"
      },
      "id": "Og2lMKirvHRD"
    },
    {
      "cell_type": "code",
      "execution_count": null,
      "id": "7f490144",
      "metadata": {
        "id": "7f490144"
      },
      "outputs": [],
      "source": [
        "# 층이 많은 DAE\n",
        "class DAE(nn.Module):\n",
        "    def __init__(self):\n",
        "        super(DAE, self).__init__()\n",
        "        self.Encoder = nn.Sequential(\n",
        "            nn.Linear(28*28, 256),\n",
        "            nn.ReLU(),\n",
        "            nn.Linear(256, 128),\n",
        "             nn.ReLU(),\n",
        "             nn.Linear(128, 64),\n",
        "             nn.ReLU(),\n",
        "             nn.Linear(64, 32),\n",
        "             nn.ReLU(),\n",
        "             nn.Linear(32, 3)\n",
        "        )\n",
        "        self.Decoder = nn.Sequential(\n",
        "             nn.Linear(3, 32),\n",
        "             nn.ReLU(),\n",
        "             nn.Linear(32, 64),\n",
        "             nn.ReLU(),\n",
        "             nn.Linear(64, 128),\n",
        "             nn.ReLU(),\n",
        "            nn.Linear(128, 256),\n",
        "            nn.ReLU(),\n",
        "            nn.Linear(256, 28*28),\n",
        "            nn.Sigmoid()\n",
        "        )\n",
        "        \n",
        "    def forward(self, x):\n",
        "        x=self.Encoder(x)\n",
        "        x=self.Decoder(x)\n",
        "        \n",
        "        return x"
      ]
    },
    {
      "cell_type": "code",
      "execution_count": null,
      "id": "a0d9fbda",
      "metadata": {
        "id": "a0d9fbda"
      },
      "outputs": [],
      "source": [
        "# 층이 적은 DAE\n",
        "class min_DAE(nn.Module):\n",
        "    def __init__(self):\n",
        "        super(min_DAE, self).__init__()\n",
        "        self.Encoder = nn.Sequential(\n",
        "            nn.Linear(28*28, 256),\n",
        "            nn.ReLU(),\n",
        "            nn.Linear(256, 128)\n",
        "        )\n",
        "        self.Decoder = nn.Sequential(\n",
        "            nn.Linear(128, 256),\n",
        "            nn.ReLU(),\n",
        "            nn.Linear(256, 28*28),\n",
        "            nn.Sigmoid()\n",
        "        )\n",
        "        \n",
        "    def forward(self, x):\n",
        "        x=self.Encoder(x)\n",
        "        x=self.Decoder(x)\n",
        "        \n",
        "        return x"
      ]
    },
    {
      "cell_type": "markdown",
      "source": [
        "## CNN_DAE"
      ],
      "metadata": {
        "id": "mCeyCgKAvNk-"
      },
      "id": "mCeyCgKAvNk-"
    },
    {
      "cell_type": "code",
      "source": [
        "class cnn_DAE(nn.Module):\n",
        "    def __init__(self):\n",
        "        super(cnn_DAE, self).__init__()\n",
        "        self.Encoder = nn.Sequential(\n",
        "            nn.Conv2d(1, 8, 3, 2, 1),\n",
        "            nn.ReLU(),\n",
        "            nn.Conv2d(8, 16, 3, 2, 1),\n",
        "            nn.ReLU(),\n",
        "            nn.Conv2d(16, 32, 7, 1),\n",
        "        )\n",
        "        self.Decoder = nn.Sequential(\n",
        "            nn.ConvTranspose2d(32, 16, 7, 1), # stride를 크게 줄수록 output size 증가\n",
        "            nn.ReLU(),\n",
        "            nn.ConvTranspose2d(16, 8, 3, 2, 1, 1),\n",
        "            nn.ReLU(),\n",
        "            nn.ConvTranspose2d(8, 1, 3, 2, 1, 1),\n",
        "            nn.Sigmoid()\n",
        "        )\n",
        "        \n",
        "    def forward(self, x):\n",
        "        x=self.Encoder(x)\n",
        "        x=self.Decoder(x)\n",
        "        \n",
        "        return x"
      ],
      "metadata": {
        "id": "Y6LRjmMMutYI"
      },
      "id": "Y6LRjmMMutYI",
      "execution_count": null,
      "outputs": []
    },
    {
      "cell_type": "code",
      "source": [
        "class cnn_DAE2(nn.Module):\n",
        "    def __init__(self):\n",
        "        super(cnn_DAE2, self).__init__()\n",
        "        self.Encoder = nn.Sequential(\n",
        "            nn.Conv2d(1, 16, 5, 1, 1), # output 16*26*26\n",
        "            nn.BatchNorm2d(16),\n",
        "            nn.ReLU(),\n",
        "            nn.Dropout(0.7),\n",
        "            nn.Conv2d(16, 32, 7, 1, 1), # output 32 * 22*22\n",
        "            nn.BatchNorm2d(32),\n",
        "            nn.ReLU()\n",
        "        )\n",
        "        self.fc1 = nn.Sequential(\n",
        "            nn.Linear(32*22*22, 512),\n",
        "            nn.ReLU(),\n",
        "            #nn.Dropout(0.5),\n",
        "            nn.Linear(512, 256),\n",
        "            nn.ReLU()\n",
        "        )\n",
        "        \n",
        "        self.Decoder = nn.Sequential(\n",
        "            nn.ConvTranspose2d(32, 16, 7, 1, 1),\n",
        "            nn.BatchNorm2d(16),\n",
        "            nn.ReLU(),\n",
        "            nn.ConvTranspose2d(16, 1, 5, 1, 1),\n",
        "            nn.BatchNorm2d(1),\n",
        "            nn.Sigmoid()\n",
        "        )\n",
        "        \n",
        "        self.fc2  = nn.Sequential(\n",
        "            nn.Linear(256, 512),\n",
        "            nn.ReLU(),\n",
        "            #nn.Dropout(0.5),\n",
        "            nn.Linear(512, 32*22*22),\n",
        "            nn.ReLU()\n",
        "        )\n",
        "        \n",
        "    def forward(self, x):\n",
        "        x=self.Encoder(x)\n",
        "        x=x.view(x.size(0), -1)\n",
        "        x = self.fc1(x)\n",
        "        x = self.fc2(x)\n",
        "        x = x.view(x.size(0), 32, 22, 22)\n",
        "        x=self.Decoder(x)\n",
        "        \n",
        "        return x"
      ],
      "metadata": {
        "id": "-CbkG6zQuwqk"
      },
      "id": "-CbkG6zQuwqk",
      "execution_count": null,
      "outputs": []
    },
    {
      "cell_type": "code",
      "source": [
        "class cnn_DAE3(nn.Module):\n",
        "    def __init__(self):\n",
        "        super(cnn_DAE3, self).__init__()\n",
        "        self.Encoder = nn.Sequential(\n",
        "            nn.Conv2d(1, 16, 3, 1, 1), # output 16*28*28\n",
        "            nn.BatchNorm2d(16),\n",
        "            nn.ReLU(),\n",
        "            nn.Dropout(0.5),# 0.7에 에폭 20\n",
        "            nn.Conv2d(16, 32, 5, 1), # output 16*26*26\n",
        "            nn.BatchNorm2d(32),\n",
        "            nn.ReLU(),\n",
        "            nn.Dropout(0.5),\n",
        "            nn.Conv2d(32, 64, 7, 1), # output 32 * 22*22\n",
        "            nn.BatchNorm2d(64),\n",
        "            nn.ReLU()\n",
        "        )\n",
        "        self.fc1 = nn.Sequential(\n",
        "            nn.Linear(64*22*22, 512),\n",
        "            nn.ReLU(),\n",
        "            nn.Linear(512, 256),\n",
        "            nn.ReLU()\n",
        "        )\n",
        "        \n",
        "        self.Decoder = nn.Sequential(\n",
        "            nn.ConvTranspose2d(64, 32, 7, 1, 1),\n",
        "            nn.BatchNorm2d(32),\n",
        "            nn.ReLU(),\n",
        "            nn.ConvTranspose2d(32, 16, 5, 1, 1),\n",
        "            nn.BatchNorm2d(16),\n",
        "            nn.ReLU(),\n",
        "            nn.ConvTranspose2d(16, 1, 3, 1, 1),\n",
        "            nn.BatchNorm2d(1),\n",
        "            nn.Sigmoid()\n",
        "        )\n",
        "        \n",
        "        self.fc2  = nn.Sequential(\n",
        "            nn.Linear(256, 512),\n",
        "            nn.ReLU(),\n",
        "            nn.Linear(512, 64*22*22),\n",
        "            nn.ReLU()\n",
        "        )\n",
        "        \n",
        "    def forward(self, x):\n",
        "        x=self.Encoder(x)\n",
        "        x=x.view(x.size(0), -1)\n",
        "        x = self.fc1(x)\n",
        "        x = self.fc2(x)\n",
        "        x = x.view(x.size(0), 64, 22, 22)\n",
        "        x=self.Decoder(x)\n",
        "        \n",
        "        return x"
      ],
      "metadata": {
        "id": "LCuUtdFCu303"
      },
      "id": "LCuUtdFCu303",
      "execution_count": null,
      "outputs": []
    },
    {
      "cell_type": "code",
      "source": [
        "class cnn_DAE4(nn.Module):\n",
        "    def __init__(self):\n",
        "        super(cnn_DAE4, self).__init__()\n",
        "        self.Encoder = nn.Sequential(\n",
        "            nn.Conv2d(1, 8, 5, 2, 1),\n",
        "            nn.ReLU(),\n",
        "            nn.Conv2d(8, 16, 7, 1, 1),\n",
        "        )\n",
        "        self.Decoder = nn.Sequential(\n",
        "            nn.ConvTranspose2d(16, 8, 7, 1, 1),\n",
        "            nn.ReLU(),\n",
        "            nn.ConvTranspose2d(8, 1, 5, 2, 1, 1),\n",
        "            nn.Sigmoid()\n",
        "        )\n",
        "        \n",
        "    def forward(self, x):\n",
        "        x=self.Encoder(x)\n",
        "        x=self.Decoder(x)\n",
        "        \n",
        "        return x"
      ],
      "metadata": {
        "id": "leMhtKAWu6Zy"
      },
      "id": "leMhtKAWu6Zy",
      "execution_count": null,
      "outputs": []
    },
    {
      "cell_type": "markdown",
      "id": "6ef8873d",
      "metadata": {
        "id": "6ef8873d"
      },
      "source": [
        "# 모델 평가함수 정의"
      ]
    },
    {
      "cell_type": "code",
      "execution_count": null,
      "id": "09fef73b",
      "metadata": {
        "id": "09fef73b"
      },
      "outputs": [],
      "source": [
        "def evaluate(model, test_loader):\n",
        "    model.eval()\n",
        "    e = RandomErasing() # erasion 적용을 위해 사용\n",
        "    val_loss = 0\n",
        "    \n",
        "    loss_= []\n",
        "    \n",
        "    with torch.no_grad():\n",
        "        for batch_idx, sample in enumerate(test_loader):\n",
        "            data, label = sample\n",
        "            noisy_data = add_noise(data)\n",
        "            noisy_data = e(noisy_data)\n",
        "            noisy_data = noisy_data.view(-1, 28*28)\n",
        "            noisy_data = noisy_data.to(cuda)\n",
        "\n",
        "            label = data.view(-1, 28*28)\n",
        "            label = label.to(cuda)\n",
        "\n",
        "            out = model(noisy_data)\n",
        "\n",
        "            loss = criterion(out, label)\n",
        "            val_loss += loss.item()\n",
        "\n",
        "        val_loss /= len(test_loader.dataset) \n",
        "\n",
        "\n",
        "    return val_loss"
      ]
    },
    {
      "cell_type": "markdown",
      "id": "29d7a7e8",
      "metadata": {
        "id": "29d7a7e8"
      },
      "source": [
        "# 모델 학습 설정 및 객체화"
      ]
    },
    {
      "cell_type": "code",
      "execution_count": null,
      "id": "4e9ecf48",
      "metadata": {
        "id": "4e9ecf48"
      },
      "outputs": [],
      "source": [
        "criterion = nn.MSELoss().to(cuda)\n",
        "model = DAE()\n",
        "model = model.to(cuda)\n",
        "\n",
        "opt = torch.optim.Adam([param for param in model.parameters() if param.requires_grad], lr=0.001)\n",
        "scheduler = torch.optim.lr_scheduler.StepLR(opt,step_size = 10, gamma = 0.8) "
      ]
    },
    {
      "cell_type": "markdown",
      "id": "cf1fea61",
      "metadata": {
        "id": "cf1fea61"
      },
      "source": [
        "# 모델 학습 및 평가"
      ]
    },
    {
      "cell_type": "code",
      "execution_count": null,
      "id": "15d9f362",
      "metadata": {
        "id": "15d9f362",
        "outputId": "1b749650-33e3-46f9-acee-7b4fa822747e"
      },
      "outputs": [
        {
          "name": "stdout",
          "output_type": "stream",
          "text": [
            "epoch : 1\t Loss : 0.000403\t Test Loss : 0.000279\n",
            "epoch : 2\t Loss : 0.000252\t Test Loss : 0.000218\n",
            "epoch : 3\t Loss : 0.000218\t Test Loss : 0.000213\n",
            "epoch : 4\t Loss : 0.000196\t Test Loss : 0.000192\n",
            "epoch : 5\t Loss : 0.000187\t Test Loss : 0.000178\n",
            "epoch : 6\t Loss : 0.000178\t Test Loss : 0.000182\n",
            "epoch : 7\t Loss : 0.000175\t Test Loss : 0.000177\n",
            "epoch : 8\t Loss : 0.000168\t Test Loss : 0.000178\n",
            "epoch : 9\t Loss : 0.000165\t Test Loss : 0.000179\n",
            "epoch : 10\t Loss : 0.000161\t Test Loss : 0.000164\n",
            "epoch : 11\t Loss : 0.000159\t Test Loss : 0.000164\n",
            "epoch : 12\t Loss : 0.000155\t Test Loss : 0.000161\n",
            "epoch : 13\t Loss : 0.000155\t Test Loss : 0.000155\n",
            "epoch : 14\t Loss : 0.000160\t Test Loss : 0.000162\n",
            "epoch : 15\t Loss : 0.000159\t Test Loss : 0.000155\n",
            "epoch : 16\t Loss : 0.000148\t Test Loss : 0.000154\n",
            "epoch : 17\t Loss : 0.000148\t Test Loss : 0.000159\n",
            "epoch : 18\t Loss : 0.000150\t Test Loss : 0.000141\n",
            "epoch : 19\t Loss : 0.000144\t Test Loss : 0.000144\n",
            "epoch : 20\t Loss : 0.000151\t Test Loss : 0.000154\n",
            "epoch : 21\t Loss : 0.000144\t Test Loss : 0.000150\n",
            "epoch : 22\t Loss : 0.000148\t Test Loss : 0.000160\n",
            "epoch : 23\t Loss : 0.000145\t Test Loss : 0.000153\n",
            "epoch : 24\t Loss : 0.000139\t Test Loss : 0.000150\n",
            "epoch : 25\t Loss : 0.000145\t Test Loss : 0.000140\n",
            "epoch : 26\t Loss : 0.000142\t Test Loss : 0.000144\n",
            "epoch : 27\t Loss : 0.000142\t Test Loss : 0.000139\n",
            "epoch : 28\t Loss : 0.000140\t Test Loss : 0.000146\n",
            "epoch : 29\t Loss : 0.000143\t Test Loss : 0.000145\n",
            "epoch : 30\t Loss : 0.000135\t Test Loss : 0.000128\n",
            "epoch : 31\t Loss : 0.000142\t Test Loss : 0.000139\n",
            "epoch : 32\t Loss : 0.000145\t Test Loss : 0.000147\n",
            "epoch : 33\t Loss : 0.000139\t Test Loss : 0.000148\n",
            "epoch : 34\t Loss : 0.000135\t Test Loss : 0.000144\n",
            "epoch : 35\t Loss : 0.000139\t Test Loss : 0.000128\n",
            "epoch : 36\t Loss : 0.000138\t Test Loss : 0.000138\n",
            "epoch : 37\t Loss : 0.000138\t Test Loss : 0.000144\n",
            "epoch : 38\t Loss : 0.000137\t Test Loss : 0.000133\n",
            "epoch : 39\t Loss : 0.000136\t Test Loss : 0.000142\n",
            "epoch : 40\t Loss : 0.000138\t Test Loss : 0.000144\n",
            "epoch : 41\t Loss : 0.000132\t Test Loss : 0.000147\n",
            "epoch : 42\t Loss : 0.000135\t Test Loss : 0.000135\n",
            "epoch : 43\t Loss : 0.000135\t Test Loss : 0.000133\n",
            "epoch : 44\t Loss : 0.000133\t Test Loss : 0.000134\n",
            "epoch : 45\t Loss : 0.000129\t Test Loss : 0.000139\n",
            "epoch : 46\t Loss : 0.000131\t Test Loss : 0.000128\n",
            "epoch : 47\t Loss : 0.000133\t Test Loss : 0.000140\n",
            "epoch : 48\t Loss : 0.000131\t Test Loss : 0.000132\n",
            "epoch : 49\t Loss : 0.000132\t Test Loss : 0.000136\n",
            "epoch : 50\t Loss : 0.000132\t Test Loss : 0.000138\n"
          ]
        }
      ],
      "source": [
        "train_loss = [] # train loss 값의 추이를 보기 위해 설정\n",
        "\n",
        "test_loss = [] # test loss 값의 추이를 보기 위해 설정\n",
        "\n",
        "e = RandomErasing() # erasion 적용을 위해 사용\n",
        "\n",
        "for epoch in range(50):\n",
        "    model.train()\n",
        "\n",
        "    loss_ = 0\n",
        "    \n",
        "    loss_test = 0\n",
        "\n",
        "    for batch, train in enumerate(train_load):\n",
        "        data, label = train\n",
        "        noisy_data = add_noise(data) # 노이즈 추가\n",
        "        noisy_data = e(noisy_data)\n",
        "        noisy_data = noisy_data.view(-1, 28*28) # MLP이기 때문에 차원 변경\n",
        "        noisy_data = noisy_data.to(cuda)\n",
        "        \n",
        "        label = data.view(-1, 28*28) # 라벨의 차원 변경\n",
        "        label = label.to(cuda)\n",
        "\n",
        "        out = model(noisy_data)\n",
        "\n",
        "        loss = criterion(out, label)\n",
        "\n",
        "        loss_ += loss.item()\n",
        "\n",
        "        opt.zero_grad()\n",
        "        loss.backward()\n",
        "        opt.step()\n",
        "\n",
        "        \n",
        "    epoch_loss = loss_ / len(train_load.dataset)\n",
        "    \n",
        "    train_loss.append(epoch_loss)\n",
        "    \n",
        "    loss_test = evaluate(model, test_load)\n",
        "    print(f'epoch : {epoch+1}\\t Loss : {epoch_loss:.6f}\\t Test Loss : {loss_test:.6f}')\n",
        "    \n",
        "    test_loss.append(loss_test)\n",
        "\n",
        "    scheduler.step()\n"
      ]
    },
    {
      "cell_type": "markdown",
      "id": "19aff9ae",
      "metadata": {
        "id": "19aff9ae"
      },
      "source": [
        "# 학습 결과 시각화"
      ]
    },
    {
      "cell_type": "code",
      "execution_count": null,
      "id": "fe3bce5a",
      "metadata": {
        "id": "fe3bce5a",
        "outputId": "ed3e74fe-1bcb-4e3e-de16-879546702557"
      },
      "outputs": [
        {
          "data": {
            "image/png": "[encoded data removed]",
            "text/plain": [
              "<Figure size 432x288 with 1 Axes>"
            ]
          },
          "metadata": {
            "needs_background": "light"
          },
          "output_type": "display_data"
        }
      ],
      "source": [
        "plt.plot(train_loss, 'b', label='train')\n",
        "plt.plot(test_loss, 'r', label='test')\n",
        "plt.legend()\n",
        "plt.show()"
      ]
    },
    {
      "cell_type": "code",
      "execution_count": null,
      "id": "593e0ac0",
      "metadata": {
        "id": "593e0ac0",
        "outputId": "959070ba-7453-4626-c433-3c2c13e40406"
      },
      "outputs": [
        {
          "data": {
            "image/png": "[encoded data removed]",
            "text/plain": [
              "<Figure size 1440x1440 with 30 Axes>"
            ]
          },
          "metadata": {
            "needs_background": "light"
          },
          "output_type": "display_data"
        }
      ],
      "source": [
        "test_data = []\n",
        "\n",
        "e = RandomErasing() # erasion 적용을 위해 사용\n",
        "\n",
        "f,axes= plt.subplots(10,3,figsize=(20,20))\n",
        "axes[0,0].set_title(\"Original Image\")\n",
        "axes[0,1].set_title(\"noise Image\")\n",
        "axes[0,2].set_title(\"output Image\")\n",
        "\n",
        "for i in range(10):\n",
        "    idx = np.random.randint(0, 10000)\n",
        "    origin = test_load.dataset[idx][0]\n",
        "    noisy_data = add_noise(origin)\n",
        "    noisy_data = e(noisy_data)\n",
        "    input_data = noisy_data.view(-1, 28*28).to(cuda)\n",
        "    out = model(input_data)\n",
        "    out = np.reshape(out.to(\"cpu\").data.numpy(), (28, 28))\n",
        "    \n",
        "    axes[i,0].imshow(origin.squeeze(),cmap=\"gray\")\n",
        "    axes[i,1].imshow(noisy_data.squeeze(),cmap=\"gray\")\n",
        "    axes[i,2].imshow(out,cmap=\"gray\")\n",
        "    "
      ]
    }
  ],
  "metadata": {
    "kernelspec": {
      "display_name": "Python 3",
      "language": "python",
      "name": "python3"
    },
    "language_info": {
      "codemirror_mode": {
        "name": "ipython",
        "version": 3
      },
      "file_extension": ".py",
      "mimetype": "text/x-python",
      "name": "python",
      "nbconvert_exporter": "python",
      "pygments_lexer": "ipython3",
      "version": "3.8.3"
    },
    "colab": {
      "name": "DAE_MNIST.ipynb",
      "provenance": [],
      "collapsed_sections": []
    }
  },
  "nbformat": 4,
  "nbformat_minor": 5
}